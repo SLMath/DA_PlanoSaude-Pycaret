{
  "nbformat": 4,
  "nbformat_minor": 0,
  "metadata": {
    "colab": {
      "provenance": [],
      "collapsed_sections": [
        "L5P9cxED1i25",
        "zLrNdDW6z051",
        "L2B798T-0qof",
        "zCyl5iF_AjIW"
      ],
      "mount_file_id": "1SmUjMcCCFgcNQ6jMhFL2ig1CD-hQXCQ3",
      "authorship_tag": "ABX9TyPIv11TLEyoaR0yZ4RDXfou",
      "include_colab_link": true
    },
    "kernelspec": {
      "name": "python3",
      "display_name": "Python 3"
    },
    "language_info": {
      "name": "python"
    },
    "widgets": {
      "application/vnd.jupyter.widget-state+json": {
        "a1c3e9dc00db4b1592517cf08d4447bb": {
          "model_module": "@jupyter-widgets/controls",
          "model_name": "HBoxModel",
          "model_module_version": "1.5.0",
          "state": {
            "_dom_classes": [],
            "_model_module": "@jupyter-widgets/controls",
            "_model_module_version": "1.5.0",
            "_model_name": "HBoxModel",
            "_view_count": null,
            "_view_module": "@jupyter-widgets/controls",
            "_view_module_version": "1.5.0",
            "_view_name": "HBoxView",
            "box_style": "",
            "children": [
              "IPY_MODEL_5aceee5440c94f6ab3ef085cf07aa008",
              "IPY_MODEL_91178475799d4327b1b9758c4a6fb784",
              "IPY_MODEL_5fa5ea4e316f4613ae5165a9d29cd8dd"
            ],
            "layout": "IPY_MODEL_f78760401b924871bb675f8b717fde5f"
          }
        },
        "5aceee5440c94f6ab3ef085cf07aa008": {
          "model_module": "@jupyter-widgets/controls",
          "model_name": "HTMLModel",
          "model_module_version": "1.5.0",
          "state": {
            "_dom_classes": [],
            "_model_module": "@jupyter-widgets/controls",
            "_model_module_version": "1.5.0",
            "_model_name": "HTMLModel",
            "_view_count": null,
            "_view_module": "@jupyter-widgets/controls",
            "_view_module_version": "1.5.0",
            "_view_name": "HTMLView",
            "description": "",
            "description_tooltip": null,
            "layout": "IPY_MODEL_43697020177e4a949bc1139b2bb768f1",
            "placeholder": "​",
            "style": "IPY_MODEL_78e3b807cd97413e85b58541c08415e5",
            "value": "Processing: 100%"
          }
        },
        "91178475799d4327b1b9758c4a6fb784": {
          "model_module": "@jupyter-widgets/controls",
          "model_name": "FloatProgressModel",
          "model_module_version": "1.5.0",
          "state": {
            "_dom_classes": [],
            "_model_module": "@jupyter-widgets/controls",
            "_model_module_version": "1.5.0",
            "_model_name": "FloatProgressModel",
            "_view_count": null,
            "_view_module": "@jupyter-widgets/controls",
            "_view_module_version": "1.5.0",
            "_view_name": "ProgressView",
            "bar_style": "",
            "description": "",
            "description_tooltip": null,
            "layout": "IPY_MODEL_fd70fdd947d646cb899bcdac6d676b2e",
            "max": 4,
            "min": 0,
            "orientation": "horizontal",
            "style": "IPY_MODEL_b148f7c7b2c241ca842f8f9c6d9ecc6e",
            "value": 4
          }
        },
        "5fa5ea4e316f4613ae5165a9d29cd8dd": {
          "model_module": "@jupyter-widgets/controls",
          "model_name": "HTMLModel",
          "model_module_version": "1.5.0",
          "state": {
            "_dom_classes": [],
            "_model_module": "@jupyter-widgets/controls",
            "_model_module_version": "1.5.0",
            "_model_name": "HTMLModel",
            "_view_count": null,
            "_view_module": "@jupyter-widgets/controls",
            "_view_module_version": "1.5.0",
            "_view_name": "HTMLView",
            "description": "",
            "description_tooltip": null,
            "layout": "IPY_MODEL_190c62565b0440c8b7af08875b31b40a",
            "placeholder": "​",
            "style": "IPY_MODEL_581a3db9679c49cf9b0241b31b9c8c7d",
            "value": " 4/4 [00:25&lt;00:00,  5.82s/it]"
          }
        },
        "f78760401b924871bb675f8b717fde5f": {
          "model_module": "@jupyter-widgets/base",
          "model_name": "LayoutModel",
          "model_module_version": "1.2.0",
          "state": {
            "_model_module": "@jupyter-widgets/base",
            "_model_module_version": "1.2.0",
            "_model_name": "LayoutModel",
            "_view_count": null,
            "_view_module": "@jupyter-widgets/base",
            "_view_module_version": "1.2.0",
            "_view_name": "LayoutView",
            "align_content": null,
            "align_items": null,
            "align_self": null,
            "border": null,
            "bottom": null,
            "display": null,
            "flex": null,
            "flex_flow": null,
            "grid_area": null,
            "grid_auto_columns": null,
            "grid_auto_flow": null,
            "grid_auto_rows": null,
            "grid_column": null,
            "grid_gap": null,
            "grid_row": null,
            "grid_template_areas": null,
            "grid_template_columns": null,
            "grid_template_rows": null,
            "height": null,
            "justify_content": null,
            "justify_items": null,
            "left": null,
            "margin": null,
            "max_height": null,
            "max_width": null,
            "min_height": null,
            "min_width": null,
            "object_fit": null,
            "object_position": null,
            "order": null,
            "overflow": null,
            "overflow_x": null,
            "overflow_y": null,
            "padding": null,
            "right": null,
            "top": null,
            "visibility": "hidden",
            "width": null
          }
        },
        "43697020177e4a949bc1139b2bb768f1": {
          "model_module": "@jupyter-widgets/base",
          "model_name": "LayoutModel",
          "model_module_version": "1.2.0",
          "state": {
            "_model_module": "@jupyter-widgets/base",
            "_model_module_version": "1.2.0",
            "_model_name": "LayoutModel",
            "_view_count": null,
            "_view_module": "@jupyter-widgets/base",
            "_view_module_version": "1.2.0",
            "_view_name": "LayoutView",
            "align_content": null,
            "align_items": null,
            "align_self": null,
            "border": null,
            "bottom": null,
            "display": null,
            "flex": null,
            "flex_flow": null,
            "grid_area": null,
            "grid_auto_columns": null,
            "grid_auto_flow": null,
            "grid_auto_rows": null,
            "grid_column": null,
            "grid_gap": null,
            "grid_row": null,
            "grid_template_areas": null,
            "grid_template_columns": null,
            "grid_template_rows": null,
            "height": null,
            "justify_content": null,
            "justify_items": null,
            "left": null,
            "margin": null,
            "max_height": null,
            "max_width": null,
            "min_height": null,
            "min_width": null,
            "object_fit": null,
            "object_position": null,
            "order": null,
            "overflow": null,
            "overflow_x": null,
            "overflow_y": null,
            "padding": null,
            "right": null,
            "top": null,
            "visibility": null,
            "width": null
          }
        },
        "78e3b807cd97413e85b58541c08415e5": {
          "model_module": "@jupyter-widgets/controls",
          "model_name": "DescriptionStyleModel",
          "model_module_version": "1.5.0",
          "state": {
            "_model_module": "@jupyter-widgets/controls",
            "_model_module_version": "1.5.0",
            "_model_name": "DescriptionStyleModel",
            "_view_count": null,
            "_view_module": "@jupyter-widgets/base",
            "_view_module_version": "1.2.0",
            "_view_name": "StyleView",
            "description_width": ""
          }
        },
        "fd70fdd947d646cb899bcdac6d676b2e": {
          "model_module": "@jupyter-widgets/base",
          "model_name": "LayoutModel",
          "model_module_version": "1.2.0",
          "state": {
            "_model_module": "@jupyter-widgets/base",
            "_model_module_version": "1.2.0",
            "_model_name": "LayoutModel",
            "_view_count": null,
            "_view_module": "@jupyter-widgets/base",
            "_view_module_version": "1.2.0",
            "_view_name": "LayoutView",
            "align_content": null,
            "align_items": null,
            "align_self": null,
            "border": null,
            "bottom": null,
            "display": null,
            "flex": null,
            "flex_flow": null,
            "grid_area": null,
            "grid_auto_columns": null,
            "grid_auto_flow": null,
            "grid_auto_rows": null,
            "grid_column": null,
            "grid_gap": null,
            "grid_row": null,
            "grid_template_areas": null,
            "grid_template_columns": null,
            "grid_template_rows": null,
            "height": null,
            "justify_content": null,
            "justify_items": null,
            "left": null,
            "margin": null,
            "max_height": null,
            "max_width": null,
            "min_height": null,
            "min_width": null,
            "object_fit": null,
            "object_position": null,
            "order": null,
            "overflow": null,
            "overflow_x": null,
            "overflow_y": null,
            "padding": null,
            "right": null,
            "top": null,
            "visibility": null,
            "width": null
          }
        },
        "b148f7c7b2c241ca842f8f9c6d9ecc6e": {
          "model_module": "@jupyter-widgets/controls",
          "model_name": "ProgressStyleModel",
          "model_module_version": "1.5.0",
          "state": {
            "_model_module": "@jupyter-widgets/controls",
            "_model_module_version": "1.5.0",
            "_model_name": "ProgressStyleModel",
            "_view_count": null,
            "_view_module": "@jupyter-widgets/base",
            "_view_module_version": "1.2.0",
            "_view_name": "StyleView",
            "bar_color": null,
            "description_width": ""
          }
        },
        "190c62565b0440c8b7af08875b31b40a": {
          "model_module": "@jupyter-widgets/base",
          "model_name": "LayoutModel",
          "model_module_version": "1.2.0",
          "state": {
            "_model_module": "@jupyter-widgets/base",
            "_model_module_version": "1.2.0",
            "_model_name": "LayoutModel",
            "_view_count": null,
            "_view_module": "@jupyter-widgets/base",
            "_view_module_version": "1.2.0",
            "_view_name": "LayoutView",
            "align_content": null,
            "align_items": null,
            "align_self": null,
            "border": null,
            "bottom": null,
            "display": null,
            "flex": null,
            "flex_flow": null,
            "grid_area": null,
            "grid_auto_columns": null,
            "grid_auto_flow": null,
            "grid_auto_rows": null,
            "grid_column": null,
            "grid_gap": null,
            "grid_row": null,
            "grid_template_areas": null,
            "grid_template_columns": null,
            "grid_template_rows": null,
            "height": null,
            "justify_content": null,
            "justify_items": null,
            "left": null,
            "margin": null,
            "max_height": null,
            "max_width": null,
            "min_height": null,
            "min_width": null,
            "object_fit": null,
            "object_position": null,
            "order": null,
            "overflow": null,
            "overflow_x": null,
            "overflow_y": null,
            "padding": null,
            "right": null,
            "top": null,
            "visibility": null,
            "width": null
          }
        },
        "581a3db9679c49cf9b0241b31b9c8c7d": {
          "model_module": "@jupyter-widgets/controls",
          "model_name": "DescriptionStyleModel",
          "model_module_version": "1.5.0",
          "state": {
            "_model_module": "@jupyter-widgets/controls",
            "_model_module_version": "1.5.0",
            "_model_name": "DescriptionStyleModel",
            "_view_count": null,
            "_view_module": "@jupyter-widgets/base",
            "_view_module_version": "1.2.0",
            "_view_name": "StyleView",
            "description_width": ""
          }
        },
        "023357cadca24801987982d52dccb4cf": {
          "model_module": "@jupyter-widgets/controls",
          "model_name": "HBoxModel",
          "model_module_version": "1.5.0",
          "state": {
            "_dom_classes": [],
            "_model_module": "@jupyter-widgets/controls",
            "_model_module_version": "1.5.0",
            "_model_name": "HBoxModel",
            "_view_count": null,
            "_view_module": "@jupyter-widgets/controls",
            "_view_module_version": "1.5.0",
            "_view_name": "HBoxView",
            "box_style": "",
            "children": [
              "IPY_MODEL_d30b112582694a72b96726420092feff",
              "IPY_MODEL_a4f0c03048f3405c97a40c3ccf156259",
              "IPY_MODEL_acae33dd30a941e0befc852ca8a074bb"
            ],
            "layout": "IPY_MODEL_2f835834dc254411a8e854a37fe43bcd"
          }
        },
        "d30b112582694a72b96726420092feff": {
          "model_module": "@jupyter-widgets/controls",
          "model_name": "HTMLModel",
          "model_module_version": "1.5.0",
          "state": {
            "_dom_classes": [],
            "_model_module": "@jupyter-widgets/controls",
            "_model_module_version": "1.5.0",
            "_model_name": "HTMLModel",
            "_view_count": null,
            "_view_module": "@jupyter-widgets/controls",
            "_view_module_version": "1.5.0",
            "_view_name": "HTMLView",
            "description": "",
            "description_tooltip": null,
            "layout": "IPY_MODEL_1013b839e0db4af3ad944e0c2f7aacab",
            "placeholder": "​",
            "style": "IPY_MODEL_fbaf47b87dda43808b0a4a91eb8f0cdc",
            "value": "Processing: 100%"
          }
        },
        "a4f0c03048f3405c97a40c3ccf156259": {
          "model_module": "@jupyter-widgets/controls",
          "model_name": "FloatProgressModel",
          "model_module_version": "1.5.0",
          "state": {
            "_dom_classes": [],
            "_model_module": "@jupyter-widgets/controls",
            "_model_module_version": "1.5.0",
            "_model_name": "FloatProgressModel",
            "_view_count": null,
            "_view_module": "@jupyter-widgets/controls",
            "_view_module_version": "1.5.0",
            "_view_name": "ProgressView",
            "bar_style": "",
            "description": "",
            "description_tooltip": null,
            "layout": "IPY_MODEL_79e56a0003994df5b93e70c28c9f5423",
            "max": 7,
            "min": 0,
            "orientation": "horizontal",
            "style": "IPY_MODEL_8b3af854509c4641a88969dc48c83bc6",
            "value": 7
          }
        },
        "acae33dd30a941e0befc852ca8a074bb": {
          "model_module": "@jupyter-widgets/controls",
          "model_name": "HTMLModel",
          "model_module_version": "1.5.0",
          "state": {
            "_dom_classes": [],
            "_model_module": "@jupyter-widgets/controls",
            "_model_module_version": "1.5.0",
            "_model_name": "HTMLModel",
            "_view_count": null,
            "_view_module": "@jupyter-widgets/controls",
            "_view_module_version": "1.5.0",
            "_view_name": "HTMLView",
            "description": "",
            "description_tooltip": null,
            "layout": "IPY_MODEL_1847b8d235904ccb9e7f598d361f6e0b",
            "placeholder": "​",
            "style": "IPY_MODEL_60c153c3124d42dbac075c710961c4c1",
            "value": " 7/7 [02:57&lt;00:00, 19.46s/it]"
          }
        },
        "2f835834dc254411a8e854a37fe43bcd": {
          "model_module": "@jupyter-widgets/base",
          "model_name": "LayoutModel",
          "model_module_version": "1.2.0",
          "state": {
            "_model_module": "@jupyter-widgets/base",
            "_model_module_version": "1.2.0",
            "_model_name": "LayoutModel",
            "_view_count": null,
            "_view_module": "@jupyter-widgets/base",
            "_view_module_version": "1.2.0",
            "_view_name": "LayoutView",
            "align_content": null,
            "align_items": null,
            "align_self": null,
            "border": null,
            "bottom": null,
            "display": null,
            "flex": null,
            "flex_flow": null,
            "grid_area": null,
            "grid_auto_columns": null,
            "grid_auto_flow": null,
            "grid_auto_rows": null,
            "grid_column": null,
            "grid_gap": null,
            "grid_row": null,
            "grid_template_areas": null,
            "grid_template_columns": null,
            "grid_template_rows": null,
            "height": null,
            "justify_content": null,
            "justify_items": null,
            "left": null,
            "margin": null,
            "max_height": null,
            "max_width": null,
            "min_height": null,
            "min_width": null,
            "object_fit": null,
            "object_position": null,
            "order": null,
            "overflow": null,
            "overflow_x": null,
            "overflow_y": null,
            "padding": null,
            "right": null,
            "top": null,
            "visibility": "hidden",
            "width": null
          }
        },
        "1013b839e0db4af3ad944e0c2f7aacab": {
          "model_module": "@jupyter-widgets/base",
          "model_name": "LayoutModel",
          "model_module_version": "1.2.0",
          "state": {
            "_model_module": "@jupyter-widgets/base",
            "_model_module_version": "1.2.0",
            "_model_name": "LayoutModel",
            "_view_count": null,
            "_view_module": "@jupyter-widgets/base",
            "_view_module_version": "1.2.0",
            "_view_name": "LayoutView",
            "align_content": null,
            "align_items": null,
            "align_self": null,
            "border": null,
            "bottom": null,
            "display": null,
            "flex": null,
            "flex_flow": null,
            "grid_area": null,
            "grid_auto_columns": null,
            "grid_auto_flow": null,
            "grid_auto_rows": null,
            "grid_column": null,
            "grid_gap": null,
            "grid_row": null,
            "grid_template_areas": null,
            "grid_template_columns": null,
            "grid_template_rows": null,
            "height": null,
            "justify_content": null,
            "justify_items": null,
            "left": null,
            "margin": null,
            "max_height": null,
            "max_width": null,
            "min_height": null,
            "min_width": null,
            "object_fit": null,
            "object_position": null,
            "order": null,
            "overflow": null,
            "overflow_x": null,
            "overflow_y": null,
            "padding": null,
            "right": null,
            "top": null,
            "visibility": null,
            "width": null
          }
        },
        "fbaf47b87dda43808b0a4a91eb8f0cdc": {
          "model_module": "@jupyter-widgets/controls",
          "model_name": "DescriptionStyleModel",
          "model_module_version": "1.5.0",
          "state": {
            "_model_module": "@jupyter-widgets/controls",
            "_model_module_version": "1.5.0",
            "_model_name": "DescriptionStyleModel",
            "_view_count": null,
            "_view_module": "@jupyter-widgets/base",
            "_view_module_version": "1.2.0",
            "_view_name": "StyleView",
            "description_width": ""
          }
        },
        "79e56a0003994df5b93e70c28c9f5423": {
          "model_module": "@jupyter-widgets/base",
          "model_name": "LayoutModel",
          "model_module_version": "1.2.0",
          "state": {
            "_model_module": "@jupyter-widgets/base",
            "_model_module_version": "1.2.0",
            "_model_name": "LayoutModel",
            "_view_count": null,
            "_view_module": "@jupyter-widgets/base",
            "_view_module_version": "1.2.0",
            "_view_name": "LayoutView",
            "align_content": null,
            "align_items": null,
            "align_self": null,
            "border": null,
            "bottom": null,
            "display": null,
            "flex": null,
            "flex_flow": null,
            "grid_area": null,
            "grid_auto_columns": null,
            "grid_auto_flow": null,
            "grid_auto_rows": null,
            "grid_column": null,
            "grid_gap": null,
            "grid_row": null,
            "grid_template_areas": null,
            "grid_template_columns": null,
            "grid_template_rows": null,
            "height": null,
            "justify_content": null,
            "justify_items": null,
            "left": null,
            "margin": null,
            "max_height": null,
            "max_width": null,
            "min_height": null,
            "min_width": null,
            "object_fit": null,
            "object_position": null,
            "order": null,
            "overflow": null,
            "overflow_x": null,
            "overflow_y": null,
            "padding": null,
            "right": null,
            "top": null,
            "visibility": null,
            "width": null
          }
        },
        "8b3af854509c4641a88969dc48c83bc6": {
          "model_module": "@jupyter-widgets/controls",
          "model_name": "ProgressStyleModel",
          "model_module_version": "1.5.0",
          "state": {
            "_model_module": "@jupyter-widgets/controls",
            "_model_module_version": "1.5.0",
            "_model_name": "ProgressStyleModel",
            "_view_count": null,
            "_view_module": "@jupyter-widgets/base",
            "_view_module_version": "1.2.0",
            "_view_name": "StyleView",
            "bar_color": null,
            "description_width": ""
          }
        },
        "1847b8d235904ccb9e7f598d361f6e0b": {
          "model_module": "@jupyter-widgets/base",
          "model_name": "LayoutModel",
          "model_module_version": "1.2.0",
          "state": {
            "_model_module": "@jupyter-widgets/base",
            "_model_module_version": "1.2.0",
            "_model_name": "LayoutModel",
            "_view_count": null,
            "_view_module": "@jupyter-widgets/base",
            "_view_module_version": "1.2.0",
            "_view_name": "LayoutView",
            "align_content": null,
            "align_items": null,
            "align_self": null,
            "border": null,
            "bottom": null,
            "display": null,
            "flex": null,
            "flex_flow": null,
            "grid_area": null,
            "grid_auto_columns": null,
            "grid_auto_flow": null,
            "grid_auto_rows": null,
            "grid_column": null,
            "grid_gap": null,
            "grid_row": null,
            "grid_template_areas": null,
            "grid_template_columns": null,
            "grid_template_rows": null,
            "height": null,
            "justify_content": null,
            "justify_items": null,
            "left": null,
            "margin": null,
            "max_height": null,
            "max_width": null,
            "min_height": null,
            "min_width": null,
            "object_fit": null,
            "object_position": null,
            "order": null,
            "overflow": null,
            "overflow_x": null,
            "overflow_y": null,
            "padding": null,
            "right": null,
            "top": null,
            "visibility": null,
            "width": null
          }
        },
        "60c153c3124d42dbac075c710961c4c1": {
          "model_module": "@jupyter-widgets/controls",
          "model_name": "DescriptionStyleModel",
          "model_module_version": "1.5.0",
          "state": {
            "_model_module": "@jupyter-widgets/controls",
            "_model_module_version": "1.5.0",
            "_model_name": "DescriptionStyleModel",
            "_view_count": null,
            "_view_module": "@jupyter-widgets/base",
            "_view_module_version": "1.2.0",
            "_view_name": "StyleView",
            "description_width": ""
          }
        },
        "084be24da96244c29d2a8637b293975e": {
          "model_module": "@jupyter-widgets/base",
          "model_name": "LayoutModel",
          "model_module_version": "1.2.0",
          "state": {
            "_model_module": "@jupyter-widgets/base",
            "_model_module_version": "1.2.0",
            "_model_name": "LayoutModel",
            "_view_count": null,
            "_view_module": "@jupyter-widgets/base",
            "_view_module_version": "1.2.0",
            "_view_name": "LayoutView",
            "align_content": null,
            "align_items": null,
            "align_self": null,
            "border": null,
            "bottom": null,
            "display": null,
            "flex": null,
            "flex_flow": null,
            "grid_area": null,
            "grid_auto_columns": null,
            "grid_auto_flow": null,
            "grid_auto_rows": null,
            "grid_column": null,
            "grid_gap": null,
            "grid_row": null,
            "grid_template_areas": null,
            "grid_template_columns": null,
            "grid_template_rows": null,
            "height": null,
            "justify_content": null,
            "justify_items": null,
            "left": null,
            "margin": null,
            "max_height": null,
            "max_width": null,
            "min_height": null,
            "min_width": null,
            "object_fit": null,
            "object_position": null,
            "order": null,
            "overflow": null,
            "overflow_x": null,
            "overflow_y": null,
            "padding": null,
            "right": null,
            "top": null,
            "visibility": null,
            "width": null
          }
        },
        "80f0988522a34d8cbeda66d139991069": {
          "model_module": "@jupyter-widgets/controls",
          "model_name": "ProgressStyleModel",
          "model_module_version": "1.5.0",
          "state": {
            "_model_module": "@jupyter-widgets/controls",
            "_model_module_version": "1.5.0",
            "_model_name": "ProgressStyleModel",
            "_view_count": null,
            "_view_module": "@jupyter-widgets/base",
            "_view_module_version": "1.2.0",
            "_view_name": "StyleView",
            "bar_color": null,
            "description_width": ""
          }
        },
        "e8402b287abc46c38357a4826c89db88": {
          "model_module": "@jupyter-widgets/base",
          "model_name": "LayoutModel",
          "model_module_version": "1.2.0",
          "state": {
            "_model_module": "@jupyter-widgets/base",
            "_model_module_version": "1.2.0",
            "_model_name": "LayoutModel",
            "_view_count": null,
            "_view_module": "@jupyter-widgets/base",
            "_view_module_version": "1.2.0",
            "_view_name": "LayoutView",
            "align_content": null,
            "align_items": null,
            "align_self": null,
            "border": null,
            "bottom": null,
            "display": null,
            "flex": null,
            "flex_flow": null,
            "grid_area": null,
            "grid_auto_columns": null,
            "grid_auto_flow": null,
            "grid_auto_rows": null,
            "grid_column": null,
            "grid_gap": null,
            "grid_row": null,
            "grid_template_areas": null,
            "grid_template_columns": null,
            "grid_template_rows": null,
            "height": null,
            "justify_content": null,
            "justify_items": null,
            "left": null,
            "margin": null,
            "max_height": null,
            "max_width": null,
            "min_height": null,
            "min_width": null,
            "object_fit": null,
            "object_position": null,
            "order": null,
            "overflow": null,
            "overflow_x": null,
            "overflow_y": null,
            "padding": null,
            "right": null,
            "top": null,
            "visibility": null,
            "width": null
          }
        },
        "d30911aa532049a8bb78f45de6d3fa7d": {
          "model_module": "@jupyter-widgets/controls",
          "model_name": "DescriptionStyleModel",
          "model_module_version": "1.5.0",
          "state": {
            "_model_module": "@jupyter-widgets/controls",
            "_model_module_version": "1.5.0",
            "_model_name": "DescriptionStyleModel",
            "_view_count": null,
            "_view_module": "@jupyter-widgets/base",
            "_view_module_version": "1.2.0",
            "_view_name": "StyleView",
            "description_width": ""
          }
        },
        "191803c3db994af8932c2ef27b65f3e7": {
          "model_module": "@jupyter-widgets/base",
          "model_name": "LayoutModel",
          "model_module_version": "1.2.0",
          "state": {
            "_model_module": "@jupyter-widgets/base",
            "_model_module_version": "1.2.0",
            "_model_name": "LayoutModel",
            "_view_count": null,
            "_view_module": "@jupyter-widgets/base",
            "_view_module_version": "1.2.0",
            "_view_name": "LayoutView",
            "align_content": null,
            "align_items": null,
            "align_self": null,
            "border": null,
            "bottom": null,
            "display": null,
            "flex": null,
            "flex_flow": null,
            "grid_area": null,
            "grid_auto_columns": null,
            "grid_auto_flow": null,
            "grid_auto_rows": null,
            "grid_column": null,
            "grid_gap": null,
            "grid_row": null,
            "grid_template_areas": null,
            "grid_template_columns": null,
            "grid_template_rows": null,
            "height": null,
            "justify_content": null,
            "justify_items": null,
            "left": null,
            "margin": null,
            "max_height": null,
            "max_width": null,
            "min_height": null,
            "min_width": null,
            "object_fit": null,
            "object_position": null,
            "order": null,
            "overflow": null,
            "overflow_x": null,
            "overflow_y": null,
            "padding": null,
            "right": null,
            "top": null,
            "visibility": null,
            "width": null
          }
        },
        "524f065c2a204ad99840e900b76543db": {
          "model_module": "@jupyter-widgets/controls",
          "model_name": "DescriptionStyleModel",
          "model_module_version": "1.5.0",
          "state": {
            "_model_module": "@jupyter-widgets/controls",
            "_model_module_version": "1.5.0",
            "_model_name": "DescriptionStyleModel",
            "_view_count": null,
            "_view_module": "@jupyter-widgets/base",
            "_view_module_version": "1.2.0",
            "_view_name": "StyleView",
            "description_width": ""
          }
        },
        "4172c7287b444e19be18e228d267c2b9": {
          "model_module": "@jupyter-widgets/controls",
          "model_name": "HTMLModel",
          "model_module_version": "1.5.0",
          "state": {
            "_dom_classes": [],
            "_model_module": "@jupyter-widgets/controls",
            "_model_module_version": "1.5.0",
            "_model_name": "HTMLModel",
            "_view_count": null,
            "_view_module": "@jupyter-widgets/controls",
            "_view_module_version": "1.5.0",
            "_view_name": "HTMLView",
            "description": "",
            "description_tooltip": null,
            "layout": "IPY_MODEL_e8402b287abc46c38357a4826c89db88",
            "placeholder": "​",
            "style": "IPY_MODEL_d30911aa532049a8bb78f45de6d3fa7d",
            "value": "Processing: 100%"
          }
        },
        "11020b003472448d8401ee8e43fd3286": {
          "model_module": "@jupyter-widgets/controls",
          "model_name": "FloatProgressModel",
          "model_module_version": "1.5.0",
          "state": {
            "_dom_classes": [],
            "_model_module": "@jupyter-widgets/controls",
            "_model_module_version": "1.5.0",
            "_model_name": "FloatProgressModel",
            "_view_count": null,
            "_view_module": "@jupyter-widgets/controls",
            "_view_module_version": "1.5.0",
            "_view_name": "ProgressView",
            "bar_style": "",
            "description": "",
            "description_tooltip": null,
            "layout": "IPY_MODEL_084be24da96244c29d2a8637b293975e",
            "max": 7,
            "min": 0,
            "orientation": "horizontal",
            "style": "IPY_MODEL_80f0988522a34d8cbeda66d139991069",
            "value": 7
          }
        },
        "817b6eaeb334483082e78ef4949f2428": {
          "model_module": "@jupyter-widgets/controls",
          "model_name": "HTMLModel",
          "model_module_version": "1.5.0",
          "state": {
            "_dom_classes": [],
            "_model_module": "@jupyter-widgets/controls",
            "_model_module_version": "1.5.0",
            "_model_name": "HTMLModel",
            "_view_count": null,
            "_view_module": "@jupyter-widgets/controls",
            "_view_module_version": "1.5.0",
            "_view_name": "HTMLView",
            "description": "",
            "description_tooltip": null,
            "layout": "IPY_MODEL_191803c3db994af8932c2ef27b65f3e7",
            "placeholder": "​",
            "style": "IPY_MODEL_524f065c2a204ad99840e900b76543db",
            "value": " 7/7 [05:51&lt;00:00, 38.10s/it]"
          }
        },
        "995dc8686037407b923bb17fffac4ff3": {
          "model_module": "@jupyter-widgets/base",
          "model_name": "LayoutModel",
          "model_module_version": "1.2.0",
          "state": {
            "_model_module": "@jupyter-widgets/base",
            "_model_module_version": "1.2.0",
            "_model_name": "LayoutModel",
            "_view_count": null,
            "_view_module": "@jupyter-widgets/base",
            "_view_module_version": "1.2.0",
            "_view_name": "LayoutView",
            "align_content": null,
            "align_items": null,
            "align_self": null,
            "border": null,
            "bottom": null,
            "display": null,
            "flex": null,
            "flex_flow": null,
            "grid_area": null,
            "grid_auto_columns": null,
            "grid_auto_flow": null,
            "grid_auto_rows": null,
            "grid_column": null,
            "grid_gap": null,
            "grid_row": null,
            "grid_template_areas": null,
            "grid_template_columns": null,
            "grid_template_rows": null,
            "height": null,
            "justify_content": null,
            "justify_items": null,
            "left": null,
            "margin": null,
            "max_height": null,
            "max_width": null,
            "min_height": null,
            "min_width": null,
            "object_fit": null,
            "object_position": null,
            "order": null,
            "overflow": null,
            "overflow_x": null,
            "overflow_y": null,
            "padding": null,
            "right": null,
            "top": null,
            "visibility": "hidden",
            "width": null
          }
        },
        "762dcebf66334b06932806db66313cef": {
          "model_module": "@jupyter-widgets/controls",
          "model_name": "HBoxModel",
          "model_module_version": "1.5.0",
          "state": {
            "_dom_classes": [],
            "_model_module": "@jupyter-widgets/controls",
            "_model_module_version": "1.5.0",
            "_model_name": "HBoxModel",
            "_view_count": null,
            "_view_module": "@jupyter-widgets/controls",
            "_view_module_version": "1.5.0",
            "_view_name": "HBoxView",
            "box_style": "",
            "children": [
              "IPY_MODEL_4172c7287b444e19be18e228d267c2b9",
              "IPY_MODEL_11020b003472448d8401ee8e43fd3286",
              "IPY_MODEL_817b6eaeb334483082e78ef4949f2428"
            ],
            "layout": "IPY_MODEL_995dc8686037407b923bb17fffac4ff3"
          }
        },
        "58d3eb703a074bde8769a4fa1a6a8f8a": {
          "model_module": "@jupyter-widgets/controls",
          "model_name": "HBoxModel",
          "model_module_version": "1.5.0",
          "state": {
            "_dom_classes": [],
            "_model_module": "@jupyter-widgets/controls",
            "_model_module_version": "1.5.0",
            "_model_name": "HBoxModel",
            "_view_count": null,
            "_view_module": "@jupyter-widgets/controls",
            "_view_module_version": "1.5.0",
            "_view_name": "HBoxView",
            "box_style": "",
            "children": [
              "IPY_MODEL_8c96219ae1f84cb2978907fbac44a44e",
              "IPY_MODEL_a2efecd531c946ed8e7c47fdfcb768bd",
              "IPY_MODEL_7c4acc904296438dbba9321c349ee545"
            ],
            "layout": "IPY_MODEL_ca3e22c5654b4d8daf24a860beff22e0"
          }
        },
        "8c96219ae1f84cb2978907fbac44a44e": {
          "model_module": "@jupyter-widgets/controls",
          "model_name": "HTMLModel",
          "model_module_version": "1.5.0",
          "state": {
            "_dom_classes": [],
            "_model_module": "@jupyter-widgets/controls",
            "_model_module_version": "1.5.0",
            "_model_name": "HTMLModel",
            "_view_count": null,
            "_view_module": "@jupyter-widgets/controls",
            "_view_module_version": "1.5.0",
            "_view_name": "HTMLView",
            "description": "",
            "description_tooltip": null,
            "layout": "IPY_MODEL_032536ea37444e028d64f36b5183ef0b",
            "placeholder": "​",
            "style": "IPY_MODEL_bd5d2faa7769404ebd5c1b7eedf8f231",
            "value": "Processing: 100%"
          }
        },
        "a2efecd531c946ed8e7c47fdfcb768bd": {
          "model_module": "@jupyter-widgets/controls",
          "model_name": "FloatProgressModel",
          "model_module_version": "1.5.0",
          "state": {
            "_dom_classes": [],
            "_model_module": "@jupyter-widgets/controls",
            "_model_module_version": "1.5.0",
            "_model_name": "FloatProgressModel",
            "_view_count": null,
            "_view_module": "@jupyter-widgets/controls",
            "_view_module_version": "1.5.0",
            "_view_name": "ProgressView",
            "bar_style": "",
            "description": "",
            "description_tooltip": null,
            "layout": "IPY_MODEL_6a8d26495e6f40fb9ab7a4423d501999",
            "max": 83,
            "min": 0,
            "orientation": "horizontal",
            "style": "IPY_MODEL_320ce160166a452eacfbd74e7cc95cc1",
            "value": 83
          }
        },
        "7c4acc904296438dbba9321c349ee545": {
          "model_module": "@jupyter-widgets/controls",
          "model_name": "HTMLModel",
          "model_module_version": "1.5.0",
          "state": {
            "_dom_classes": [],
            "_model_module": "@jupyter-widgets/controls",
            "_model_module_version": "1.5.0",
            "_model_name": "HTMLModel",
            "_view_count": null,
            "_view_module": "@jupyter-widgets/controls",
            "_view_module_version": "1.5.0",
            "_view_name": "HTMLView",
            "description": "",
            "description_tooltip": null,
            "layout": "IPY_MODEL_f82c2fda48924dd8911fac77fc83e1f1",
            "placeholder": "​",
            "style": "IPY_MODEL_6f882d0aed7d4902872acbb39ff95c83",
            "value": " 83/83 [01:38&lt;00:00,  1.50it/s]"
          }
        },
        "ca3e22c5654b4d8daf24a860beff22e0": {
          "model_module": "@jupyter-widgets/base",
          "model_name": "LayoutModel",
          "model_module_version": "1.2.0",
          "state": {
            "_model_module": "@jupyter-widgets/base",
            "_model_module_version": "1.2.0",
            "_model_name": "LayoutModel",
            "_view_count": null,
            "_view_module": "@jupyter-widgets/base",
            "_view_module_version": "1.2.0",
            "_view_name": "LayoutView",
            "align_content": null,
            "align_items": null,
            "align_self": null,
            "border": null,
            "bottom": null,
            "display": null,
            "flex": null,
            "flex_flow": null,
            "grid_area": null,
            "grid_auto_columns": null,
            "grid_auto_flow": null,
            "grid_auto_rows": null,
            "grid_column": null,
            "grid_gap": null,
            "grid_row": null,
            "grid_template_areas": null,
            "grid_template_columns": null,
            "grid_template_rows": null,
            "height": null,
            "justify_content": null,
            "justify_items": null,
            "left": null,
            "margin": null,
            "max_height": null,
            "max_width": null,
            "min_height": null,
            "min_width": null,
            "object_fit": null,
            "object_position": null,
            "order": null,
            "overflow": null,
            "overflow_x": null,
            "overflow_y": null,
            "padding": null,
            "right": null,
            "top": null,
            "visibility": "hidden",
            "width": null
          }
        },
        "032536ea37444e028d64f36b5183ef0b": {
          "model_module": "@jupyter-widgets/base",
          "model_name": "LayoutModel",
          "model_module_version": "1.2.0",
          "state": {
            "_model_module": "@jupyter-widgets/base",
            "_model_module_version": "1.2.0",
            "_model_name": "LayoutModel",
            "_view_count": null,
            "_view_module": "@jupyter-widgets/base",
            "_view_module_version": "1.2.0",
            "_view_name": "LayoutView",
            "align_content": null,
            "align_items": null,
            "align_self": null,
            "border": null,
            "bottom": null,
            "display": null,
            "flex": null,
            "flex_flow": null,
            "grid_area": null,
            "grid_auto_columns": null,
            "grid_auto_flow": null,
            "grid_auto_rows": null,
            "grid_column": null,
            "grid_gap": null,
            "grid_row": null,
            "grid_template_areas": null,
            "grid_template_columns": null,
            "grid_template_rows": null,
            "height": null,
            "justify_content": null,
            "justify_items": null,
            "left": null,
            "margin": null,
            "max_height": null,
            "max_width": null,
            "min_height": null,
            "min_width": null,
            "object_fit": null,
            "object_position": null,
            "order": null,
            "overflow": null,
            "overflow_x": null,
            "overflow_y": null,
            "padding": null,
            "right": null,
            "top": null,
            "visibility": null,
            "width": null
          }
        },
        "bd5d2faa7769404ebd5c1b7eedf8f231": {
          "model_module": "@jupyter-widgets/controls",
          "model_name": "DescriptionStyleModel",
          "model_module_version": "1.5.0",
          "state": {
            "_model_module": "@jupyter-widgets/controls",
            "_model_module_version": "1.5.0",
            "_model_name": "DescriptionStyleModel",
            "_view_count": null,
            "_view_module": "@jupyter-widgets/base",
            "_view_module_version": "1.2.0",
            "_view_name": "StyleView",
            "description_width": ""
          }
        },
        "6a8d26495e6f40fb9ab7a4423d501999": {
          "model_module": "@jupyter-widgets/base",
          "model_name": "LayoutModel",
          "model_module_version": "1.2.0",
          "state": {
            "_model_module": "@jupyter-widgets/base",
            "_model_module_version": "1.2.0",
            "_model_name": "LayoutModel",
            "_view_count": null,
            "_view_module": "@jupyter-widgets/base",
            "_view_module_version": "1.2.0",
            "_view_name": "LayoutView",
            "align_content": null,
            "align_items": null,
            "align_self": null,
            "border": null,
            "bottom": null,
            "display": null,
            "flex": null,
            "flex_flow": null,
            "grid_area": null,
            "grid_auto_columns": null,
            "grid_auto_flow": null,
            "grid_auto_rows": null,
            "grid_column": null,
            "grid_gap": null,
            "grid_row": null,
            "grid_template_areas": null,
            "grid_template_columns": null,
            "grid_template_rows": null,
            "height": null,
            "justify_content": null,
            "justify_items": null,
            "left": null,
            "margin": null,
            "max_height": null,
            "max_width": null,
            "min_height": null,
            "min_width": null,
            "object_fit": null,
            "object_position": null,
            "order": null,
            "overflow": null,
            "overflow_x": null,
            "overflow_y": null,
            "padding": null,
            "right": null,
            "top": null,
            "visibility": null,
            "width": null
          }
        },
        "320ce160166a452eacfbd74e7cc95cc1": {
          "model_module": "@jupyter-widgets/controls",
          "model_name": "ProgressStyleModel",
          "model_module_version": "1.5.0",
          "state": {
            "_model_module": "@jupyter-widgets/controls",
            "_model_module_version": "1.5.0",
            "_model_name": "ProgressStyleModel",
            "_view_count": null,
            "_view_module": "@jupyter-widgets/base",
            "_view_module_version": "1.2.0",
            "_view_name": "StyleView",
            "bar_color": null,
            "description_width": ""
          }
        },
        "f82c2fda48924dd8911fac77fc83e1f1": {
          "model_module": "@jupyter-widgets/base",
          "model_name": "LayoutModel",
          "model_module_version": "1.2.0",
          "state": {
            "_model_module": "@jupyter-widgets/base",
            "_model_module_version": "1.2.0",
            "_model_name": "LayoutModel",
            "_view_count": null,
            "_view_module": "@jupyter-widgets/base",
            "_view_module_version": "1.2.0",
            "_view_name": "LayoutView",
            "align_content": null,
            "align_items": null,
            "align_self": null,
            "border": null,
            "bottom": null,
            "display": null,
            "flex": null,
            "flex_flow": null,
            "grid_area": null,
            "grid_auto_columns": null,
            "grid_auto_flow": null,
            "grid_auto_rows": null,
            "grid_column": null,
            "grid_gap": null,
            "grid_row": null,
            "grid_template_areas": null,
            "grid_template_columns": null,
            "grid_template_rows": null,
            "height": null,
            "justify_content": null,
            "justify_items": null,
            "left": null,
            "margin": null,
            "max_height": null,
            "max_width": null,
            "min_height": null,
            "min_width": null,
            "object_fit": null,
            "object_position": null,
            "order": null,
            "overflow": null,
            "overflow_x": null,
            "overflow_y": null,
            "padding": null,
            "right": null,
            "top": null,
            "visibility": null,
            "width": null
          }
        },
        "6f882d0aed7d4902872acbb39ff95c83": {
          "model_module": "@jupyter-widgets/controls",
          "model_name": "DescriptionStyleModel",
          "model_module_version": "1.5.0",
          "state": {
            "_model_module": "@jupyter-widgets/controls",
            "_model_module_version": "1.5.0",
            "_model_name": "DescriptionStyleModel",
            "_view_count": null,
            "_view_module": "@jupyter-widgets/base",
            "_view_module_version": "1.2.0",
            "_view_name": "StyleView",
            "description_width": ""
          }
        },
        "17a00d8abde74c5d92cd4231c9e8b302": {
          "model_module": "@jupyter-widgets/controls",
          "model_name": "HBoxModel",
          "model_module_version": "1.5.0",
          "state": {
            "_dom_classes": [],
            "_model_module": "@jupyter-widgets/controls",
            "_model_module_version": "1.5.0",
            "_model_name": "HBoxModel",
            "_view_count": null,
            "_view_module": "@jupyter-widgets/controls",
            "_view_module_version": "1.5.0",
            "_view_name": "HBoxView",
            "box_style": "",
            "children": [
              "IPY_MODEL_018750b3d1374ac6aaa4245dd07dd174",
              "IPY_MODEL_a9d6693f2b8148df818303a2c2ae9d52",
              "IPY_MODEL_022b3bc8e4cf4e87a551c85fac11317a"
            ],
            "layout": "IPY_MODEL_46ab03776ee8457a91b5a871705d3efe"
          }
        },
        "018750b3d1374ac6aaa4245dd07dd174": {
          "model_module": "@jupyter-widgets/controls",
          "model_name": "HTMLModel",
          "model_module_version": "1.5.0",
          "state": {
            "_dom_classes": [],
            "_model_module": "@jupyter-widgets/controls",
            "_model_module_version": "1.5.0",
            "_model_name": "HTMLModel",
            "_view_count": null,
            "_view_module": "@jupyter-widgets/controls",
            "_view_module_version": "1.5.0",
            "_view_name": "HTMLView",
            "description": "",
            "description_tooltip": null,
            "layout": "IPY_MODEL_44d176ba9c914ea38fff66ed70fc15e9",
            "placeholder": "​",
            "style": "IPY_MODEL_0ddf2bd97aab42a6988b0ebc42e9ba0e",
            "value": "Processing: 100%"
          }
        },
        "a9d6693f2b8148df818303a2c2ae9d52": {
          "model_module": "@jupyter-widgets/controls",
          "model_name": "FloatProgressModel",
          "model_module_version": "1.5.0",
          "state": {
            "_dom_classes": [],
            "_model_module": "@jupyter-widgets/controls",
            "_model_module_version": "1.5.0",
            "_model_name": "FloatProgressModel",
            "_view_count": null,
            "_view_module": "@jupyter-widgets/controls",
            "_view_module_version": "1.5.0",
            "_view_name": "ProgressView",
            "bar_style": "",
            "description": "",
            "description_tooltip": null,
            "layout": "IPY_MODEL_eaf0399a7bf14844b159d6c1f8e29806",
            "max": 6,
            "min": 0,
            "orientation": "horizontal",
            "style": "IPY_MODEL_4ea95c52e3eb49f0bad170f19877ce00",
            "value": 6
          }
        },
        "022b3bc8e4cf4e87a551c85fac11317a": {
          "model_module": "@jupyter-widgets/controls",
          "model_name": "HTMLModel",
          "model_module_version": "1.5.0",
          "state": {
            "_dom_classes": [],
            "_model_module": "@jupyter-widgets/controls",
            "_model_module_version": "1.5.0",
            "_model_name": "HTMLModel",
            "_view_count": null,
            "_view_module": "@jupyter-widgets/controls",
            "_view_module_version": "1.5.0",
            "_view_name": "HTMLView",
            "description": "",
            "description_tooltip": null,
            "layout": "IPY_MODEL_6abaa6a5732745ddaa706c1043f1c011",
            "placeholder": "​",
            "style": "IPY_MODEL_bf31b16ae6714b6cb1414f0d9330c469",
            "value": " 6/6 [00:24&lt;00:00,  3.85s/it]"
          }
        },
        "46ab03776ee8457a91b5a871705d3efe": {
          "model_module": "@jupyter-widgets/base",
          "model_name": "LayoutModel",
          "model_module_version": "1.2.0",
          "state": {
            "_model_module": "@jupyter-widgets/base",
            "_model_module_version": "1.2.0",
            "_model_name": "LayoutModel",
            "_view_count": null,
            "_view_module": "@jupyter-widgets/base",
            "_view_module_version": "1.2.0",
            "_view_name": "LayoutView",
            "align_content": null,
            "align_items": null,
            "align_self": null,
            "border": null,
            "bottom": null,
            "display": null,
            "flex": null,
            "flex_flow": null,
            "grid_area": null,
            "grid_auto_columns": null,
            "grid_auto_flow": null,
            "grid_auto_rows": null,
            "grid_column": null,
            "grid_gap": null,
            "grid_row": null,
            "grid_template_areas": null,
            "grid_template_columns": null,
            "grid_template_rows": null,
            "height": null,
            "justify_content": null,
            "justify_items": null,
            "left": null,
            "margin": null,
            "max_height": null,
            "max_width": null,
            "min_height": null,
            "min_width": null,
            "object_fit": null,
            "object_position": null,
            "order": null,
            "overflow": null,
            "overflow_x": null,
            "overflow_y": null,
            "padding": null,
            "right": null,
            "top": null,
            "visibility": "hidden",
            "width": null
          }
        },
        "44d176ba9c914ea38fff66ed70fc15e9": {
          "model_module": "@jupyter-widgets/base",
          "model_name": "LayoutModel",
          "model_module_version": "1.2.0",
          "state": {
            "_model_module": "@jupyter-widgets/base",
            "_model_module_version": "1.2.0",
            "_model_name": "LayoutModel",
            "_view_count": null,
            "_view_module": "@jupyter-widgets/base",
            "_view_module_version": "1.2.0",
            "_view_name": "LayoutView",
            "align_content": null,
            "align_items": null,
            "align_self": null,
            "border": null,
            "bottom": null,
            "display": null,
            "flex": null,
            "flex_flow": null,
            "grid_area": null,
            "grid_auto_columns": null,
            "grid_auto_flow": null,
            "grid_auto_rows": null,
            "grid_column": null,
            "grid_gap": null,
            "grid_row": null,
            "grid_template_areas": null,
            "grid_template_columns": null,
            "grid_template_rows": null,
            "height": null,
            "justify_content": null,
            "justify_items": null,
            "left": null,
            "margin": null,
            "max_height": null,
            "max_width": null,
            "min_height": null,
            "min_width": null,
            "object_fit": null,
            "object_position": null,
            "order": null,
            "overflow": null,
            "overflow_x": null,
            "overflow_y": null,
            "padding": null,
            "right": null,
            "top": null,
            "visibility": null,
            "width": null
          }
        },
        "0ddf2bd97aab42a6988b0ebc42e9ba0e": {
          "model_module": "@jupyter-widgets/controls",
          "model_name": "DescriptionStyleModel",
          "model_module_version": "1.5.0",
          "state": {
            "_model_module": "@jupyter-widgets/controls",
            "_model_module_version": "1.5.0",
            "_model_name": "DescriptionStyleModel",
            "_view_count": null,
            "_view_module": "@jupyter-widgets/base",
            "_view_module_version": "1.2.0",
            "_view_name": "StyleView",
            "description_width": ""
          }
        },
        "eaf0399a7bf14844b159d6c1f8e29806": {
          "model_module": "@jupyter-widgets/base",
          "model_name": "LayoutModel",
          "model_module_version": "1.2.0",
          "state": {
            "_model_module": "@jupyter-widgets/base",
            "_model_module_version": "1.2.0",
            "_model_name": "LayoutModel",
            "_view_count": null,
            "_view_module": "@jupyter-widgets/base",
            "_view_module_version": "1.2.0",
            "_view_name": "LayoutView",
            "align_content": null,
            "align_items": null,
            "align_self": null,
            "border": null,
            "bottom": null,
            "display": null,
            "flex": null,
            "flex_flow": null,
            "grid_area": null,
            "grid_auto_columns": null,
            "grid_auto_flow": null,
            "grid_auto_rows": null,
            "grid_column": null,
            "grid_gap": null,
            "grid_row": null,
            "grid_template_areas": null,
            "grid_template_columns": null,
            "grid_template_rows": null,
            "height": null,
            "justify_content": null,
            "justify_items": null,
            "left": null,
            "margin": null,
            "max_height": null,
            "max_width": null,
            "min_height": null,
            "min_width": null,
            "object_fit": null,
            "object_position": null,
            "order": null,
            "overflow": null,
            "overflow_x": null,
            "overflow_y": null,
            "padding": null,
            "right": null,
            "top": null,
            "visibility": null,
            "width": null
          }
        },
        "4ea95c52e3eb49f0bad170f19877ce00": {
          "model_module": "@jupyter-widgets/controls",
          "model_name": "ProgressStyleModel",
          "model_module_version": "1.5.0",
          "state": {
            "_model_module": "@jupyter-widgets/controls",
            "_model_module_version": "1.5.0",
            "_model_name": "ProgressStyleModel",
            "_view_count": null,
            "_view_module": "@jupyter-widgets/base",
            "_view_module_version": "1.2.0",
            "_view_name": "StyleView",
            "bar_color": null,
            "description_width": ""
          }
        },
        "6abaa6a5732745ddaa706c1043f1c011": {
          "model_module": "@jupyter-widgets/base",
          "model_name": "LayoutModel",
          "model_module_version": "1.2.0",
          "state": {
            "_model_module": "@jupyter-widgets/base",
            "_model_module_version": "1.2.0",
            "_model_name": "LayoutModel",
            "_view_count": null,
            "_view_module": "@jupyter-widgets/base",
            "_view_module_version": "1.2.0",
            "_view_name": "LayoutView",
            "align_content": null,
            "align_items": null,
            "align_self": null,
            "border": null,
            "bottom": null,
            "display": null,
            "flex": null,
            "flex_flow": null,
            "grid_area": null,
            "grid_auto_columns": null,
            "grid_auto_flow": null,
            "grid_auto_rows": null,
            "grid_column": null,
            "grid_gap": null,
            "grid_row": null,
            "grid_template_areas": null,
            "grid_template_columns": null,
            "grid_template_rows": null,
            "height": null,
            "justify_content": null,
            "justify_items": null,
            "left": null,
            "margin": null,
            "max_height": null,
            "max_width": null,
            "min_height": null,
            "min_width": null,
            "object_fit": null,
            "object_position": null,
            "order": null,
            "overflow": null,
            "overflow_x": null,
            "overflow_y": null,
            "padding": null,
            "right": null,
            "top": null,
            "visibility": null,
            "width": null
          }
        },
        "bf31b16ae6714b6cb1414f0d9330c469": {
          "model_module": "@jupyter-widgets/controls",
          "model_name": "DescriptionStyleModel",
          "model_module_version": "1.5.0",
          "state": {
            "_model_module": "@jupyter-widgets/controls",
            "_model_module_version": "1.5.0",
            "_model_name": "DescriptionStyleModel",
            "_view_count": null,
            "_view_module": "@jupyter-widgets/base",
            "_view_module_version": "1.2.0",
            "_view_name": "StyleView",
            "description_width": ""
          }
        }
      }
    }
  },
  "cells": [
    {
      "cell_type": "markdown",
      "metadata": {
        "id": "view-in-github",
        "colab_type": "text"
      },
      "source": [
        "<a href=\"https://colab.research.google.com/github/SLMath/DS_PlanoSaude-Pycaret/blob/main/Health_Insurance_Cost_ML_Pycaret.ipynb\" target=\"_parent\"><img src=\"https://colab.research.google.com/assets/colab-badge.svg\" alt=\"Open In Colab\"/></a>"
      ]
    },
    {
      "cell_type": "markdown",
      "metadata": {
        "id": "lOotTPAx5OLq"
      },
      "source": [
        "<font color=\"#FF8080\">Aviso: o código demora cerca de 40 minutos para conclusão, e é necessário confirmar o tipo das variáveis após a chamada da função setup</font>\n",
        "\n"
      ]
    },
    {
      "cell_type": "markdown",
      "metadata": {
        "id": "L5P9cxED1i25"
      },
      "source": [
        "# OBJETIVO: predição do gasto do plano de saúde com um novo cliente\n",
        "\n",
        "### Baseado em dados colhidos de clientes anteriores, definir um modelo preditivo para o gasto do plano de saúde.\n",
        "\n",
        "Vou explorar a biblioteca `pycaret` para treinar e comparar diferentes modelos.\n",
        "Esta lib disponibiliza datasets para analise assim como muitas ferramentas de Machine Learning."
      ]
    },
    {
      "cell_type": "code",
      "metadata": {
        "id": "fHHDxY2eS-Po",
        "colab": {
          "base_uri": "https://localhost:8080/"
        },
        "outputId": "d227bd72-ae8e-4cf7-e4e1-d15abf64497f"
      },
      "source": [
        "!pip install pycaret"
      ],
      "execution_count": 14,
      "outputs": [
        {
          "output_type": "stream",
          "name": "stdout",
          "text": [
            "Looking in indexes: https://pypi.org/simple, https://us-python.pkg.dev/colab-wheels/public/simple/\n",
            "Requirement already satisfied: pycaret in /usr/local/lib/python3.10/dist-packages (3.0.2)\n",
            "Requirement already satisfied: ipython>=5.5.0 in /usr/local/lib/python3.10/dist-packages (from pycaret) (7.34.0)\n",
            "Requirement already satisfied: ipywidgets>=7.6.5 in /usr/local/lib/python3.10/dist-packages (from pycaret) (7.7.1)\n",
            "Requirement already satisfied: tqdm>=4.62.0 in /usr/local/lib/python3.10/dist-packages (from pycaret) (4.65.0)\n",
            "Requirement already satisfied: numpy<1.24,>=1.21 in /usr/local/lib/python3.10/dist-packages (from pycaret) (1.22.4)\n",
            "Requirement already satisfied: pandas<2.0.0,>=1.3.0 in /usr/local/lib/python3.10/dist-packages (from pycaret) (1.5.3)\n",
            "Requirement already satisfied: jinja2>=1.2 in /usr/local/lib/python3.10/dist-packages (from pycaret) (3.1.2)\n",
            "Requirement already satisfied: scipy<2.0.0 in /usr/local/lib/python3.10/dist-packages (from pycaret) (1.10.1)\n",
            "Requirement already satisfied: joblib>=1.2.0 in /usr/local/lib/python3.10/dist-packages (from pycaret) (1.2.0)\n",
            "Requirement already satisfied: scikit-learn>=1.0 in /usr/local/lib/python3.10/dist-packages (from pycaret) (1.2.2)\n",
            "Requirement already satisfied: pyod>=1.0.8 in /usr/local/lib/python3.10/dist-packages (from pycaret) (1.0.9)\n",
            "Requirement already satisfied: imbalanced-learn>=0.8.1 in /usr/local/lib/python3.10/dist-packages (from pycaret) (0.10.1)\n",
            "Requirement already satisfied: category-encoders>=2.4.0 in /usr/local/lib/python3.10/dist-packages (from pycaret) (2.6.1)\n",
            "Requirement already satisfied: lightgbm>=3.0.0 in /usr/local/lib/python3.10/dist-packages (from pycaret) (3.3.5)\n",
            "Requirement already satisfied: numba>=0.55.0 in /usr/local/lib/python3.10/dist-packages (from pycaret) (0.56.4)\n",
            "Requirement already satisfied: requests>=2.27.1 in /usr/local/lib/python3.10/dist-packages (from pycaret) (2.27.1)\n",
            "Requirement already satisfied: psutil>=5.9.0 in /usr/local/lib/python3.10/dist-packages (from pycaret) (5.9.5)\n",
            "Requirement already satisfied: markupsafe>=2.0.1 in /usr/local/lib/python3.10/dist-packages (from pycaret) (2.1.2)\n",
            "Requirement already satisfied: importlib-metadata>=4.12.0 in /usr/local/lib/python3.10/dist-packages (from pycaret) (6.7.0)\n",
            "Requirement already satisfied: nbformat>=4.2.0 in /usr/local/lib/python3.10/dist-packages (from pycaret) (5.8.0)\n",
            "Requirement already satisfied: cloudpickle in /usr/local/lib/python3.10/dist-packages (from pycaret) (2.2.1)\n",
            "Requirement already satisfied: deprecation>=2.1.0 in /usr/local/lib/python3.10/dist-packages (from pycaret) (2.1.0)\n",
            "Requirement already satisfied: xxhash in /usr/local/lib/python3.10/dist-packages (from pycaret) (3.2.0)\n",
            "Requirement already satisfied: matplotlib>=3.3.0 in /usr/local/lib/python3.10/dist-packages (from pycaret) (3.7.1)\n",
            "Requirement already satisfied: scikit-plot>=0.3.7 in /usr/local/lib/python3.10/dist-packages (from pycaret) (0.3.7)\n",
            "Requirement already satisfied: yellowbrick>=1.4 in /usr/local/lib/python3.10/dist-packages (from pycaret) (1.5)\n",
            "Requirement already satisfied: plotly>=5.0.0 in /usr/local/lib/python3.10/dist-packages (from pycaret) (5.13.1)\n",
            "Requirement already satisfied: kaleido>=0.2.1 in /usr/local/lib/python3.10/dist-packages (from pycaret) (0.2.1)\n",
            "Requirement already satisfied: schemdraw==0.15 in /usr/local/lib/python3.10/dist-packages (from pycaret) (0.15)\n",
            "Requirement already satisfied: plotly-resampler>=0.8.3.1 in /usr/local/lib/python3.10/dist-packages (from pycaret) (0.8.3.2)\n",
            "Requirement already satisfied: statsmodels>=0.12.1 in /usr/local/lib/python3.10/dist-packages (from pycaret) (0.13.5)\n",
            "Requirement already satisfied: sktime!=0.17.1,<0.17.2,>=0.16.1 in /usr/local/lib/python3.10/dist-packages (from pycaret) (0.17.0)\n",
            "Requirement already satisfied: tbats>=1.1.3 in /usr/local/lib/python3.10/dist-packages (from pycaret) (1.1.3)\n",
            "Requirement already satisfied: pmdarima!=1.8.1,<3.0.0,>=1.8.0 in /usr/local/lib/python3.10/dist-packages (from pycaret) (2.0.3)\n",
            "Requirement already satisfied: wurlitzer in /usr/local/lib/python3.10/dist-packages (from pycaret) (3.0.3)\n",
            "Requirement already satisfied: patsy>=0.5.1 in /usr/local/lib/python3.10/dist-packages (from category-encoders>=2.4.0->pycaret) (0.5.3)\n",
            "Requirement already satisfied: packaging in /usr/local/lib/python3.10/dist-packages (from deprecation>=2.1.0->pycaret) (23.1)\n",
            "Requirement already satisfied: threadpoolctl>=2.0.0 in /usr/local/lib/python3.10/dist-packages (from imbalanced-learn>=0.8.1->pycaret) (3.1.0)\n",
            "Requirement already satisfied: zipp>=0.5 in /usr/local/lib/python3.10/dist-packages (from importlib-metadata>=4.12.0->pycaret) (3.15.0)\n",
            "Requirement already satisfied: setuptools>=18.5 in /usr/local/lib/python3.10/dist-packages (from ipython>=5.5.0->pycaret) (67.7.2)\n",
            "Requirement already satisfied: jedi>=0.16 in /usr/local/lib/python3.10/dist-packages (from ipython>=5.5.0->pycaret) (0.18.2)\n",
            "Requirement already satisfied: decorator in /usr/local/lib/python3.10/dist-packages (from ipython>=5.5.0->pycaret) (4.4.2)\n",
            "Requirement already satisfied: pickleshare in /usr/local/lib/python3.10/dist-packages (from ipython>=5.5.0->pycaret) (0.7.5)\n",
            "Requirement already satisfied: traitlets>=4.2 in /usr/local/lib/python3.10/dist-packages (from ipython>=5.5.0->pycaret) (5.7.1)\n",
            "Requirement already satisfied: prompt-toolkit!=3.0.0,!=3.0.1,<3.1.0,>=2.0.0 in /usr/local/lib/python3.10/dist-packages (from ipython>=5.5.0->pycaret) (3.0.38)\n",
            "Requirement already satisfied: pygments in /usr/local/lib/python3.10/dist-packages (from ipython>=5.5.0->pycaret) (2.14.0)\n",
            "Requirement already satisfied: backcall in /usr/local/lib/python3.10/dist-packages (from ipython>=5.5.0->pycaret) (0.2.0)\n",
            "Requirement already satisfied: matplotlib-inline in /usr/local/lib/python3.10/dist-packages (from ipython>=5.5.0->pycaret) (0.1.6)\n",
            "Requirement already satisfied: pexpect>4.3 in /usr/local/lib/python3.10/dist-packages (from ipython>=5.5.0->pycaret) (4.8.0)\n",
            "Requirement already satisfied: ipykernel>=4.5.1 in /usr/local/lib/python3.10/dist-packages (from ipywidgets>=7.6.5->pycaret) (5.5.6)\n",
            "Requirement already satisfied: ipython-genutils~=0.2.0 in /usr/local/lib/python3.10/dist-packages (from ipywidgets>=7.6.5->pycaret) (0.2.0)\n",
            "Requirement already satisfied: widgetsnbextension~=3.6.0 in /usr/local/lib/python3.10/dist-packages (from ipywidgets>=7.6.5->pycaret) (3.6.4)\n",
            "Requirement already satisfied: jupyterlab-widgets>=1.0.0 in /usr/local/lib/python3.10/dist-packages (from ipywidgets>=7.6.5->pycaret) (3.0.7)\n",
            "Requirement already satisfied: wheel in /usr/local/lib/python3.10/dist-packages (from lightgbm>=3.0.0->pycaret) (0.40.0)\n",
            "Requirement already satisfied: contourpy>=1.0.1 in /usr/local/lib/python3.10/dist-packages (from matplotlib>=3.3.0->pycaret) (1.0.7)\n",
            "Requirement already satisfied: cycler>=0.10 in /usr/local/lib/python3.10/dist-packages (from matplotlib>=3.3.0->pycaret) (0.11.0)\n",
            "Requirement already satisfied: fonttools>=4.22.0 in /usr/local/lib/python3.10/dist-packages (from matplotlib>=3.3.0->pycaret) (4.39.3)\n",
            "Requirement already satisfied: kiwisolver>=1.0.1 in /usr/local/lib/python3.10/dist-packages (from matplotlib>=3.3.0->pycaret) (1.4.4)\n",
            "Requirement already satisfied: pillow>=6.2.0 in /usr/local/lib/python3.10/dist-packages (from matplotlib>=3.3.0->pycaret) (8.4.0)\n",
            "Requirement already satisfied: pyparsing>=2.3.1 in /usr/local/lib/python3.10/dist-packages (from matplotlib>=3.3.0->pycaret) (3.0.9)\n",
            "Requirement already satisfied: python-dateutil>=2.7 in /usr/local/lib/python3.10/dist-packages (from matplotlib>=3.3.0->pycaret) (2.8.2)\n",
            "Requirement already satisfied: fastjsonschema in /usr/local/lib/python3.10/dist-packages (from nbformat>=4.2.0->pycaret) (2.16.3)\n",
            "Requirement already satisfied: jsonschema>=2.6 in /usr/local/lib/python3.10/dist-packages (from nbformat>=4.2.0->pycaret) (4.3.3)\n",
            "Requirement already satisfied: jupyter-core in /usr/local/lib/python3.10/dist-packages (from nbformat>=4.2.0->pycaret) (5.3.0)\n",
            "Requirement already satisfied: llvmlite<0.40,>=0.39.0dev0 in /usr/local/lib/python3.10/dist-packages (from numba>=0.55.0->pycaret) (0.39.1)\n",
            "Requirement already satisfied: pytz>=2020.1 in /usr/local/lib/python3.10/dist-packages (from pandas<2.0.0,>=1.3.0->pycaret) (2022.7.1)\n",
            "Requirement already satisfied: tenacity>=6.2.0 in /usr/local/lib/python3.10/dist-packages (from plotly>=5.0.0->pycaret) (8.2.2)\n",
            "Requirement already satisfied: dash<3.0.0,>=2.2.0 in /usr/local/lib/python3.10/dist-packages (from plotly-resampler>=0.8.3.1->pycaret) (2.10.2)\n",
            "Requirement already satisfied: jupyter-dash>=0.4.2 in /usr/local/lib/python3.10/dist-packages (from plotly-resampler>=0.8.3.1->pycaret) (0.4.2)\n",
            "Requirement already satisfied: orjson<4.0.0,>=3.8.0 in /usr/local/lib/python3.10/dist-packages (from plotly-resampler>=0.8.3.1->pycaret) (3.9.1)\n",
            "Requirement already satisfied: trace-updater>=0.0.8 in /usr/local/lib/python3.10/dist-packages (from plotly-resampler>=0.8.3.1->pycaret) (0.0.9.1)\n",
            "Requirement already satisfied: Cython!=0.29.18,!=0.29.31,>=0.29 in /usr/local/lib/python3.10/dist-packages (from pmdarima!=1.8.1,<3.0.0,>=1.8.0->pycaret) (0.29.34)\n",
            "Requirement already satisfied: urllib3 in /usr/local/lib/python3.10/dist-packages (from pmdarima!=1.8.1,<3.0.0,>=1.8.0->pycaret) (1.26.15)\n",
            "Requirement already satisfied: six in /usr/local/lib/python3.10/dist-packages (from pyod>=1.0.8->pycaret) (1.16.0)\n",
            "Requirement already satisfied: certifi>=2017.4.17 in /usr/local/lib/python3.10/dist-packages (from requests>=2.27.1->pycaret) (2022.12.7)\n",
            "Requirement already satisfied: charset-normalizer~=2.0.0 in /usr/local/lib/python3.10/dist-packages (from requests>=2.27.1->pycaret) (2.0.12)\n",
            "Requirement already satisfied: idna<4,>=2.5 in /usr/local/lib/python3.10/dist-packages (from requests>=2.27.1->pycaret) (3.4)\n",
            "Requirement already satisfied: deprecated>=1.2.13 in /usr/local/lib/python3.10/dist-packages (from sktime!=0.17.1,<0.17.2,>=0.16.1->pycaret) (1.2.14)\n",
            "Requirement already satisfied: Flask<2.3.0,>=1.0.4 in /usr/local/lib/python3.10/dist-packages (from dash<3.0.0,>=2.2.0->plotly-resampler>=0.8.3.1->pycaret) (2.2.4)\n",
            "Requirement already satisfied: Werkzeug<2.3.0 in /usr/local/lib/python3.10/dist-packages (from dash<3.0.0,>=2.2.0->plotly-resampler>=0.8.3.1->pycaret) (2.2.3)\n",
            "Requirement already satisfied: dash-html-components==2.0.0 in /usr/local/lib/python3.10/dist-packages (from dash<3.0.0,>=2.2.0->plotly-resampler>=0.8.3.1->pycaret) (2.0.0)\n",
            "Requirement already satisfied: dash-core-components==2.0.0 in /usr/local/lib/python3.10/dist-packages (from dash<3.0.0,>=2.2.0->plotly-resampler>=0.8.3.1->pycaret) (2.0.0)\n",
            "Requirement already satisfied: dash-table==5.0.0 in /usr/local/lib/python3.10/dist-packages (from dash<3.0.0,>=2.2.0->plotly-resampler>=0.8.3.1->pycaret) (5.0.0)\n",
            "Requirement already satisfied: wrapt<2,>=1.10 in /usr/local/lib/python3.10/dist-packages (from deprecated>=1.2.13->sktime!=0.17.1,<0.17.2,>=0.16.1->pycaret) (1.14.1)\n",
            "Requirement already satisfied: jupyter-client in /usr/local/lib/python3.10/dist-packages (from ipykernel>=4.5.1->ipywidgets>=7.6.5->pycaret) (6.1.12)\n",
            "Requirement already satisfied: tornado>=4.2 in /usr/local/lib/python3.10/dist-packages (from ipykernel>=4.5.1->ipywidgets>=7.6.5->pycaret) (6.3.1)\n",
            "Requirement already satisfied: parso<0.9.0,>=0.8.0 in /usr/local/lib/python3.10/dist-packages (from jedi>=0.16->ipython>=5.5.0->pycaret) (0.8.3)\n",
            "Requirement already satisfied: attrs>=17.4.0 in /usr/local/lib/python3.10/dist-packages (from jsonschema>=2.6->nbformat>=4.2.0->pycaret) (23.1.0)\n",
            "Requirement already satisfied: pyrsistent!=0.17.0,!=0.17.1,!=0.17.2,>=0.14.0 in /usr/local/lib/python3.10/dist-packages (from jsonschema>=2.6->nbformat>=4.2.0->pycaret) (0.19.3)\n",
            "Requirement already satisfied: retrying in /usr/local/lib/python3.10/dist-packages (from jupyter-dash>=0.4.2->plotly-resampler>=0.8.3.1->pycaret) (1.3.4)\n",
            "Requirement already satisfied: ansi2html in /usr/local/lib/python3.10/dist-packages (from jupyter-dash>=0.4.2->plotly-resampler>=0.8.3.1->pycaret) (1.8.0)\n",
            "Requirement already satisfied: nest-asyncio in /usr/local/lib/python3.10/dist-packages (from jupyter-dash>=0.4.2->plotly-resampler>=0.8.3.1->pycaret) (1.5.6)\n",
            "Requirement already satisfied: ptyprocess>=0.5 in /usr/local/lib/python3.10/dist-packages (from pexpect>4.3->ipython>=5.5.0->pycaret) (0.7.0)\n",
            "Requirement already satisfied: wcwidth in /usr/local/lib/python3.10/dist-packages (from prompt-toolkit!=3.0.0,!=3.0.1,<3.1.0,>=2.0.0->ipython>=5.5.0->pycaret) (0.2.6)\n",
            "Requirement already satisfied: notebook>=4.4.1 in /usr/local/lib/python3.10/dist-packages (from widgetsnbextension~=3.6.0->ipywidgets>=7.6.5->pycaret) (6.4.8)\n",
            "Requirement already satisfied: platformdirs>=2.5 in /usr/local/lib/python3.10/dist-packages (from jupyter-core->nbformat>=4.2.0->pycaret) (3.3.0)\n",
            "Requirement already satisfied: itsdangerous>=2.0 in /usr/local/lib/python3.10/dist-packages (from Flask<2.3.0,>=1.0.4->dash<3.0.0,>=2.2.0->plotly-resampler>=0.8.3.1->pycaret) (2.1.2)\n",
            "Requirement already satisfied: click>=8.0 in /usr/local/lib/python3.10/dist-packages (from Flask<2.3.0,>=1.0.4->dash<3.0.0,>=2.2.0->plotly-resampler>=0.8.3.1->pycaret) (8.1.3)\n",
            "Requirement already satisfied: pyzmq>=17 in /usr/local/lib/python3.10/dist-packages (from notebook>=4.4.1->widgetsnbextension~=3.6.0->ipywidgets>=7.6.5->pycaret) (23.2.1)\n",
            "Requirement already satisfied: argon2-cffi in /usr/local/lib/python3.10/dist-packages (from notebook>=4.4.1->widgetsnbextension~=3.6.0->ipywidgets>=7.6.5->pycaret) (21.3.0)\n",
            "Requirement already satisfied: nbconvert in /usr/local/lib/python3.10/dist-packages (from notebook>=4.4.1->widgetsnbextension~=3.6.0->ipywidgets>=7.6.5->pycaret) (6.5.4)\n",
            "Requirement already satisfied: Send2Trash>=1.8.0 in /usr/local/lib/python3.10/dist-packages (from notebook>=4.4.1->widgetsnbextension~=3.6.0->ipywidgets>=7.6.5->pycaret) (1.8.0)\n",
            "Requirement already satisfied: terminado>=0.8.3 in /usr/local/lib/python3.10/dist-packages (from notebook>=4.4.1->widgetsnbextension~=3.6.0->ipywidgets>=7.6.5->pycaret) (0.17.1)\n",
            "Requirement already satisfied: prometheus-client in /usr/local/lib/python3.10/dist-packages (from notebook>=4.4.1->widgetsnbextension~=3.6.0->ipywidgets>=7.6.5->pycaret) (0.16.0)\n",
            "Requirement already satisfied: argon2-cffi-bindings in /usr/local/lib/python3.10/dist-packages (from argon2-cffi->notebook>=4.4.1->widgetsnbextension~=3.6.0->ipywidgets>=7.6.5->pycaret) (21.2.0)\n",
            "Requirement already satisfied: lxml in /usr/local/lib/python3.10/dist-packages (from nbconvert->notebook>=4.4.1->widgetsnbextension~=3.6.0->ipywidgets>=7.6.5->pycaret) (4.9.2)\n",
            "Requirement already satisfied: beautifulsoup4 in /usr/local/lib/python3.10/dist-packages (from nbconvert->notebook>=4.4.1->widgetsnbextension~=3.6.0->ipywidgets>=7.6.5->pycaret) (4.11.2)\n",
            "Requirement already satisfied: bleach in /usr/local/lib/python3.10/dist-packages (from nbconvert->notebook>=4.4.1->widgetsnbextension~=3.6.0->ipywidgets>=7.6.5->pycaret) (6.0.0)\n",
            "Requirement already satisfied: defusedxml in /usr/local/lib/python3.10/dist-packages (from nbconvert->notebook>=4.4.1->widgetsnbextension~=3.6.0->ipywidgets>=7.6.5->pycaret) (0.7.1)\n",
            "Requirement already satisfied: entrypoints>=0.2.2 in /usr/local/lib/python3.10/dist-packages (from nbconvert->notebook>=4.4.1->widgetsnbextension~=3.6.0->ipywidgets>=7.6.5->pycaret) (0.4)\n",
            "Requirement already satisfied: jupyterlab-pygments in /usr/local/lib/python3.10/dist-packages (from nbconvert->notebook>=4.4.1->widgetsnbextension~=3.6.0->ipywidgets>=7.6.5->pycaret) (0.2.2)\n",
            "Requirement already satisfied: mistune<2,>=0.8.1 in /usr/local/lib/python3.10/dist-packages (from nbconvert->notebook>=4.4.1->widgetsnbextension~=3.6.0->ipywidgets>=7.6.5->pycaret) (0.8.4)\n",
            "Requirement already satisfied: nbclient>=0.5.0 in /usr/local/lib/python3.10/dist-packages (from nbconvert->notebook>=4.4.1->widgetsnbextension~=3.6.0->ipywidgets>=7.6.5->pycaret) (0.7.4)\n",
            "Requirement already satisfied: pandocfilters>=1.4.1 in /usr/local/lib/python3.10/dist-packages (from nbconvert->notebook>=4.4.1->widgetsnbextension~=3.6.0->ipywidgets>=7.6.5->pycaret) (1.5.0)\n",
            "Requirement already satisfied: tinycss2 in /usr/local/lib/python3.10/dist-packages (from nbconvert->notebook>=4.4.1->widgetsnbextension~=3.6.0->ipywidgets>=7.6.5->pycaret) (1.2.1)\n",
            "Requirement already satisfied: cffi>=1.0.1 in /usr/local/lib/python3.10/dist-packages (from argon2-cffi-bindings->argon2-cffi->notebook>=4.4.1->widgetsnbextension~=3.6.0->ipywidgets>=7.6.5->pycaret) (1.15.1)\n",
            "Requirement already satisfied: soupsieve>1.2 in /usr/local/lib/python3.10/dist-packages (from beautifulsoup4->nbconvert->notebook>=4.4.1->widgetsnbextension~=3.6.0->ipywidgets>=7.6.5->pycaret) (2.4.1)\n",
            "Requirement already satisfied: webencodings in /usr/local/lib/python3.10/dist-packages (from bleach->nbconvert->notebook>=4.4.1->widgetsnbextension~=3.6.0->ipywidgets>=7.6.5->pycaret) (0.5.1)\n",
            "Requirement already satisfied: pycparser in /usr/local/lib/python3.10/dist-packages (from cffi>=1.0.1->argon2-cffi-bindings->argon2-cffi->notebook>=4.4.1->widgetsnbextension~=3.6.0->ipywidgets>=7.6.5->pycaret) (2.21)\n"
          ]
        }
      ]
    },
    {
      "cell_type": "markdown",
      "metadata": {
        "id": "zLrNdDW6z051"
      },
      "source": [
        "# Preparar Dados"
      ]
    },
    {
      "cell_type": "markdown",
      "metadata": {
        "id": "EOgHZFIf1I-j"
      },
      "source": [
        "Carregando dados sobre os gastos de um seguro com uma pessoa descrita por:\n",
        "- idade,\n",
        "- sexo,\n",
        "- indice de massa corporal,\n",
        "- se é fumante,\n",
        "- localização"
      ]
    },
    {
      "cell_type": "code",
      "metadata": {
        "id": "QvTi-FSEREWy",
        "colab": {
          "base_uri": "https://localhost:8080/",
          "height": 433
        },
        "outputId": "baec5259-7ed4-457f-a197-b45861f8909b"
      },
      "source": [
        "from pycaret.datasets import get_data\n",
        "\n",
        "insurance_data = get_data('insurance', verbose= False)\n",
        "insurance_data"
      ],
      "execution_count": 15,
      "outputs": [
        {
          "output_type": "execute_result",
          "data": {
            "text/plain": [
              "      age     sex     bmi  children smoker     region      charges\n",
              "0      19  female  27.900         0    yes  southwest  16884.92400\n",
              "1      18    male  33.770         1     no  southeast   1725.55230\n",
              "2      28    male  33.000         3     no  southeast   4449.46200\n",
              "3      33    male  22.705         0     no  northwest  21984.47061\n",
              "4      32    male  28.880         0     no  northwest   3866.85520\n",
              "...   ...     ...     ...       ...    ...        ...          ...\n",
              "1333   50    male  30.970         3     no  northwest  10600.54830\n",
              "1334   18  female  31.920         0     no  northeast   2205.98080\n",
              "1335   18  female  36.850         0     no  southeast   1629.83350\n",
              "1336   21  female  25.800         0     no  southwest   2007.94500\n",
              "1337   61  female  29.070         0    yes  northwest  29141.36030\n",
              "\n",
              "[1338 rows x 7 columns]"
            ],
            "text/html": [
              "\n",
              "  <div id=\"df-6fdc9b5b-cb5a-49b8-9170-7529d058a8c2\">\n",
              "    <div class=\"colab-df-container\">\n",
              "      <div>\n",
              "<style scoped>\n",
              "    .dataframe tbody tr th:only-of-type {\n",
              "        vertical-align: middle;\n",
              "    }\n",
              "\n",
              "    .dataframe tbody tr th {\n",
              "        vertical-align: top;\n",
              "    }\n",
              "\n",
              "    .dataframe thead th {\n",
              "        text-align: right;\n",
              "    }\n",
              "</style>\n",
              "<table border=\"1\" class=\"dataframe\">\n",
              "  <thead>\n",
              "    <tr style=\"text-align: right;\">\n",
              "      <th></th>\n",
              "      <th>age</th>\n",
              "      <th>sex</th>\n",
              "      <th>bmi</th>\n",
              "      <th>children</th>\n",
              "      <th>smoker</th>\n",
              "      <th>region</th>\n",
              "      <th>charges</th>\n",
              "    </tr>\n",
              "  </thead>\n",
              "  <tbody>\n",
              "    <tr>\n",
              "      <th>0</th>\n",
              "      <td>19</td>\n",
              "      <td>female</td>\n",
              "      <td>27.900</td>\n",
              "      <td>0</td>\n",
              "      <td>yes</td>\n",
              "      <td>southwest</td>\n",
              "      <td>16884.92400</td>\n",
              "    </tr>\n",
              "    <tr>\n",
              "      <th>1</th>\n",
              "      <td>18</td>\n",
              "      <td>male</td>\n",
              "      <td>33.770</td>\n",
              "      <td>1</td>\n",
              "      <td>no</td>\n",
              "      <td>southeast</td>\n",
              "      <td>1725.55230</td>\n",
              "    </tr>\n",
              "    <tr>\n",
              "      <th>2</th>\n",
              "      <td>28</td>\n",
              "      <td>male</td>\n",
              "      <td>33.000</td>\n",
              "      <td>3</td>\n",
              "      <td>no</td>\n",
              "      <td>southeast</td>\n",
              "      <td>4449.46200</td>\n",
              "    </tr>\n",
              "    <tr>\n",
              "      <th>3</th>\n",
              "      <td>33</td>\n",
              "      <td>male</td>\n",
              "      <td>22.705</td>\n",
              "      <td>0</td>\n",
              "      <td>no</td>\n",
              "      <td>northwest</td>\n",
              "      <td>21984.47061</td>\n",
              "    </tr>\n",
              "    <tr>\n",
              "      <th>4</th>\n",
              "      <td>32</td>\n",
              "      <td>male</td>\n",
              "      <td>28.880</td>\n",
              "      <td>0</td>\n",
              "      <td>no</td>\n",
              "      <td>northwest</td>\n",
              "      <td>3866.85520</td>\n",
              "    </tr>\n",
              "    <tr>\n",
              "      <th>...</th>\n",
              "      <td>...</td>\n",
              "      <td>...</td>\n",
              "      <td>...</td>\n",
              "      <td>...</td>\n",
              "      <td>...</td>\n",
              "      <td>...</td>\n",
              "      <td>...</td>\n",
              "    </tr>\n",
              "    <tr>\n",
              "      <th>1333</th>\n",
              "      <td>50</td>\n",
              "      <td>male</td>\n",
              "      <td>30.970</td>\n",
              "      <td>3</td>\n",
              "      <td>no</td>\n",
              "      <td>northwest</td>\n",
              "      <td>10600.54830</td>\n",
              "    </tr>\n",
              "    <tr>\n",
              "      <th>1334</th>\n",
              "      <td>18</td>\n",
              "      <td>female</td>\n",
              "      <td>31.920</td>\n",
              "      <td>0</td>\n",
              "      <td>no</td>\n",
              "      <td>northeast</td>\n",
              "      <td>2205.98080</td>\n",
              "    </tr>\n",
              "    <tr>\n",
              "      <th>1335</th>\n",
              "      <td>18</td>\n",
              "      <td>female</td>\n",
              "      <td>36.850</td>\n",
              "      <td>0</td>\n",
              "      <td>no</td>\n",
              "      <td>southeast</td>\n",
              "      <td>1629.83350</td>\n",
              "    </tr>\n",
              "    <tr>\n",
              "      <th>1336</th>\n",
              "      <td>21</td>\n",
              "      <td>female</td>\n",
              "      <td>25.800</td>\n",
              "      <td>0</td>\n",
              "      <td>no</td>\n",
              "      <td>southwest</td>\n",
              "      <td>2007.94500</td>\n",
              "    </tr>\n",
              "    <tr>\n",
              "      <th>1337</th>\n",
              "      <td>61</td>\n",
              "      <td>female</td>\n",
              "      <td>29.070</td>\n",
              "      <td>0</td>\n",
              "      <td>yes</td>\n",
              "      <td>northwest</td>\n",
              "      <td>29141.36030</td>\n",
              "    </tr>\n",
              "  </tbody>\n",
              "</table>\n",
              "<p>1338 rows × 7 columns</p>\n",
              "</div>\n",
              "      <button class=\"colab-df-convert\" onclick=\"convertToInteractive('df-6fdc9b5b-cb5a-49b8-9170-7529d058a8c2')\"\n",
              "              title=\"Convert this dataframe to an interactive table.\"\n",
              "              style=\"display:none;\">\n",
              "        \n",
              "  <svg xmlns=\"http://www.w3.org/2000/svg\" height=\"24px\"viewBox=\"0 0 24 24\"\n",
              "       width=\"24px\">\n",
              "    <path d=\"M0 0h24v24H0V0z\" fill=\"none\"/>\n",
              "    <path d=\"M18.56 5.44l.94 2.06.94-2.06 2.06-.94-2.06-.94-.94-2.06-.94 2.06-2.06.94zm-11 1L8.5 8.5l.94-2.06 2.06-.94-2.06-.94L8.5 2.5l-.94 2.06-2.06.94zm10 10l.94 2.06.94-2.06 2.06-.94-2.06-.94-.94-2.06-.94 2.06-2.06.94z\"/><path d=\"M17.41 7.96l-1.37-1.37c-.4-.4-.92-.59-1.43-.59-.52 0-1.04.2-1.43.59L10.3 9.45l-7.72 7.72c-.78.78-.78 2.05 0 2.83L4 21.41c.39.39.9.59 1.41.59.51 0 1.02-.2 1.41-.59l7.78-7.78 2.81-2.81c.8-.78.8-2.07 0-2.86zM5.41 20L4 18.59l7.72-7.72 1.47 1.35L5.41 20z\"/>\n",
              "  </svg>\n",
              "      </button>\n",
              "      \n",
              "  <style>\n",
              "    .colab-df-container {\n",
              "      display:flex;\n",
              "      flex-wrap:wrap;\n",
              "      gap: 12px;\n",
              "    }\n",
              "\n",
              "    .colab-df-convert {\n",
              "      background-color: #E8F0FE;\n",
              "      border: none;\n",
              "      border-radius: 50%;\n",
              "      cursor: pointer;\n",
              "      display: none;\n",
              "      fill: #1967D2;\n",
              "      height: 32px;\n",
              "      padding: 0 0 0 0;\n",
              "      width: 32px;\n",
              "    }\n",
              "\n",
              "    .colab-df-convert:hover {\n",
              "      background-color: #E2EBFA;\n",
              "      box-shadow: 0px 1px 2px rgba(60, 64, 67, 0.3), 0px 1px 3px 1px rgba(60, 64, 67, 0.15);\n",
              "      fill: #174EA6;\n",
              "    }\n",
              "\n",
              "    [theme=dark] .colab-df-convert {\n",
              "      background-color: #3B4455;\n",
              "      fill: #D2E3FC;\n",
              "    }\n",
              "\n",
              "    [theme=dark] .colab-df-convert:hover {\n",
              "      background-color: #434B5C;\n",
              "      box-shadow: 0px 1px 3px 1px rgba(0, 0, 0, 0.15);\n",
              "      filter: drop-shadow(0px 1px 2px rgba(0, 0, 0, 0.3));\n",
              "      fill: #FFFFFF;\n",
              "    }\n",
              "  </style>\n",
              "\n",
              "      <script>\n",
              "        const buttonEl =\n",
              "          document.querySelector('#df-6fdc9b5b-cb5a-49b8-9170-7529d058a8c2 button.colab-df-convert');\n",
              "        buttonEl.style.display =\n",
              "          google.colab.kernel.accessAllowed ? 'block' : 'none';\n",
              "\n",
              "        async function convertToInteractive(key) {\n",
              "          const element = document.querySelector('#df-6fdc9b5b-cb5a-49b8-9170-7529d058a8c2');\n",
              "          const dataTable =\n",
              "            await google.colab.kernel.invokeFunction('convertToInteractive',\n",
              "                                                     [key], {});\n",
              "          if (!dataTable) return;\n",
              "\n",
              "          const docLinkHtml = 'Like what you see? Visit the ' +\n",
              "            '<a target=\"_blank\" href=https://colab.research.google.com/notebooks/data_table.ipynb>data table notebook</a>'\n",
              "            + ' to learn more about interactive tables.';\n",
              "          element.innerHTML = '';\n",
              "          dataTable['output_type'] = 'display_data';\n",
              "          await google.colab.output.renderOutput(dataTable, element);\n",
              "          const docLink = document.createElement('div');\n",
              "          docLink.innerHTML = docLinkHtml;\n",
              "          element.appendChild(docLink);\n",
              "        }\n",
              "      </script>\n",
              "    </div>\n",
              "  </div>\n",
              "  "
            ]
          },
          "metadata": {},
          "execution_count": 15
        }
      ]
    },
    {
      "cell_type": "markdown",
      "metadata": {
        "id": "9bk4ELL52wJ9"
      },
      "source": [
        "Configurando a lib para tratar os dados conforme desejado"
      ]
    },
    {
      "cell_type": "code",
      "metadata": {
        "id": "xIYlA4NAU7W0",
        "colab": {
          "base_uri": "https://localhost:8080/",
          "height": 893
        },
        "outputId": "e7051996-43d2-428b-c5f8-98f7e4624d47"
      },
      "source": [
        "from pycaret.regression import setup\n",
        "\n",
        "data_setup = setup(\n",
        "    data= insurance_data,      # all data set: training and testinng\n",
        "    target= 'charges',         # label: which field is the outcome\n",
        "    normalize= True,           # applying statistics to reduce the numerical features range\n",
        "    remove_outliers= True      # ignore sample which is statistically too far from the others\n",
        "    #verbose= False\n",
        ")"
      ],
      "execution_count": 16,
      "outputs": [
        {
          "output_type": "display_data",
          "data": {
            "text/plain": [
              "<pandas.io.formats.style.Styler at 0x7fab79327730>"
            ],
            "text/html": [
              "<style type=\"text/css\">\n",
              "#T_16bf4_row10_col1, #T_16bf4_row16_col1, #T_16bf4_row18_col1 {\n",
              "  background-color: lightgreen;\n",
              "}\n",
              "</style>\n",
              "<table id=\"T_16bf4\" class=\"dataframe\">\n",
              "  <thead>\n",
              "    <tr>\n",
              "      <th class=\"blank level0\" >&nbsp;</th>\n",
              "      <th id=\"T_16bf4_level0_col0\" class=\"col_heading level0 col0\" >Description</th>\n",
              "      <th id=\"T_16bf4_level0_col1\" class=\"col_heading level0 col1\" >Value</th>\n",
              "    </tr>\n",
              "  </thead>\n",
              "  <tbody>\n",
              "    <tr>\n",
              "      <th id=\"T_16bf4_level0_row0\" class=\"row_heading level0 row0\" >0</th>\n",
              "      <td id=\"T_16bf4_row0_col0\" class=\"data row0 col0\" >Session id</td>\n",
              "      <td id=\"T_16bf4_row0_col1\" class=\"data row0 col1\" >4784</td>\n",
              "    </tr>\n",
              "    <tr>\n",
              "      <th id=\"T_16bf4_level0_row1\" class=\"row_heading level0 row1\" >1</th>\n",
              "      <td id=\"T_16bf4_row1_col0\" class=\"data row1 col0\" >Target</td>\n",
              "      <td id=\"T_16bf4_row1_col1\" class=\"data row1 col1\" >charges</td>\n",
              "    </tr>\n",
              "    <tr>\n",
              "      <th id=\"T_16bf4_level0_row2\" class=\"row_heading level0 row2\" >2</th>\n",
              "      <td id=\"T_16bf4_row2_col0\" class=\"data row2 col0\" >Target type</td>\n",
              "      <td id=\"T_16bf4_row2_col1\" class=\"data row2 col1\" >Regression</td>\n",
              "    </tr>\n",
              "    <tr>\n",
              "      <th id=\"T_16bf4_level0_row3\" class=\"row_heading level0 row3\" >3</th>\n",
              "      <td id=\"T_16bf4_row3_col0\" class=\"data row3 col0\" >Original data shape</td>\n",
              "      <td id=\"T_16bf4_row3_col1\" class=\"data row3 col1\" >(1338, 7)</td>\n",
              "    </tr>\n",
              "    <tr>\n",
              "      <th id=\"T_16bf4_level0_row4\" class=\"row_heading level0 row4\" >4</th>\n",
              "      <td id=\"T_16bf4_row4_col0\" class=\"data row4 col0\" >Transformed data shape</td>\n",
              "      <td id=\"T_16bf4_row4_col1\" class=\"data row4 col1\" >(1291, 10)</td>\n",
              "    </tr>\n",
              "    <tr>\n",
              "      <th id=\"T_16bf4_level0_row5\" class=\"row_heading level0 row5\" >5</th>\n",
              "      <td id=\"T_16bf4_row5_col0\" class=\"data row5 col0\" >Transformed train set shape</td>\n",
              "      <td id=\"T_16bf4_row5_col1\" class=\"data row5 col1\" >(889, 10)</td>\n",
              "    </tr>\n",
              "    <tr>\n",
              "      <th id=\"T_16bf4_level0_row6\" class=\"row_heading level0 row6\" >6</th>\n",
              "      <td id=\"T_16bf4_row6_col0\" class=\"data row6 col0\" >Transformed test set shape</td>\n",
              "      <td id=\"T_16bf4_row6_col1\" class=\"data row6 col1\" >(402, 10)</td>\n",
              "    </tr>\n",
              "    <tr>\n",
              "      <th id=\"T_16bf4_level0_row7\" class=\"row_heading level0 row7\" >7</th>\n",
              "      <td id=\"T_16bf4_row7_col0\" class=\"data row7 col0\" >Ordinal features</td>\n",
              "      <td id=\"T_16bf4_row7_col1\" class=\"data row7 col1\" >2</td>\n",
              "    </tr>\n",
              "    <tr>\n",
              "      <th id=\"T_16bf4_level0_row8\" class=\"row_heading level0 row8\" >8</th>\n",
              "      <td id=\"T_16bf4_row8_col0\" class=\"data row8 col0\" >Numeric features</td>\n",
              "      <td id=\"T_16bf4_row8_col1\" class=\"data row8 col1\" >3</td>\n",
              "    </tr>\n",
              "    <tr>\n",
              "      <th id=\"T_16bf4_level0_row9\" class=\"row_heading level0 row9\" >9</th>\n",
              "      <td id=\"T_16bf4_row9_col0\" class=\"data row9 col0\" >Categorical features</td>\n",
              "      <td id=\"T_16bf4_row9_col1\" class=\"data row9 col1\" >3</td>\n",
              "    </tr>\n",
              "    <tr>\n",
              "      <th id=\"T_16bf4_level0_row10\" class=\"row_heading level0 row10\" >10</th>\n",
              "      <td id=\"T_16bf4_row10_col0\" class=\"data row10 col0\" >Preprocess</td>\n",
              "      <td id=\"T_16bf4_row10_col1\" class=\"data row10 col1\" >True</td>\n",
              "    </tr>\n",
              "    <tr>\n",
              "      <th id=\"T_16bf4_level0_row11\" class=\"row_heading level0 row11\" >11</th>\n",
              "      <td id=\"T_16bf4_row11_col0\" class=\"data row11 col0\" >Imputation type</td>\n",
              "      <td id=\"T_16bf4_row11_col1\" class=\"data row11 col1\" >simple</td>\n",
              "    </tr>\n",
              "    <tr>\n",
              "      <th id=\"T_16bf4_level0_row12\" class=\"row_heading level0 row12\" >12</th>\n",
              "      <td id=\"T_16bf4_row12_col0\" class=\"data row12 col0\" >Numeric imputation</td>\n",
              "      <td id=\"T_16bf4_row12_col1\" class=\"data row12 col1\" >mean</td>\n",
              "    </tr>\n",
              "    <tr>\n",
              "      <th id=\"T_16bf4_level0_row13\" class=\"row_heading level0 row13\" >13</th>\n",
              "      <td id=\"T_16bf4_row13_col0\" class=\"data row13 col0\" >Categorical imputation</td>\n",
              "      <td id=\"T_16bf4_row13_col1\" class=\"data row13 col1\" >mode</td>\n",
              "    </tr>\n",
              "    <tr>\n",
              "      <th id=\"T_16bf4_level0_row14\" class=\"row_heading level0 row14\" >14</th>\n",
              "      <td id=\"T_16bf4_row14_col0\" class=\"data row14 col0\" >Maximum one-hot encoding</td>\n",
              "      <td id=\"T_16bf4_row14_col1\" class=\"data row14 col1\" >25</td>\n",
              "    </tr>\n",
              "    <tr>\n",
              "      <th id=\"T_16bf4_level0_row15\" class=\"row_heading level0 row15\" >15</th>\n",
              "      <td id=\"T_16bf4_row15_col0\" class=\"data row15 col0\" >Encoding method</td>\n",
              "      <td id=\"T_16bf4_row15_col1\" class=\"data row15 col1\" >None</td>\n",
              "    </tr>\n",
              "    <tr>\n",
              "      <th id=\"T_16bf4_level0_row16\" class=\"row_heading level0 row16\" >16</th>\n",
              "      <td id=\"T_16bf4_row16_col0\" class=\"data row16 col0\" >Remove outliers</td>\n",
              "      <td id=\"T_16bf4_row16_col1\" class=\"data row16 col1\" >True</td>\n",
              "    </tr>\n",
              "    <tr>\n",
              "      <th id=\"T_16bf4_level0_row17\" class=\"row_heading level0 row17\" >17</th>\n",
              "      <td id=\"T_16bf4_row17_col0\" class=\"data row17 col0\" >Outliers threshold</td>\n",
              "      <td id=\"T_16bf4_row17_col1\" class=\"data row17 col1\" >0.050000</td>\n",
              "    </tr>\n",
              "    <tr>\n",
              "      <th id=\"T_16bf4_level0_row18\" class=\"row_heading level0 row18\" >18</th>\n",
              "      <td id=\"T_16bf4_row18_col0\" class=\"data row18 col0\" >Normalize</td>\n",
              "      <td id=\"T_16bf4_row18_col1\" class=\"data row18 col1\" >True</td>\n",
              "    </tr>\n",
              "    <tr>\n",
              "      <th id=\"T_16bf4_level0_row19\" class=\"row_heading level0 row19\" >19</th>\n",
              "      <td id=\"T_16bf4_row19_col0\" class=\"data row19 col0\" >Normalize method</td>\n",
              "      <td id=\"T_16bf4_row19_col1\" class=\"data row19 col1\" >zscore</td>\n",
              "    </tr>\n",
              "    <tr>\n",
              "      <th id=\"T_16bf4_level0_row20\" class=\"row_heading level0 row20\" >20</th>\n",
              "      <td id=\"T_16bf4_row20_col0\" class=\"data row20 col0\" >Fold Generator</td>\n",
              "      <td id=\"T_16bf4_row20_col1\" class=\"data row20 col1\" >KFold</td>\n",
              "    </tr>\n",
              "    <tr>\n",
              "      <th id=\"T_16bf4_level0_row21\" class=\"row_heading level0 row21\" >21</th>\n",
              "      <td id=\"T_16bf4_row21_col0\" class=\"data row21 col0\" >Fold Number</td>\n",
              "      <td id=\"T_16bf4_row21_col1\" class=\"data row21 col1\" >10</td>\n",
              "    </tr>\n",
              "    <tr>\n",
              "      <th id=\"T_16bf4_level0_row22\" class=\"row_heading level0 row22\" >22</th>\n",
              "      <td id=\"T_16bf4_row22_col0\" class=\"data row22 col0\" >CPU Jobs</td>\n",
              "      <td id=\"T_16bf4_row22_col1\" class=\"data row22 col1\" >-1</td>\n",
              "    </tr>\n",
              "    <tr>\n",
              "      <th id=\"T_16bf4_level0_row23\" class=\"row_heading level0 row23\" >23</th>\n",
              "      <td id=\"T_16bf4_row23_col0\" class=\"data row23 col0\" >Use GPU</td>\n",
              "      <td id=\"T_16bf4_row23_col1\" class=\"data row23 col1\" >False</td>\n",
              "    </tr>\n",
              "    <tr>\n",
              "      <th id=\"T_16bf4_level0_row24\" class=\"row_heading level0 row24\" >24</th>\n",
              "      <td id=\"T_16bf4_row24_col0\" class=\"data row24 col0\" >Log Experiment</td>\n",
              "      <td id=\"T_16bf4_row24_col1\" class=\"data row24 col1\" >False</td>\n",
              "    </tr>\n",
              "    <tr>\n",
              "      <th id=\"T_16bf4_level0_row25\" class=\"row_heading level0 row25\" >25</th>\n",
              "      <td id=\"T_16bf4_row25_col0\" class=\"data row25 col0\" >Experiment Name</td>\n",
              "      <td id=\"T_16bf4_row25_col1\" class=\"data row25 col1\" >reg-default-name</td>\n",
              "    </tr>\n",
              "    <tr>\n",
              "      <th id=\"T_16bf4_level0_row26\" class=\"row_heading level0 row26\" >26</th>\n",
              "      <td id=\"T_16bf4_row26_col0\" class=\"data row26 col0\" >USI</td>\n",
              "      <td id=\"T_16bf4_row26_col1\" class=\"data row26 col1\" >3de0</td>\n",
              "    </tr>\n",
              "  </tbody>\n",
              "</table>\n"
            ]
          },
          "metadata": {}
        }
      ]
    },
    {
      "cell_type": "markdown",
      "metadata": {
        "id": "L2B798T-0qof"
      },
      "source": [
        "# Treinar um Primeiro Modelo"
      ]
    },
    {
      "cell_type": "markdown",
      "metadata": {
        "id": "jhgZZBo60y-n"
      },
      "source": [
        "Exibe os índices de performance para os 10 folders (default do setup) que são conjunto de dados para treinamento usados para diminuir a variância do treinamento."
      ]
    },
    {
      "cell_type": "code",
      "metadata": {
        "colab": {
          "base_uri": "https://localhost:8080/",
          "height": 466,
          "referenced_widgets": [
            "a1c3e9dc00db4b1592517cf08d4447bb",
            "5aceee5440c94f6ab3ef085cf07aa008",
            "91178475799d4327b1b9758c4a6fb784",
            "5fa5ea4e316f4613ae5165a9d29cd8dd",
            "f78760401b924871bb675f8b717fde5f",
            "43697020177e4a949bc1139b2bb768f1",
            "78e3b807cd97413e85b58541c08415e5",
            "fd70fdd947d646cb899bcdac6d676b2e",
            "b148f7c7b2c241ca842f8f9c6d9ecc6e",
            "190c62565b0440c8b7af08875b31b40a",
            "581a3db9679c49cf9b0241b31b9c8c7d"
          ]
        },
        "id": "C-T2ivWdX1Cr",
        "outputId": "13d66332-a8d4-422a-89eb-e5013734462e"
      },
      "source": [
        "from pycaret.regression import create_model\n",
        "\n",
        "rf_model = create_model('rf') # Random Forest"
      ],
      "execution_count": 17,
      "outputs": [
        {
          "output_type": "display_data",
          "data": {
            "text/plain": [
              "<IPython.core.display.HTML object>"
            ],
            "text/html": []
          },
          "metadata": {}
        },
        {
          "output_type": "display_data",
          "data": {
            "text/plain": [
              "<pandas.io.formats.style.Styler at 0x7fab791bcc40>"
            ],
            "text/html": [
              "<style type=\"text/css\">\n",
              "#T_d2338_row10_col0, #T_d2338_row10_col1, #T_d2338_row10_col2, #T_d2338_row10_col3, #T_d2338_row10_col4, #T_d2338_row10_col5 {\n",
              "  background: yellow;\n",
              "}\n",
              "</style>\n",
              "<table id=\"T_d2338\" class=\"dataframe\">\n",
              "  <thead>\n",
              "    <tr>\n",
              "      <th class=\"blank level0\" >&nbsp;</th>\n",
              "      <th id=\"T_d2338_level0_col0\" class=\"col_heading level0 col0\" >MAE</th>\n",
              "      <th id=\"T_d2338_level0_col1\" class=\"col_heading level0 col1\" >MSE</th>\n",
              "      <th id=\"T_d2338_level0_col2\" class=\"col_heading level0 col2\" >RMSE</th>\n",
              "      <th id=\"T_d2338_level0_col3\" class=\"col_heading level0 col3\" >R2</th>\n",
              "      <th id=\"T_d2338_level0_col4\" class=\"col_heading level0 col4\" >RMSLE</th>\n",
              "      <th id=\"T_d2338_level0_col5\" class=\"col_heading level0 col5\" >MAPE</th>\n",
              "    </tr>\n",
              "    <tr>\n",
              "      <th class=\"index_name level0\" >Fold</th>\n",
              "      <th class=\"blank col0\" >&nbsp;</th>\n",
              "      <th class=\"blank col1\" >&nbsp;</th>\n",
              "      <th class=\"blank col2\" >&nbsp;</th>\n",
              "      <th class=\"blank col3\" >&nbsp;</th>\n",
              "      <th class=\"blank col4\" >&nbsp;</th>\n",
              "      <th class=\"blank col5\" >&nbsp;</th>\n",
              "    </tr>\n",
              "  </thead>\n",
              "  <tbody>\n",
              "    <tr>\n",
              "      <th id=\"T_d2338_level0_row0\" class=\"row_heading level0 row0\" >0</th>\n",
              "      <td id=\"T_d2338_row0_col0\" class=\"data row0 col0\" >2284.8973</td>\n",
              "      <td id=\"T_d2338_row0_col1\" class=\"data row0 col1\" >14873632.3814</td>\n",
              "      <td id=\"T_d2338_row0_col2\" class=\"data row0 col2\" >3856.6349</td>\n",
              "      <td id=\"T_d2338_row0_col3\" class=\"data row0 col3\" >0.9242</td>\n",
              "      <td id=\"T_d2338_row0_col4\" class=\"data row0 col4\" >0.3945</td>\n",
              "      <td id=\"T_d2338_row0_col5\" class=\"data row0 col5\" >0.2661</td>\n",
              "    </tr>\n",
              "    <tr>\n",
              "      <th id=\"T_d2338_level0_row1\" class=\"row_heading level0 row1\" >1</th>\n",
              "      <td id=\"T_d2338_row1_col0\" class=\"data row1 col0\" >2658.0294</td>\n",
              "      <td id=\"T_d2338_row1_col1\" class=\"data row1 col1\" >21206916.6413</td>\n",
              "      <td id=\"T_d2338_row1_col2\" class=\"data row1 col2\" >4605.0968</td>\n",
              "      <td id=\"T_d2338_row1_col3\" class=\"data row1 col3\" >0.8191</td>\n",
              "      <td id=\"T_d2338_row1_col4\" class=\"data row1 col4\" >0.4345</td>\n",
              "      <td id=\"T_d2338_row1_col5\" class=\"data row1 col5\" >0.3093</td>\n",
              "    </tr>\n",
              "    <tr>\n",
              "      <th id=\"T_d2338_level0_row2\" class=\"row_heading level0 row2\" >2</th>\n",
              "      <td id=\"T_d2338_row2_col0\" class=\"data row2 col0\" >3083.5970</td>\n",
              "      <td id=\"T_d2338_row2_col1\" class=\"data row2 col1\" >33858714.1306</td>\n",
              "      <td id=\"T_d2338_row2_col2\" class=\"data row2 col2\" >5818.8241</td>\n",
              "      <td id=\"T_d2338_row2_col3\" class=\"data row2 col3\" >0.7796</td>\n",
              "      <td id=\"T_d2338_row2_col4\" class=\"data row2 col4\" >0.4697</td>\n",
              "      <td id=\"T_d2338_row2_col5\" class=\"data row2 col5\" >0.3180</td>\n",
              "    </tr>\n",
              "    <tr>\n",
              "      <th id=\"T_d2338_level0_row3\" class=\"row_heading level0 row3\" >3</th>\n",
              "      <td id=\"T_d2338_row3_col0\" class=\"data row3 col0\" >3008.4458</td>\n",
              "      <td id=\"T_d2338_row3_col1\" class=\"data row3 col1\" >32636819.2030</td>\n",
              "      <td id=\"T_d2338_row3_col2\" class=\"data row3 col2\" >5712.8644</td>\n",
              "      <td id=\"T_d2338_row3_col3\" class=\"data row3 col3\" >0.7340</td>\n",
              "      <td id=\"T_d2338_row3_col4\" class=\"data row3 col4\" >0.4891</td>\n",
              "      <td id=\"T_d2338_row3_col5\" class=\"data row3 col5\" >0.3195</td>\n",
              "    </tr>\n",
              "    <tr>\n",
              "      <th id=\"T_d2338_level0_row4\" class=\"row_heading level0 row4\" >4</th>\n",
              "      <td id=\"T_d2338_row4_col0\" class=\"data row4 col0\" >1977.0809</td>\n",
              "      <td id=\"T_d2338_row4_col1\" class=\"data row4 col1\" >8301259.9389</td>\n",
              "      <td id=\"T_d2338_row4_col2\" class=\"data row4 col2\" >2881.1907</td>\n",
              "      <td id=\"T_d2338_row4_col3\" class=\"data row4 col3\" >0.9497</td>\n",
              "      <td id=\"T_d2338_row4_col4\" class=\"data row4 col4\" >0.3844</td>\n",
              "      <td id=\"T_d2338_row4_col5\" class=\"data row4 col5\" >0.3190</td>\n",
              "    </tr>\n",
              "    <tr>\n",
              "      <th id=\"T_d2338_level0_row5\" class=\"row_heading level0 row5\" >5</th>\n",
              "      <td id=\"T_d2338_row5_col0\" class=\"data row5 col0\" >2601.7672</td>\n",
              "      <td id=\"T_d2338_row5_col1\" class=\"data row5 col1\" >26814233.5241</td>\n",
              "      <td id=\"T_d2338_row5_col2\" class=\"data row5 col2\" >5178.2462</td>\n",
              "      <td id=\"T_d2338_row5_col3\" class=\"data row5 col3\" >0.7842</td>\n",
              "      <td id=\"T_d2338_row5_col4\" class=\"data row5 col4\" >0.4554</td>\n",
              "      <td id=\"T_d2338_row5_col5\" class=\"data row5 col5\" >0.2071</td>\n",
              "    </tr>\n",
              "    <tr>\n",
              "      <th id=\"T_d2338_level0_row6\" class=\"row_heading level0 row6\" >6</th>\n",
              "      <td id=\"T_d2338_row6_col0\" class=\"data row6 col0\" >2230.2969</td>\n",
              "      <td id=\"T_d2338_row6_col1\" class=\"data row6 col1\" >15794434.9908</td>\n",
              "      <td id=\"T_d2338_row6_col2\" class=\"data row6 col2\" >3974.2213</td>\n",
              "      <td id=\"T_d2338_row6_col3\" class=\"data row6 col3\" >0.8859</td>\n",
              "      <td id=\"T_d2338_row6_col4\" class=\"data row6 col4\" >0.4228</td>\n",
              "      <td id=\"T_d2338_row6_col5\" class=\"data row6 col5\" >0.3289</td>\n",
              "    </tr>\n",
              "    <tr>\n",
              "      <th id=\"T_d2338_level0_row7\" class=\"row_heading level0 row7\" >7</th>\n",
              "      <td id=\"T_d2338_row7_col0\" class=\"data row7 col0\" >2979.2867</td>\n",
              "      <td id=\"T_d2338_row7_col1\" class=\"data row7 col1\" >24375936.8617</td>\n",
              "      <td id=\"T_d2338_row7_col2\" class=\"data row7 col2\" >4937.1993</td>\n",
              "      <td id=\"T_d2338_row7_col3\" class=\"data row7 col3\" >0.8327</td>\n",
              "      <td id=\"T_d2338_row7_col4\" class=\"data row7 col4\" >0.5097</td>\n",
              "      <td id=\"T_d2338_row7_col5\" class=\"data row7 col5\" >0.3782</td>\n",
              "    </tr>\n",
              "    <tr>\n",
              "      <th id=\"T_d2338_level0_row8\" class=\"row_heading level0 row8\" >8</th>\n",
              "      <td id=\"T_d2338_row8_col0\" class=\"data row8 col0\" >3106.1455</td>\n",
              "      <td id=\"T_d2338_row8_col1\" class=\"data row8 col1\" >30038007.8731</td>\n",
              "      <td id=\"T_d2338_row8_col2\" class=\"data row8 col2\" >5480.6941</td>\n",
              "      <td id=\"T_d2338_row8_col3\" class=\"data row8 col3\" >0.7696</td>\n",
              "      <td id=\"T_d2338_row8_col4\" class=\"data row8 col4\" >0.5274</td>\n",
              "      <td id=\"T_d2338_row8_col5\" class=\"data row8 col5\" >0.3290</td>\n",
              "    </tr>\n",
              "    <tr>\n",
              "      <th id=\"T_d2338_level0_row9\" class=\"row_heading level0 row9\" >9</th>\n",
              "      <td id=\"T_d2338_row9_col0\" class=\"data row9 col0\" >1969.3627</td>\n",
              "      <td id=\"T_d2338_row9_col1\" class=\"data row9 col1\" >17160196.3685</td>\n",
              "      <td id=\"T_d2338_row9_col2\" class=\"data row9 col2\" >4142.4867</td>\n",
              "      <td id=\"T_d2338_row9_col3\" class=\"data row9 col3\" >0.9102</td>\n",
              "      <td id=\"T_d2338_row9_col4\" class=\"data row9 col4\" >0.2523</td>\n",
              "      <td id=\"T_d2338_row9_col5\" class=\"data row9 col5\" >0.1890</td>\n",
              "    </tr>\n",
              "    <tr>\n",
              "      <th id=\"T_d2338_level0_row10\" class=\"row_heading level0 row10\" >Mean</th>\n",
              "      <td id=\"T_d2338_row10_col0\" class=\"data row10 col0\" >2589.8909</td>\n",
              "      <td id=\"T_d2338_row10_col1\" class=\"data row10 col1\" >22506015.1913</td>\n",
              "      <td id=\"T_d2338_row10_col2\" class=\"data row10 col2\" >4658.7458</td>\n",
              "      <td id=\"T_d2338_row10_col3\" class=\"data row10 col3\" >0.8389</td>\n",
              "      <td id=\"T_d2338_row10_col4\" class=\"data row10 col4\" >0.4340</td>\n",
              "      <td id=\"T_d2338_row10_col5\" class=\"data row10 col5\" >0.2964</td>\n",
              "    </tr>\n",
              "    <tr>\n",
              "      <th id=\"T_d2338_level0_row11\" class=\"row_heading level0 row11\" >Std</th>\n",
              "      <td id=\"T_d2338_row11_col0\" class=\"data row11 col0\" >427.1751</td>\n",
              "      <td id=\"T_d2338_row11_col1\" class=\"data row11 col1\" >8035199.5184</td>\n",
              "      <td id=\"T_d2338_row11_col2\" class=\"data row11 col2\" >895.6016</td>\n",
              "      <td id=\"T_d2338_row11_col3\" class=\"data row11 col3\" >0.0704</td>\n",
              "      <td id=\"T_d2338_row11_col4\" class=\"data row11 col4\" >0.0751</td>\n",
              "      <td id=\"T_d2338_row11_col5\" class=\"data row11 col5\" >0.0556</td>\n",
              "    </tr>\n",
              "  </tbody>\n",
              "</table>\n"
            ]
          },
          "metadata": {}
        },
        {
          "output_type": "display_data",
          "data": {
            "text/plain": [
              "Processing:   0%|          | 0/4 [00:00<?, ?it/s]"
            ],
            "application/vnd.jupyter.widget-view+json": {
              "version_major": 2,
              "version_minor": 0,
              "model_id": "a1c3e9dc00db4b1592517cf08d4447bb"
            }
          },
          "metadata": {
            "application/vnd.jupyter.widget-view+json": {
              "colab": {
                "custom_widget_manager": {
                  "url": "https://ssl.gstatic.com/colaboratory-static/widgets/colab-cdn-widget-manager/b3e629b1971e1542/manager.min.js"
                }
              }
            }
          }
        },
        {
          "output_type": "display_data",
          "data": {
            "text/plain": [
              "<IPython.core.display.HTML object>"
            ],
            "text/html": []
          },
          "metadata": {}
        }
      ]
    },
    {
      "cell_type": "code",
      "metadata": {
        "colab": {
          "base_uri": "https://localhost:8080/"
        },
        "id": "YOrQ4ut25G3f",
        "outputId": "586add77-10d6-4bba-8fa7-51e35c032503"
      },
      "source": [
        "mean_charges = insurance_data['charges'].mean()\n",
        "print(f'média de gastos: ${mean_charges:.2f}')\n",
        "\n",
        "value_RMSE = 4658.7458\n",
        "print(f'desvio percentual: {value_RMSE / mean_charges:.1%}')"
      ],
      "execution_count": 20,
      "outputs": [
        {
          "output_type": "stream",
          "name": "stdout",
          "text": [
            "média de gastos: $13270.42\n",
            "desvio percentual: 35.1%\n"
          ]
        }
      ]
    },
    {
      "cell_type": "markdown",
      "metadata": {
        "id": "fneZXoZi5ozT"
      },
      "source": [
        "O desvio(erro) é muito alto em comparação com a média. Então tentamos diminuir esse valor treinando o modelo para otimizar o valor de RMSE."
      ]
    },
    {
      "cell_type": "code",
      "metadata": {
        "colab": {
          "base_uri": "https://localhost:8080/",
          "height": 976,
          "referenced_widgets": [
            "023357cadca24801987982d52dccb4cf",
            "d30b112582694a72b96726420092feff",
            "a4f0c03048f3405c97a40c3ccf156259",
            "acae33dd30a941e0befc852ca8a074bb",
            "2f835834dc254411a8e854a37fe43bcd",
            "1013b839e0db4af3ad944e0c2f7aacab",
            "fbaf47b87dda43808b0a4a91eb8f0cdc",
            "79e56a0003994df5b93e70c28c9f5423",
            "8b3af854509c4641a88969dc48c83bc6",
            "1847b8d235904ccb9e7f598d361f6e0b",
            "60c153c3124d42dbac075c710961c4c1",
            "084be24da96244c29d2a8637b293975e",
            "80f0988522a34d8cbeda66d139991069",
            "e8402b287abc46c38357a4826c89db88",
            "d30911aa532049a8bb78f45de6d3fa7d",
            "191803c3db994af8932c2ef27b65f3e7",
            "524f065c2a204ad99840e900b76543db",
            "4172c7287b444e19be18e228d267c2b9",
            "11020b003472448d8401ee8e43fd3286",
            "817b6eaeb334483082e78ef4949f2428",
            "995dc8686037407b923bb17fffac4ff3",
            "762dcebf66334b06932806db66313cef"
          ]
        },
        "id": "IgEhohgsZxiq",
        "outputId": "2589e907-a857-47fe-b9c9-0a801f8b6077"
      },
      "source": [
        "from pycaret.regression import tune_model\n",
        "\n",
        "print('Aplicando 20 Iterações')\n",
        "rf_model_trained20 = tune_model(rf_model, optimize=\"RMSE\", n_iter=20)\n",
        "\n",
        "print()\n",
        "print('Aplicando 40 Iterações')\n",
        "rf_model_trained40 = tune_model(rf_model, optimize=\"RMSE\", n_iter=40)"
      ],
      "execution_count": 21,
      "outputs": [
        {
          "output_type": "stream",
          "name": "stdout",
          "text": [
            "Aplicando 20 Iterações\n"
          ]
        },
        {
          "output_type": "display_data",
          "data": {
            "text/plain": [
              "<IPython.core.display.HTML object>"
            ],
            "text/html": []
          },
          "metadata": {}
        },
        {
          "output_type": "display_data",
          "data": {
            "text/plain": [
              "<pandas.io.formats.style.Styler at 0x7fab784d8a30>"
            ],
            "text/html": [
              "<style type=\"text/css\">\n",
              "#T_5e6a1_row10_col0, #T_5e6a1_row10_col1, #T_5e6a1_row10_col2, #T_5e6a1_row10_col3, #T_5e6a1_row10_col4, #T_5e6a1_row10_col5 {\n",
              "  background: yellow;\n",
              "}\n",
              "</style>\n",
              "<table id=\"T_5e6a1\" class=\"dataframe\">\n",
              "  <thead>\n",
              "    <tr>\n",
              "      <th class=\"blank level0\" >&nbsp;</th>\n",
              "      <th id=\"T_5e6a1_level0_col0\" class=\"col_heading level0 col0\" >MAE</th>\n",
              "      <th id=\"T_5e6a1_level0_col1\" class=\"col_heading level0 col1\" >MSE</th>\n",
              "      <th id=\"T_5e6a1_level0_col2\" class=\"col_heading level0 col2\" >RMSE</th>\n",
              "      <th id=\"T_5e6a1_level0_col3\" class=\"col_heading level0 col3\" >R2</th>\n",
              "      <th id=\"T_5e6a1_level0_col4\" class=\"col_heading level0 col4\" >RMSLE</th>\n",
              "      <th id=\"T_5e6a1_level0_col5\" class=\"col_heading level0 col5\" >MAPE</th>\n",
              "    </tr>\n",
              "    <tr>\n",
              "      <th class=\"index_name level0\" >Fold</th>\n",
              "      <th class=\"blank col0\" >&nbsp;</th>\n",
              "      <th class=\"blank col1\" >&nbsp;</th>\n",
              "      <th class=\"blank col2\" >&nbsp;</th>\n",
              "      <th class=\"blank col3\" >&nbsp;</th>\n",
              "      <th class=\"blank col4\" >&nbsp;</th>\n",
              "      <th class=\"blank col5\" >&nbsp;</th>\n",
              "    </tr>\n",
              "  </thead>\n",
              "  <tbody>\n",
              "    <tr>\n",
              "      <th id=\"T_5e6a1_level0_row0\" class=\"row_heading level0 row0\" >0</th>\n",
              "      <td id=\"T_5e6a1_row0_col0\" class=\"data row0 col0\" >1923.6914</td>\n",
              "      <td id=\"T_5e6a1_row0_col1\" class=\"data row0 col1\" >10373837.9085</td>\n",
              "      <td id=\"T_5e6a1_row0_col2\" class=\"data row0 col2\" >3220.8443</td>\n",
              "      <td id=\"T_5e6a1_row0_col3\" class=\"data row0 col3\" >0.9471</td>\n",
              "      <td id=\"T_5e6a1_row0_col4\" class=\"data row0 col4\" >0.3347</td>\n",
              "      <td id=\"T_5e6a1_row0_col5\" class=\"data row0 col5\" >0.2117</td>\n",
              "    </tr>\n",
              "    <tr>\n",
              "      <th id=\"T_5e6a1_level0_row1\" class=\"row_heading level0 row1\" >1</th>\n",
              "      <td id=\"T_5e6a1_row1_col0\" class=\"data row1 col0\" >2603.9251</td>\n",
              "      <td id=\"T_5e6a1_row1_col1\" class=\"data row1 col1\" >19924671.5647</td>\n",
              "      <td id=\"T_5e6a1_row1_col2\" class=\"data row1 col2\" >4463.7060</td>\n",
              "      <td id=\"T_5e6a1_row1_col3\" class=\"data row1 col3\" >0.8300</td>\n",
              "      <td id=\"T_5e6a1_row1_col4\" class=\"data row1 col4\" >0.4093</td>\n",
              "      <td id=\"T_5e6a1_row1_col5\" class=\"data row1 col5\" >0.3068</td>\n",
              "    </tr>\n",
              "    <tr>\n",
              "      <th id=\"T_5e6a1_level0_row2\" class=\"row_heading level0 row2\" >2</th>\n",
              "      <td id=\"T_5e6a1_row2_col0\" class=\"data row2 col0\" >2887.2906</td>\n",
              "      <td id=\"T_5e6a1_row2_col1\" class=\"data row2 col1\" >31564882.5052</td>\n",
              "      <td id=\"T_5e6a1_row2_col2\" class=\"data row2 col2\" >5618.2633</td>\n",
              "      <td id=\"T_5e6a1_row2_col3\" class=\"data row2 col3\" >0.7946</td>\n",
              "      <td id=\"T_5e6a1_row2_col4\" class=\"data row2 col4\" >0.4486</td>\n",
              "      <td id=\"T_5e6a1_row2_col5\" class=\"data row2 col5\" >0.2900</td>\n",
              "    </tr>\n",
              "    <tr>\n",
              "      <th id=\"T_5e6a1_level0_row3\" class=\"row_heading level0 row3\" >3</th>\n",
              "      <td id=\"T_5e6a1_row3_col0\" class=\"data row3 col0\" >2778.2449</td>\n",
              "      <td id=\"T_5e6a1_row3_col1\" class=\"data row3 col1\" >28936176.2444</td>\n",
              "      <td id=\"T_5e6a1_row3_col2\" class=\"data row3 col2\" >5379.2357</td>\n",
              "      <td id=\"T_5e6a1_row3_col3\" class=\"data row3 col3\" >0.7642</td>\n",
              "      <td id=\"T_5e6a1_row3_col4\" class=\"data row3 col4\" >0.4428</td>\n",
              "      <td id=\"T_5e6a1_row3_col5\" class=\"data row3 col5\" >0.2880</td>\n",
              "    </tr>\n",
              "    <tr>\n",
              "      <th id=\"T_5e6a1_level0_row4\" class=\"row_heading level0 row4\" >4</th>\n",
              "      <td id=\"T_5e6a1_row4_col0\" class=\"data row4 col0\" >1751.2816</td>\n",
              "      <td id=\"T_5e6a1_row4_col1\" class=\"data row4 col1\" >6048557.9606</td>\n",
              "      <td id=\"T_5e6a1_row4_col2\" class=\"data row4 col2\" >2459.3816</td>\n",
              "      <td id=\"T_5e6a1_row4_col3\" class=\"data row4 col3\" >0.9634</td>\n",
              "      <td id=\"T_5e6a1_row4_col4\" class=\"data row4 col4\" >0.3471</td>\n",
              "      <td id=\"T_5e6a1_row4_col5\" class=\"data row4 col5\" >0.2878</td>\n",
              "    </tr>\n",
              "    <tr>\n",
              "      <th id=\"T_5e6a1_level0_row5\" class=\"row_heading level0 row5\" >5</th>\n",
              "      <td id=\"T_5e6a1_row5_col0\" class=\"data row5 col0\" >2542.8306</td>\n",
              "      <td id=\"T_5e6a1_row5_col1\" class=\"data row5 col1\" >24981309.9705</td>\n",
              "      <td id=\"T_5e6a1_row5_col2\" class=\"data row5 col2\" >4998.1306</td>\n",
              "      <td id=\"T_5e6a1_row5_col3\" class=\"data row5 col3\" >0.7990</td>\n",
              "      <td id=\"T_5e6a1_row5_col4\" class=\"data row5 col4\" >0.4262</td>\n",
              "      <td id=\"T_5e6a1_row5_col5\" class=\"data row5 col5\" >0.2109</td>\n",
              "    </tr>\n",
              "    <tr>\n",
              "      <th id=\"T_5e6a1_level0_row6\" class=\"row_heading level0 row6\" >6</th>\n",
              "      <td id=\"T_5e6a1_row6_col0\" class=\"data row6 col0\" >2141.9283</td>\n",
              "      <td id=\"T_5e6a1_row6_col1\" class=\"data row6 col1\" >14635609.9004</td>\n",
              "      <td id=\"T_5e6a1_row6_col2\" class=\"data row6 col2\" >3825.6516</td>\n",
              "      <td id=\"T_5e6a1_row6_col3\" class=\"data row6 col3\" >0.8942</td>\n",
              "      <td id=\"T_5e6a1_row6_col4\" class=\"data row6 col4\" >0.3681</td>\n",
              "      <td id=\"T_5e6a1_row6_col5\" class=\"data row6 col5\" >0.2775</td>\n",
              "    </tr>\n",
              "    <tr>\n",
              "      <th id=\"T_5e6a1_level0_row7\" class=\"row_heading level0 row7\" >7</th>\n",
              "      <td id=\"T_5e6a1_row7_col0\" class=\"data row7 col0\" >2584.7322</td>\n",
              "      <td id=\"T_5e6a1_row7_col1\" class=\"data row7 col1\" >18968860.4394</td>\n",
              "      <td id=\"T_5e6a1_row7_col2\" class=\"data row7 col2\" >4355.3255</td>\n",
              "      <td id=\"T_5e6a1_row7_col3\" class=\"data row7 col3\" >0.8698</td>\n",
              "      <td id=\"T_5e6a1_row7_col4\" class=\"data row7 col4\" >0.4569</td>\n",
              "      <td id=\"T_5e6a1_row7_col5\" class=\"data row7 col5\" >0.3187</td>\n",
              "    </tr>\n",
              "    <tr>\n",
              "      <th id=\"T_5e6a1_level0_row8\" class=\"row_heading level0 row8\" >8</th>\n",
              "      <td id=\"T_5e6a1_row8_col0\" class=\"data row8 col0\" >2998.4915</td>\n",
              "      <td id=\"T_5e6a1_row8_col1\" class=\"data row8 col1\" >25894528.5415</td>\n",
              "      <td id=\"T_5e6a1_row8_col2\" class=\"data row8 col2\" >5088.6667</td>\n",
              "      <td id=\"T_5e6a1_row8_col3\" class=\"data row8 col3\" >0.8013</td>\n",
              "      <td id=\"T_5e6a1_row8_col4\" class=\"data row8 col4\" >0.5019</td>\n",
              "      <td id=\"T_5e6a1_row8_col5\" class=\"data row8 col5\" >0.3206</td>\n",
              "    </tr>\n",
              "    <tr>\n",
              "      <th id=\"T_5e6a1_level0_row9\" class=\"row_heading level0 row9\" >9</th>\n",
              "      <td id=\"T_5e6a1_row9_col0\" class=\"data row9 col0\" >2062.6024</td>\n",
              "      <td id=\"T_5e6a1_row9_col1\" class=\"data row9 col1\" >17157628.2979</td>\n",
              "      <td id=\"T_5e6a1_row9_col2\" class=\"data row9 col2\" >4142.1768</td>\n",
              "      <td id=\"T_5e6a1_row9_col3\" class=\"data row9 col3\" >0.9102</td>\n",
              "      <td id=\"T_5e6a1_row9_col4\" class=\"data row9 col4\" >0.2665</td>\n",
              "      <td id=\"T_5e6a1_row9_col5\" class=\"data row9 col5\" >0.2132</td>\n",
              "    </tr>\n",
              "    <tr>\n",
              "      <th id=\"T_5e6a1_level0_row10\" class=\"row_heading level0 row10\" >Mean</th>\n",
              "      <td id=\"T_5e6a1_row10_col0\" class=\"data row10 col0\" >2427.5019</td>\n",
              "      <td id=\"T_5e6a1_row10_col1\" class=\"data row10 col1\" >19848606.3333</td>\n",
              "      <td id=\"T_5e6a1_row10_col2\" class=\"data row10 col2\" >4355.1382</td>\n",
              "      <td id=\"T_5e6a1_row10_col3\" class=\"data row10 col3\" >0.8574</td>\n",
              "      <td id=\"T_5e6a1_row10_col4\" class=\"data row10 col4\" >0.4002</td>\n",
              "      <td id=\"T_5e6a1_row10_col5\" class=\"data row10 col5\" >0.2725</td>\n",
              "    </tr>\n",
              "    <tr>\n",
              "      <th id=\"T_5e6a1_level0_row11\" class=\"row_heading level0 row11\" >Std</th>\n",
              "      <td id=\"T_5e6a1_row11_col0\" class=\"data row11 col0\" >406.8668</td>\n",
              "      <td id=\"T_5e6a1_row11_col1\" class=\"data row11 col1\" >7734092.5864</td>\n",
              "      <td id=\"T_5e6a1_row11_col2\" class=\"data row11 col2\" >938.8171</td>\n",
              "      <td id=\"T_5e6a1_row11_col3\" class=\"data row11 col3\" >0.0660</td>\n",
              "      <td id=\"T_5e6a1_row11_col4\" class=\"data row11 col4\" >0.0667</td>\n",
              "      <td id=\"T_5e6a1_row11_col5\" class=\"data row11 col5\" >0.0418</td>\n",
              "    </tr>\n",
              "  </tbody>\n",
              "</table>\n"
            ]
          },
          "metadata": {}
        },
        {
          "output_type": "display_data",
          "data": {
            "text/plain": [
              "Processing:   0%|          | 0/7 [00:00<?, ?it/s]"
            ],
            "application/vnd.jupyter.widget-view+json": {
              "version_major": 2,
              "version_minor": 0,
              "model_id": "023357cadca24801987982d52dccb4cf"
            }
          },
          "metadata": {
            "application/vnd.jupyter.widget-view+json": {
              "colab": {
                "custom_widget_manager": {
                  "url": "https://ssl.gstatic.com/colaboratory-static/widgets/colab-cdn-widget-manager/b3e629b1971e1542/manager.min.js"
                }
              }
            }
          }
        },
        {
          "output_type": "display_data",
          "data": {
            "text/plain": [
              "<IPython.core.display.HTML object>"
            ],
            "text/html": []
          },
          "metadata": {}
        },
        {
          "output_type": "stream",
          "name": "stdout",
          "text": [
            "Fitting 10 folds for each of 20 candidates, totalling 200 fits\n"
          ]
        },
        {
          "output_type": "display_data",
          "data": {
            "text/plain": [
              "<IPython.core.display.HTML object>"
            ],
            "text/html": []
          },
          "metadata": {}
        },
        {
          "output_type": "stream",
          "name": "stdout",
          "text": [
            "\n",
            "Aplicando 40 Iterações\n"
          ]
        },
        {
          "output_type": "display_data",
          "data": {
            "text/plain": [
              "<IPython.core.display.HTML object>"
            ],
            "text/html": []
          },
          "metadata": {}
        },
        {
          "output_type": "display_data",
          "data": {
            "text/plain": [
              "<pandas.io.formats.style.Styler at 0x7fab791af970>"
            ],
            "text/html": [
              "<style type=\"text/css\">\n",
              "#T_d9e4e_row10_col0, #T_d9e4e_row10_col1, #T_d9e4e_row10_col2, #T_d9e4e_row10_col3, #T_d9e4e_row10_col4, #T_d9e4e_row10_col5 {\n",
              "  background: yellow;\n",
              "}\n",
              "</style>\n",
              "<table id=\"T_d9e4e\" class=\"dataframe\">\n",
              "  <thead>\n",
              "    <tr>\n",
              "      <th class=\"blank level0\" >&nbsp;</th>\n",
              "      <th id=\"T_d9e4e_level0_col0\" class=\"col_heading level0 col0\" >MAE</th>\n",
              "      <th id=\"T_d9e4e_level0_col1\" class=\"col_heading level0 col1\" >MSE</th>\n",
              "      <th id=\"T_d9e4e_level0_col2\" class=\"col_heading level0 col2\" >RMSE</th>\n",
              "      <th id=\"T_d9e4e_level0_col3\" class=\"col_heading level0 col3\" >R2</th>\n",
              "      <th id=\"T_d9e4e_level0_col4\" class=\"col_heading level0 col4\" >RMSLE</th>\n",
              "      <th id=\"T_d9e4e_level0_col5\" class=\"col_heading level0 col5\" >MAPE</th>\n",
              "    </tr>\n",
              "    <tr>\n",
              "      <th class=\"index_name level0\" >Fold</th>\n",
              "      <th class=\"blank col0\" >&nbsp;</th>\n",
              "      <th class=\"blank col1\" >&nbsp;</th>\n",
              "      <th class=\"blank col2\" >&nbsp;</th>\n",
              "      <th class=\"blank col3\" >&nbsp;</th>\n",
              "      <th class=\"blank col4\" >&nbsp;</th>\n",
              "      <th class=\"blank col5\" >&nbsp;</th>\n",
              "    </tr>\n",
              "  </thead>\n",
              "  <tbody>\n",
              "    <tr>\n",
              "      <th id=\"T_d9e4e_level0_row0\" class=\"row_heading level0 row0\" >0</th>\n",
              "      <td id=\"T_d9e4e_row0_col0\" class=\"data row0 col0\" >1930.4551</td>\n",
              "      <td id=\"T_d9e4e_row0_col1\" class=\"data row0 col1\" >10308505.5468</td>\n",
              "      <td id=\"T_d9e4e_row0_col2\" class=\"data row0 col2\" >3210.6861</td>\n",
              "      <td id=\"T_d9e4e_row0_col3\" class=\"data row0 col3\" >0.9475</td>\n",
              "      <td id=\"T_d9e4e_row0_col4\" class=\"data row0 col4\" >0.3325</td>\n",
              "      <td id=\"T_d9e4e_row0_col5\" class=\"data row0 col5\" >0.2138</td>\n",
              "    </tr>\n",
              "    <tr>\n",
              "      <th id=\"T_d9e4e_level0_row1\" class=\"row_heading level0 row1\" >1</th>\n",
              "      <td id=\"T_d9e4e_row1_col0\" class=\"data row1 col0\" >2611.3193</td>\n",
              "      <td id=\"T_d9e4e_row1_col1\" class=\"data row1 col1\" >19683985.8069</td>\n",
              "      <td id=\"T_d9e4e_row1_col2\" class=\"data row1 col2\" >4436.6638</td>\n",
              "      <td id=\"T_d9e4e_row1_col3\" class=\"data row1 col3\" >0.8321</td>\n",
              "      <td id=\"T_d9e4e_row1_col4\" class=\"data row1 col4\" >0.4075</td>\n",
              "      <td id=\"T_d9e4e_row1_col5\" class=\"data row1 col5\" >0.3095</td>\n",
              "    </tr>\n",
              "    <tr>\n",
              "      <th id=\"T_d9e4e_level0_row2\" class=\"row_heading level0 row2\" >2</th>\n",
              "      <td id=\"T_d9e4e_row2_col0\" class=\"data row2 col0\" >2908.1615</td>\n",
              "      <td id=\"T_d9e4e_row2_col1\" class=\"data row2 col1\" >31806667.1913</td>\n",
              "      <td id=\"T_d9e4e_row2_col2\" class=\"data row2 col2\" >5639.7400</td>\n",
              "      <td id=\"T_d9e4e_row2_col3\" class=\"data row2 col3\" >0.7930</td>\n",
              "      <td id=\"T_d9e4e_row2_col4\" class=\"data row2 col4\" >0.4521</td>\n",
              "      <td id=\"T_d9e4e_row2_col5\" class=\"data row2 col5\" >0.2950</td>\n",
              "    </tr>\n",
              "    <tr>\n",
              "      <th id=\"T_d9e4e_level0_row3\" class=\"row_heading level0 row3\" >3</th>\n",
              "      <td id=\"T_d9e4e_row3_col0\" class=\"data row3 col0\" >2792.1652</td>\n",
              "      <td id=\"T_d9e4e_row3_col1\" class=\"data row3 col1\" >28839958.9372</td>\n",
              "      <td id=\"T_d9e4e_row3_col2\" class=\"data row3 col2\" >5370.2848</td>\n",
              "      <td id=\"T_d9e4e_row3_col3\" class=\"data row3 col3\" >0.7650</td>\n",
              "      <td id=\"T_d9e4e_row3_col4\" class=\"data row3 col4\" >0.4461</td>\n",
              "      <td id=\"T_d9e4e_row3_col5\" class=\"data row3 col5\" >0.2974</td>\n",
              "    </tr>\n",
              "    <tr>\n",
              "      <th id=\"T_d9e4e_level0_row4\" class=\"row_heading level0 row4\" >4</th>\n",
              "      <td id=\"T_d9e4e_row4_col0\" class=\"data row4 col0\" >1763.2653</td>\n",
              "      <td id=\"T_d9e4e_row4_col1\" class=\"data row4 col1\" >6059884.8088</td>\n",
              "      <td id=\"T_d9e4e_row4_col2\" class=\"data row4 col2\" >2461.6833</td>\n",
              "      <td id=\"T_d9e4e_row4_col3\" class=\"data row4 col3\" >0.9633</td>\n",
              "      <td id=\"T_d9e4e_row4_col4\" class=\"data row4 col4\" >0.3475</td>\n",
              "      <td id=\"T_d9e4e_row4_col5\" class=\"data row4 col5\" >0.2908</td>\n",
              "    </tr>\n",
              "    <tr>\n",
              "      <th id=\"T_d9e4e_level0_row5\" class=\"row_heading level0 row5\" >5</th>\n",
              "      <td id=\"T_d9e4e_row5_col0\" class=\"data row5 col0\" >2545.7969</td>\n",
              "      <td id=\"T_d9e4e_row5_col1\" class=\"data row5 col1\" >24966306.6825</td>\n",
              "      <td id=\"T_d9e4e_row5_col2\" class=\"data row5 col2\" >4996.6295</td>\n",
              "      <td id=\"T_d9e4e_row5_col3\" class=\"data row5 col3\" >0.7991</td>\n",
              "      <td id=\"T_d9e4e_row5_col4\" class=\"data row5 col4\" >0.4256</td>\n",
              "      <td id=\"T_d9e4e_row5_col5\" class=\"data row5 col5\" >0.2114</td>\n",
              "    </tr>\n",
              "    <tr>\n",
              "      <th id=\"T_d9e4e_level0_row6\" class=\"row_heading level0 row6\" >6</th>\n",
              "      <td id=\"T_d9e4e_row6_col0\" class=\"data row6 col0\" >2161.7944</td>\n",
              "      <td id=\"T_d9e4e_row6_col1\" class=\"data row6 col1\" >14543272.5694</td>\n",
              "      <td id=\"T_d9e4e_row6_col2\" class=\"data row6 col2\" >3813.5643</td>\n",
              "      <td id=\"T_d9e4e_row6_col3\" class=\"data row6 col3\" >0.8949</td>\n",
              "      <td id=\"T_d9e4e_row6_col4\" class=\"data row6 col4\" >0.3698</td>\n",
              "      <td id=\"T_d9e4e_row6_col5\" class=\"data row6 col5\" >0.2826</td>\n",
              "    </tr>\n",
              "    <tr>\n",
              "      <th id=\"T_d9e4e_level0_row7\" class=\"row_heading level0 row7\" >7</th>\n",
              "      <td id=\"T_d9e4e_row7_col0\" class=\"data row7 col0\" >2578.3763</td>\n",
              "      <td id=\"T_d9e4e_row7_col1\" class=\"data row7 col1\" >18937796.2569</td>\n",
              "      <td id=\"T_d9e4e_row7_col2\" class=\"data row7 col2\" >4351.7578</td>\n",
              "      <td id=\"T_d9e4e_row7_col3\" class=\"data row7 col3\" >0.8700</td>\n",
              "      <td id=\"T_d9e4e_row7_col4\" class=\"data row7 col4\" >0.4615</td>\n",
              "      <td id=\"T_d9e4e_row7_col5\" class=\"data row7 col5\" >0.3217</td>\n",
              "    </tr>\n",
              "    <tr>\n",
              "      <th id=\"T_d9e4e_level0_row8\" class=\"row_heading level0 row8\" >8</th>\n",
              "      <td id=\"T_d9e4e_row8_col0\" class=\"data row8 col0\" >2977.8851</td>\n",
              "      <td id=\"T_d9e4e_row8_col1\" class=\"data row8 col1\" >25582517.6715</td>\n",
              "      <td id=\"T_d9e4e_row8_col2\" class=\"data row8 col2\" >5057.9163</td>\n",
              "      <td id=\"T_d9e4e_row8_col3\" class=\"data row8 col3\" >0.8037</td>\n",
              "      <td id=\"T_d9e4e_row8_col4\" class=\"data row8 col4\" >0.4974</td>\n",
              "      <td id=\"T_d9e4e_row8_col5\" class=\"data row8 col5\" >0.3186</td>\n",
              "    </tr>\n",
              "    <tr>\n",
              "      <th id=\"T_d9e4e_level0_row9\" class=\"row_heading level0 row9\" >9</th>\n",
              "      <td id=\"T_d9e4e_row9_col0\" class=\"data row9 col0\" >2078.1173</td>\n",
              "      <td id=\"T_d9e4e_row9_col1\" class=\"data row9 col1\" >17138892.7732</td>\n",
              "      <td id=\"T_d9e4e_row9_col2\" class=\"data row9 col2\" >4139.9146</td>\n",
              "      <td id=\"T_d9e4e_row9_col3\" class=\"data row9 col3\" >0.9103</td>\n",
              "      <td id=\"T_d9e4e_row9_col4\" class=\"data row9 col4\" >0.2717</td>\n",
              "      <td id=\"T_d9e4e_row9_col5\" class=\"data row9 col5\" >0.2202</td>\n",
              "    </tr>\n",
              "    <tr>\n",
              "      <th id=\"T_d9e4e_level0_row10\" class=\"row_heading level0 row10\" >Mean</th>\n",
              "      <td id=\"T_d9e4e_row10_col0\" class=\"data row10 col0\" >2434.7336</td>\n",
              "      <td id=\"T_d9e4e_row10_col1\" class=\"data row10 col1\" >19786778.8245</td>\n",
              "      <td id=\"T_d9e4e_row10_col2\" class=\"data row10 col2\" >4347.8841</td>\n",
              "      <td id=\"T_d9e4e_row10_col3\" class=\"data row10 col3\" >0.8579</td>\n",
              "      <td id=\"T_d9e4e_row10_col4\" class=\"data row10 col4\" >0.4012</td>\n",
              "      <td id=\"T_d9e4e_row10_col5\" class=\"data row10 col5\" >0.2761</td>\n",
              "    </tr>\n",
              "    <tr>\n",
              "      <th id=\"T_d9e4e_level0_row11\" class=\"row_heading level0 row11\" >Std</th>\n",
              "      <td id=\"T_d9e4e_row11_col0\" class=\"data row11 col0\" >402.2304</td>\n",
              "      <td id=\"T_d9e4e_row11_col1\" class=\"data row11 col1\" >7748278.2859</td>\n",
              "      <td id=\"T_d9e4e_row11_col2\" class=\"data row11 col2\" >939.5121</td>\n",
              "      <td id=\"T_d9e4e_row11_col3\" class=\"data row11 col3\" >0.0658</td>\n",
              "      <td id=\"T_d9e4e_row11_col4\" class=\"data row11 col4\" >0.0659</td>\n",
              "      <td id=\"T_d9e4e_row11_col5\" class=\"data row11 col5\" >0.0416</td>\n",
              "    </tr>\n",
              "  </tbody>\n",
              "</table>\n"
            ]
          },
          "metadata": {}
        },
        {
          "output_type": "display_data",
          "data": {
            "text/plain": [
              "Processing:   0%|          | 0/7 [00:00<?, ?it/s]"
            ],
            "application/vnd.jupyter.widget-view+json": {
              "version_major": 2,
              "version_minor": 0,
              "model_id": "762dcebf66334b06932806db66313cef"
            }
          },
          "metadata": {
            "application/vnd.jupyter.widget-view+json": {
              "colab": {
                "custom_widget_manager": {
                  "url": "https://ssl.gstatic.com/colaboratory-static/widgets/colab-cdn-widget-manager/b3e629b1971e1542/manager.min.js"
                }
              }
            }
          }
        },
        {
          "output_type": "stream",
          "name": "stdout",
          "text": [
            "Fitting 10 folds for each of 40 candidates, totalling 400 fits\n"
          ]
        },
        {
          "output_type": "display_data",
          "data": {
            "text/plain": [
              "<IPython.core.display.HTML object>"
            ],
            "text/html": []
          },
          "metadata": {}
        }
      ]
    },
    {
      "cell_type": "markdown",
      "metadata": {
        "id": "8_CveTN46i5o"
      },
      "source": [
        "RMSE caiu para próximo a 4355 com 20 iterações e 4347 com 40."
      ]
    },
    {
      "cell_type": "code",
      "metadata": {
        "colab": {
          "base_uri": "https://localhost:8080/"
        },
        "id": "roIWd7rd6q3X",
        "outputId": "883f1550-48da-4b44-f972-951b7640d217"
      },
      "source": [
        "value_RMSE20 = 4355\n",
        "print(f'deviation for 20 iterations: {value_RMSE20 / mean_charges:.1%}')\n",
        "print()\n",
        "\n",
        "value_RMSE40 = 4347\n",
        "print(f'deviation for 40 iterations: {value_RMSE40 / mean_charges:.1%}')"
      ],
      "execution_count": 23,
      "outputs": [
        {
          "metadata": {
            "tags": null
          },
          "name": "stdout",
          "output_type": "stream",
          "text": [
            "deviation for 20 iterations: 32.8%\n",
            "\n",
            "deviation for 40 iterations: 32.8%\n"
          ]
        }
      ]
    },
    {
      "cell_type": "markdown",
      "metadata": {
        "id": "r0hkPRqv6tk-"
      },
      "source": [
        "Os desvios percentuais ainda estão muito altos, porém é visível que há uma queda (otimização) entre as interações."
      ]
    },
    {
      "cell_type": "markdown",
      "metadata": {
        "id": "zCyl5iF_AjIW"
      },
      "source": [
        "# Análise Exploratória das entradas (features)"
      ]
    },
    {
      "cell_type": "code",
      "metadata": {
        "colab": {
          "base_uri": "https://localhost:8080/",
          "height": 506
        },
        "id": "xwRJPbdFa5Tm",
        "outputId": "678a110a-25ac-4a2c-b76f-e33176a6be96"
      },
      "source": [
        "from pycaret.regression import plot_model\n",
        "\n",
        "plot_model(rf_model, plot= 'feature')"
      ],
      "execution_count": 24,
      "outputs": [
        {
          "output_type": "display_data",
          "data": {
            "text/plain": [
              "<IPython.core.display.HTML object>"
            ],
            "text/html": []
          },
          "metadata": {}
        },
        {
          "output_type": "display_data",
          "data": {
            "text/plain": [
              "<Figure size 800x500 with 1 Axes>"
            ],
            "image/png": "[encoded data removed]"
          },
          "metadata": {}
        },
        {
          "output_type": "display_data",
          "data": {
            "text/plain": [
              "<IPython.core.display.HTML object>"
            ],
            "text/html": []
          },
          "metadata": {}
        }
      ]
    },
    {
      "cell_type": "markdown",
      "metadata": {
        "id": "DuBSOVngApoV"
      },
      "source": [
        "Observa-se claramente por esse gráfico que há\n",
        "- forte influência quanto ao fato de ser fumante ou não,\n",
        "- média influência do índice de massa corporal e da idade\n",
        "- pouquíssima influência do restante."
      ]
    },
    {
      "cell_type": "markdown",
      "metadata": {
        "id": "qH6OqDsABaqk"
      },
      "source": [
        "# Comparando diferente modelos"
      ]
    },
    {
      "cell_type": "markdown",
      "metadata": {
        "id": "e8Spv-oFBoZo"
      },
      "source": [
        "Seleciona os 3 modelos com melhor performance inicial do índice RMSE"
      ]
    },
    {
      "cell_type": "code",
      "metadata": {
        "colab": {
          "base_uri": "https://localhost:8080/",
          "height": 648,
          "referenced_widgets": [
            "58d3eb703a074bde8769a4fa1a6a8f8a",
            "8c96219ae1f84cb2978907fbac44a44e",
            "a2efecd531c946ed8e7c47fdfcb768bd",
            "7c4acc904296438dbba9321c349ee545",
            "ca3e22c5654b4d8daf24a860beff22e0",
            "032536ea37444e028d64f36b5183ef0b",
            "bd5d2faa7769404ebd5c1b7eedf8f231",
            "6a8d26495e6f40fb9ab7a4423d501999",
            "320ce160166a452eacfbd74e7cc95cc1",
            "f82c2fda48924dd8911fac77fc83e1f1",
            "6f882d0aed7d4902872acbb39ff95c83"
          ]
        },
        "id": "PmMkyeXcbzBO",
        "outputId": "3377a92a-1370-4563-d4e2-c796c4a40202"
      },
      "source": [
        "from pycaret.regression import compare_models\n",
        "\n",
        "best_models_RMSE = compare_models(sort= \"RMSE\", n_select= 3)"
      ],
      "execution_count": 25,
      "outputs": [
        {
          "output_type": "display_data",
          "data": {
            "text/plain": [
              "<IPython.core.display.HTML object>"
            ],
            "text/html": []
          },
          "metadata": {}
        },
        {
          "output_type": "display_data",
          "data": {
            "text/plain": [
              "<pandas.io.formats.style.Styler at 0x7fab789220e0>"
            ],
            "text/html": [
              "<style type=\"text/css\">\n",
              "#T_9e9ec th {\n",
              "  text-align: left;\n",
              "}\n",
              "#T_9e9ec_row0_col0, #T_9e9ec_row0_col6, #T_9e9ec_row1_col0, #T_9e9ec_row1_col1, #T_9e9ec_row1_col2, #T_9e9ec_row1_col3, #T_9e9ec_row1_col4, #T_9e9ec_row1_col5, #T_9e9ec_row1_col6, #T_9e9ec_row2_col0, #T_9e9ec_row2_col1, #T_9e9ec_row2_col2, #T_9e9ec_row2_col3, #T_9e9ec_row2_col4, #T_9e9ec_row2_col5, #T_9e9ec_row2_col6, #T_9e9ec_row3_col0, #T_9e9ec_row3_col1, #T_9e9ec_row3_col2, #T_9e9ec_row3_col3, #T_9e9ec_row3_col4, #T_9e9ec_row3_col5, #T_9e9ec_row3_col6, #T_9e9ec_row4_col0, #T_9e9ec_row4_col1, #T_9e9ec_row4_col2, #T_9e9ec_row4_col3, #T_9e9ec_row4_col4, #T_9e9ec_row4_col5, #T_9e9ec_row4_col6, #T_9e9ec_row5_col0, #T_9e9ec_row5_col1, #T_9e9ec_row5_col2, #T_9e9ec_row5_col3, #T_9e9ec_row5_col4, #T_9e9ec_row5_col5, #T_9e9ec_row5_col6, #T_9e9ec_row6_col0, #T_9e9ec_row6_col1, #T_9e9ec_row6_col2, #T_9e9ec_row6_col3, #T_9e9ec_row6_col4, #T_9e9ec_row6_col5, #T_9e9ec_row6_col6, #T_9e9ec_row7_col0, #T_9e9ec_row7_col1, #T_9e9ec_row7_col2, #T_9e9ec_row7_col3, #T_9e9ec_row7_col4, #T_9e9ec_row7_col5, #T_9e9ec_row7_col6, #T_9e9ec_row8_col0, #T_9e9ec_row8_col1, #T_9e9ec_row8_col2, #T_9e9ec_row8_col3, #T_9e9ec_row8_col4, #T_9e9ec_row8_col5, #T_9e9ec_row8_col6, #T_9e9ec_row9_col0, #T_9e9ec_row9_col1, #T_9e9ec_row9_col2, #T_9e9ec_row9_col3, #T_9e9ec_row9_col4, #T_9e9ec_row9_col5, #T_9e9ec_row9_col6, #T_9e9ec_row10_col0, #T_9e9ec_row10_col1, #T_9e9ec_row10_col2, #T_9e9ec_row10_col3, #T_9e9ec_row10_col4, #T_9e9ec_row10_col5, #T_9e9ec_row10_col6, #T_9e9ec_row11_col0, #T_9e9ec_row11_col1, #T_9e9ec_row11_col2, #T_9e9ec_row11_col3, #T_9e9ec_row11_col4, #T_9e9ec_row11_col5, #T_9e9ec_row11_col6, #T_9e9ec_row12_col0, #T_9e9ec_row12_col1, #T_9e9ec_row12_col2, #T_9e9ec_row12_col3, #T_9e9ec_row12_col4, #T_9e9ec_row12_col5, #T_9e9ec_row12_col6, #T_9e9ec_row13_col0, #T_9e9ec_row13_col1, #T_9e9ec_row13_col2, #T_9e9ec_row13_col3, #T_9e9ec_row13_col4, #T_9e9ec_row13_col5, #T_9e9ec_row13_col6, #T_9e9ec_row14_col0, #T_9e9ec_row14_col1, #T_9e9ec_row14_col2, #T_9e9ec_row14_col3, #T_9e9ec_row14_col4, #T_9e9ec_row14_col5, #T_9e9ec_row14_col6, #T_9e9ec_row15_col0, #T_9e9ec_row15_col1, #T_9e9ec_row15_col2, #T_9e9ec_row15_col3, #T_9e9ec_row15_col4, #T_9e9ec_row15_col5, #T_9e9ec_row16_col0, #T_9e9ec_row16_col1, #T_9e9ec_row16_col2, #T_9e9ec_row16_col3, #T_9e9ec_row16_col4, #T_9e9ec_row16_col5, #T_9e9ec_row16_col6, #T_9e9ec_row17_col0, #T_9e9ec_row17_col1, #T_9e9ec_row17_col2, #T_9e9ec_row17_col3, #T_9e9ec_row17_col4, #T_9e9ec_row17_col5, #T_9e9ec_row17_col6, #T_9e9ec_row18_col0, #T_9e9ec_row18_col1, #T_9e9ec_row18_col2, #T_9e9ec_row18_col3, #T_9e9ec_row18_col4, #T_9e9ec_row18_col5, #T_9e9ec_row18_col6 {\n",
              "  text-align: left;\n",
              "}\n",
              "#T_9e9ec_row0_col1, #T_9e9ec_row0_col2, #T_9e9ec_row0_col3, #T_9e9ec_row0_col4, #T_9e9ec_row0_col5, #T_9e9ec_row15_col6 {\n",
              "  text-align: left;\n",
              "  background-color: yellow;\n",
              "}\n",
              "#T_9e9ec_row0_col7, #T_9e9ec_row1_col7, #T_9e9ec_row2_col7, #T_9e9ec_row3_col7, #T_9e9ec_row4_col7, #T_9e9ec_row5_col7, #T_9e9ec_row6_col7, #T_9e9ec_row7_col7, #T_9e9ec_row8_col7, #T_9e9ec_row9_col7, #T_9e9ec_row10_col7, #T_9e9ec_row11_col7, #T_9e9ec_row12_col7, #T_9e9ec_row13_col7, #T_9e9ec_row15_col7, #T_9e9ec_row16_col7, #T_9e9ec_row17_col7, #T_9e9ec_row18_col7 {\n",
              "  text-align: left;\n",
              "  background-color: lightgrey;\n",
              "}\n",
              "#T_9e9ec_row14_col7 {\n",
              "  text-align: left;\n",
              "  background-color: yellow;\n",
              "  background-color: lightgrey;\n",
              "}\n",
              "</style>\n",
              "<table id=\"T_9e9ec\" class=\"dataframe\">\n",
              "  <thead>\n",
              "    <tr>\n",
              "      <th class=\"blank level0\" >&nbsp;</th>\n",
              "      <th id=\"T_9e9ec_level0_col0\" class=\"col_heading level0 col0\" >Model</th>\n",
              "      <th id=\"T_9e9ec_level0_col1\" class=\"col_heading level0 col1\" >MAE</th>\n",
              "      <th id=\"T_9e9ec_level0_col2\" class=\"col_heading level0 col2\" >MSE</th>\n",
              "      <th id=\"T_9e9ec_level0_col3\" class=\"col_heading level0 col3\" >RMSE</th>\n",
              "      <th id=\"T_9e9ec_level0_col4\" class=\"col_heading level0 col4\" >R2</th>\n",
              "      <th id=\"T_9e9ec_level0_col5\" class=\"col_heading level0 col5\" >RMSLE</th>\n",
              "      <th id=\"T_9e9ec_level0_col6\" class=\"col_heading level0 col6\" >MAPE</th>\n",
              "      <th id=\"T_9e9ec_level0_col7\" class=\"col_heading level0 col7\" >TT (Sec)</th>\n",
              "    </tr>\n",
              "  </thead>\n",
              "  <tbody>\n",
              "    <tr>\n",
              "      <th id=\"T_9e9ec_level0_row0\" class=\"row_heading level0 row0\" >gbr</th>\n",
              "      <td id=\"T_9e9ec_row0_col0\" class=\"data row0 col0\" >Gradient Boosting Regressor</td>\n",
              "      <td id=\"T_9e9ec_row0_col1\" class=\"data row0 col1\" >2449.0642</td>\n",
              "      <td id=\"T_9e9ec_row0_col2\" class=\"data row0 col2\" >20648730.1991</td>\n",
              "      <td id=\"T_9e9ec_row0_col3\" class=\"data row0 col3\" >4451.1155</td>\n",
              "      <td id=\"T_9e9ec_row0_col4\" class=\"data row0 col4\" >0.8513</td>\n",
              "      <td id=\"T_9e9ec_row0_col5\" class=\"data row0 col5\" >0.4077</td>\n",
              "      <td id=\"T_9e9ec_row0_col6\" class=\"data row0 col6\" >0.2797</td>\n",
              "      <td id=\"T_9e9ec_row0_col7\" class=\"data row0 col7\" >0.5180</td>\n",
              "    </tr>\n",
              "    <tr>\n",
              "      <th id=\"T_9e9ec_level0_row1\" class=\"row_heading level0 row1\" >lightgbm</th>\n",
              "      <td id=\"T_9e9ec_row1_col0\" class=\"data row1 col0\" >Light Gradient Boosting Machine</td>\n",
              "      <td id=\"T_9e9ec_row1_col1\" class=\"data row1 col1\" >2685.8528</td>\n",
              "      <td id=\"T_9e9ec_row1_col2\" class=\"data row1 col2\" >21682871.5644</td>\n",
              "      <td id=\"T_9e9ec_row1_col3\" class=\"data row1 col3\" >4567.2468</td>\n",
              "      <td id=\"T_9e9ec_row1_col4\" class=\"data row1 col4\" >0.8444</td>\n",
              "      <td id=\"T_9e9ec_row1_col5\" class=\"data row1 col5\" >0.5260</td>\n",
              "      <td id=\"T_9e9ec_row1_col6\" class=\"data row1 col6\" >0.3310</td>\n",
              "      <td id=\"T_9e9ec_row1_col7\" class=\"data row1 col7\" >0.7360</td>\n",
              "    </tr>\n",
              "    <tr>\n",
              "      <th id=\"T_9e9ec_level0_row2\" class=\"row_heading level0 row2\" >rf</th>\n",
              "      <td id=\"T_9e9ec_row2_col0\" class=\"data row2 col0\" >Random Forest Regressor</td>\n",
              "      <td id=\"T_9e9ec_row2_col1\" class=\"data row2 col1\" >2589.8909</td>\n",
              "      <td id=\"T_9e9ec_row2_col2\" class=\"data row2 col2\" >22506015.1913</td>\n",
              "      <td id=\"T_9e9ec_row2_col3\" class=\"data row2 col3\" >4658.7458</td>\n",
              "      <td id=\"T_9e9ec_row2_col4\" class=\"data row2 col4\" >0.8389</td>\n",
              "      <td id=\"T_9e9ec_row2_col5\" class=\"data row2 col5\" >0.4340</td>\n",
              "      <td id=\"T_9e9ec_row2_col6\" class=\"data row2 col6\" >0.2964</td>\n",
              "      <td id=\"T_9e9ec_row2_col7\" class=\"data row2 col7\" >0.3570</td>\n",
              "    </tr>\n",
              "    <tr>\n",
              "      <th id=\"T_9e9ec_level0_row3\" class=\"row_heading level0 row3\" >et</th>\n",
              "      <td id=\"T_9e9ec_row3_col0\" class=\"data row3 col0\" >Extra Trees Regressor</td>\n",
              "      <td id=\"T_9e9ec_row3_col1\" class=\"data row3 col1\" >2625.4689</td>\n",
              "      <td id=\"T_9e9ec_row3_col2\" class=\"data row3 col2\" >25496516.5575</td>\n",
              "      <td id=\"T_9e9ec_row3_col3\" class=\"data row3 col3\" >4983.6917</td>\n",
              "      <td id=\"T_9e9ec_row3_col4\" class=\"data row3 col4\" >0.8178</td>\n",
              "      <td id=\"T_9e9ec_row3_col5\" class=\"data row3 col5\" >0.4547</td>\n",
              "      <td id=\"T_9e9ec_row3_col6\" class=\"data row3 col6\" >0.2961</td>\n",
              "      <td id=\"T_9e9ec_row3_col7\" class=\"data row3 col7\" >0.6010</td>\n",
              "    </tr>\n",
              "    <tr>\n",
              "      <th id=\"T_9e9ec_level0_row4\" class=\"row_heading level0 row4\" >xgboost</th>\n",
              "      <td id=\"T_9e9ec_row4_col0\" class=\"data row4 col0\" >Extreme Gradient Boosting</td>\n",
              "      <td id=\"T_9e9ec_row4_col1\" class=\"data row4 col1\" >2919.3261</td>\n",
              "      <td id=\"T_9e9ec_row4_col2\" class=\"data row4 col2\" >26237486.6000</td>\n",
              "      <td id=\"T_9e9ec_row4_col3\" class=\"data row4 col3\" >5039.7544</td>\n",
              "      <td id=\"T_9e9ec_row4_col4\" class=\"data row4 col4\" >0.8113</td>\n",
              "      <td id=\"T_9e9ec_row4_col5\" class=\"data row4 col5\" >0.4908</td>\n",
              "      <td id=\"T_9e9ec_row4_col6\" class=\"data row4 col6\" >0.3517</td>\n",
              "      <td id=\"T_9e9ec_row4_col7\" class=\"data row4 col7\" >0.3700</td>\n",
              "    </tr>\n",
              "    <tr>\n",
              "      <th id=\"T_9e9ec_level0_row5\" class=\"row_heading level0 row5\" >ada</th>\n",
              "      <td id=\"T_9e9ec_row5_col0\" class=\"data row5 col0\" >AdaBoost Regressor</td>\n",
              "      <td id=\"T_9e9ec_row5_col1\" class=\"data row5 col1\" >4601.8624</td>\n",
              "      <td id=\"T_9e9ec_row5_col2\" class=\"data row5 col2\" >30611010.4804</td>\n",
              "      <td id=\"T_9e9ec_row5_col3\" class=\"data row5 col3\" >5478.5297</td>\n",
              "      <td id=\"T_9e9ec_row5_col4\" class=\"data row5 col4\" >0.7810</td>\n",
              "      <td id=\"T_9e9ec_row5_col5\" class=\"data row5 col5\" >0.6653</td>\n",
              "      <td id=\"T_9e9ec_row5_col6\" class=\"data row5 col6\" >0.8249</td>\n",
              "      <td id=\"T_9e9ec_row5_col7\" class=\"data row5 col7\" >0.5290</td>\n",
              "    </tr>\n",
              "    <tr>\n",
              "      <th id=\"T_9e9ec_level0_row6\" class=\"row_heading level0 row6\" >knn</th>\n",
              "      <td id=\"T_9e9ec_row6_col0\" class=\"data row6 col0\" >K Neighbors Regressor</td>\n",
              "      <td id=\"T_9e9ec_row6_col1\" class=\"data row6 col1\" >3420.4416</td>\n",
              "      <td id=\"T_9e9ec_row6_col2\" class=\"data row6 col2\" >32630226.4000</td>\n",
              "      <td id=\"T_9e9ec_row6_col3\" class=\"data row6 col3\" >5680.9460</td>\n",
              "      <td id=\"T_9e9ec_row6_col4\" class=\"data row6 col4\" >0.7716</td>\n",
              "      <td id=\"T_9e9ec_row6_col5\" class=\"data row6 col5\" >0.4627</td>\n",
              "      <td id=\"T_9e9ec_row6_col6\" class=\"data row6 col6\" >0.3362</td>\n",
              "      <td id=\"T_9e9ec_row6_col7\" class=\"data row6 col7\" >0.2680</td>\n",
              "    </tr>\n",
              "    <tr>\n",
              "      <th id=\"T_9e9ec_level0_row7\" class=\"row_heading level0 row7\" >lar</th>\n",
              "      <td id=\"T_9e9ec_row7_col0\" class=\"data row7 col0\" >Least Angle Regression</td>\n",
              "      <td id=\"T_9e9ec_row7_col1\" class=\"data row7 col1\" >3974.3266</td>\n",
              "      <td id=\"T_9e9ec_row7_col2\" class=\"data row7 col2\" >35829776.6422</td>\n",
              "      <td id=\"T_9e9ec_row7_col3\" class=\"data row7 col3\" >5964.1527</td>\n",
              "      <td id=\"T_9e9ec_row7_col4\" class=\"data row7 col4\" >0.7500</td>\n",
              "      <td id=\"T_9e9ec_row7_col5\" class=\"data row7 col5\" >0.5414</td>\n",
              "      <td id=\"T_9e9ec_row7_col6\" class=\"data row7 col6\" >0.3745</td>\n",
              "      <td id=\"T_9e9ec_row7_col7\" class=\"data row7 col7\" >0.2670</td>\n",
              "    </tr>\n",
              "    <tr>\n",
              "      <th id=\"T_9e9ec_level0_row8\" class=\"row_heading level0 row8\" >lasso</th>\n",
              "      <td id=\"T_9e9ec_row8_col0\" class=\"data row8 col0\" >Lasso Regression</td>\n",
              "      <td id=\"T_9e9ec_row8_col1\" class=\"data row8 col1\" >3974.1803</td>\n",
              "      <td id=\"T_9e9ec_row8_col2\" class=\"data row8 col2\" >35830247.4453</td>\n",
              "      <td id=\"T_9e9ec_row8_col3\" class=\"data row8 col3\" >5964.1936</td>\n",
              "      <td id=\"T_9e9ec_row8_col4\" class=\"data row8 col4\" >0.7500</td>\n",
              "      <td id=\"T_9e9ec_row8_col5\" class=\"data row8 col5\" >0.5326</td>\n",
              "      <td id=\"T_9e9ec_row8_col6\" class=\"data row8 col6\" >0.3745</td>\n",
              "      <td id=\"T_9e9ec_row8_col7\" class=\"data row8 col7\" >0.2610</td>\n",
              "    </tr>\n",
              "    <tr>\n",
              "      <th id=\"T_9e9ec_level0_row9\" class=\"row_heading level0 row9\" >llar</th>\n",
              "      <td id=\"T_9e9ec_row9_col0\" class=\"data row9 col0\" >Lasso Least Angle Regression</td>\n",
              "      <td id=\"T_9e9ec_row9_col1\" class=\"data row9 col1\" >3974.1767</td>\n",
              "      <td id=\"T_9e9ec_row9_col2\" class=\"data row9 col2\" >35830391.8892</td>\n",
              "      <td id=\"T_9e9ec_row9_col3\" class=\"data row9 col3\" >5964.2063</td>\n",
              "      <td id=\"T_9e9ec_row9_col4\" class=\"data row9 col4\" >0.7500</td>\n",
              "      <td id=\"T_9e9ec_row9_col5\" class=\"data row9 col5\" >0.5328</td>\n",
              "      <td id=\"T_9e9ec_row9_col6\" class=\"data row9 col6\" >0.3745</td>\n",
              "      <td id=\"T_9e9ec_row9_col7\" class=\"data row9 col7\" >0.2720</td>\n",
              "    </tr>\n",
              "    <tr>\n",
              "      <th id=\"T_9e9ec_level0_row10\" class=\"row_heading level0 row10\" >ridge</th>\n",
              "      <td id=\"T_9e9ec_row10_col0\" class=\"data row10 col0\" >Ridge Regression</td>\n",
              "      <td id=\"T_9e9ec_row10_col1\" class=\"data row10 col1\" >3976.0912</td>\n",
              "      <td id=\"T_9e9ec_row10_col2\" class=\"data row10 col2\" >35832679.0269</td>\n",
              "      <td id=\"T_9e9ec_row10_col3\" class=\"data row10 col3\" >5964.4431</td>\n",
              "      <td id=\"T_9e9ec_row10_col4\" class=\"data row10 col4\" >0.7500</td>\n",
              "      <td id=\"T_9e9ec_row10_col5\" class=\"data row10 col5\" >0.5243</td>\n",
              "      <td id=\"T_9e9ec_row10_col6\" class=\"data row10 col6\" >0.3749</td>\n",
              "      <td id=\"T_9e9ec_row10_col7\" class=\"data row10 col7\" >0.4690</td>\n",
              "    </tr>\n",
              "    <tr>\n",
              "      <th id=\"T_9e9ec_level0_row11\" class=\"row_heading level0 row11\" >br</th>\n",
              "      <td id=\"T_9e9ec_row11_col0\" class=\"data row11 col0\" >Bayesian Ridge</td>\n",
              "      <td id=\"T_9e9ec_row11_col1\" class=\"data row11 col1\" >3979.1724</td>\n",
              "      <td id=\"T_9e9ec_row11_col2\" class=\"data row11 col2\" >35840078.5694</td>\n",
              "      <td id=\"T_9e9ec_row11_col3\" class=\"data row11 col3\" >5965.1487</td>\n",
              "      <td id=\"T_9e9ec_row11_col4\" class=\"data row11 col4\" >0.7500</td>\n",
              "      <td id=\"T_9e9ec_row11_col5\" class=\"data row11 col5\" >0.5168</td>\n",
              "      <td id=\"T_9e9ec_row11_col6\" class=\"data row11 col6\" >0.3756</td>\n",
              "      <td id=\"T_9e9ec_row11_col7\" class=\"data row11 col7\" >0.5150</td>\n",
              "    </tr>\n",
              "    <tr>\n",
              "      <th id=\"T_9e9ec_level0_row12\" class=\"row_heading level0 row12\" >lr</th>\n",
              "      <td id=\"T_9e9ec_row12_col0\" class=\"data row12 col0\" >Linear Regression</td>\n",
              "      <td id=\"T_9e9ec_row12_col1\" class=\"data row12 col1\" >3982.1248</td>\n",
              "      <td id=\"T_9e9ec_row12_col2\" class=\"data row12 col2\" >35889907.9089</td>\n",
              "      <td id=\"T_9e9ec_row12_col3\" class=\"data row12 col3\" >5969.1899</td>\n",
              "      <td id=\"T_9e9ec_row12_col4\" class=\"data row12 col4\" >0.7495</td>\n",
              "      <td id=\"T_9e9ec_row12_col5\" class=\"data row12 col5\" >0.5372</td>\n",
              "      <td id=\"T_9e9ec_row12_col6\" class=\"data row12 col6\" >0.3752</td>\n",
              "      <td id=\"T_9e9ec_row12_col7\" class=\"data row12 col7\" >1.3920</td>\n",
              "    </tr>\n",
              "    <tr>\n",
              "      <th id=\"T_9e9ec_level0_row13\" class=\"row_heading level0 row13\" >dt</th>\n",
              "      <td id=\"T_9e9ec_row13_col0\" class=\"data row13 col0\" >Decision Tree Regressor</td>\n",
              "      <td id=\"T_9e9ec_row13_col1\" class=\"data row13 col1\" >2930.6147</td>\n",
              "      <td id=\"T_9e9ec_row13_col2\" class=\"data row13 col2\" >38639853.1578</td>\n",
              "      <td id=\"T_9e9ec_row13_col3\" class=\"data row13 col3\" >6115.3900</td>\n",
              "      <td id=\"T_9e9ec_row13_col4\" class=\"data row13 col4\" >0.7308</td>\n",
              "      <td id=\"T_9e9ec_row13_col5\" class=\"data row13 col5\" >0.4991</td>\n",
              "      <td id=\"T_9e9ec_row13_col6\" class=\"data row13 col6\" >0.3270</td>\n",
              "      <td id=\"T_9e9ec_row13_col7\" class=\"data row13 col7\" >0.5380</td>\n",
              "    </tr>\n",
              "    <tr>\n",
              "      <th id=\"T_9e9ec_level0_row14\" class=\"row_heading level0 row14\" >huber</th>\n",
              "      <td id=\"T_9e9ec_row14_col0\" class=\"data row14 col0\" >Huber Regressor</td>\n",
              "      <td id=\"T_9e9ec_row14_col1\" class=\"data row14 col1\" >3330.0969</td>\n",
              "      <td id=\"T_9e9ec_row14_col2\" class=\"data row14 col2\" >46611676.1025</td>\n",
              "      <td id=\"T_9e9ec_row14_col3\" class=\"data row14 col3\" >6796.0018</td>\n",
              "      <td id=\"T_9e9ec_row14_col4\" class=\"data row14 col4\" >0.6725</td>\n",
              "      <td id=\"T_9e9ec_row14_col5\" class=\"data row14 col5\" >0.4400</td>\n",
              "      <td id=\"T_9e9ec_row14_col6\" class=\"data row14 col6\" >0.2142</td>\n",
              "      <td id=\"T_9e9ec_row14_col7\" class=\"data row14 col7\" >0.2590</td>\n",
              "    </tr>\n",
              "    <tr>\n",
              "      <th id=\"T_9e9ec_level0_row15\" class=\"row_heading level0 row15\" >par</th>\n",
              "      <td id=\"T_9e9ec_row15_col0\" class=\"data row15 col0\" >Passive Aggressive Regressor</td>\n",
              "      <td id=\"T_9e9ec_row15_col1\" class=\"data row15 col1\" >3328.0481</td>\n",
              "      <td id=\"T_9e9ec_row15_col2\" class=\"data row15 col2\" >46943746.8869</td>\n",
              "      <td id=\"T_9e9ec_row15_col3\" class=\"data row15 col3\" >6820.7269</td>\n",
              "      <td id=\"T_9e9ec_row15_col4\" class=\"data row15 col4\" >0.6701</td>\n",
              "      <td id=\"T_9e9ec_row15_col5\" class=\"data row15 col5\" >0.4433</td>\n",
              "      <td id=\"T_9e9ec_row15_col6\" class=\"data row15 col6\" >0.2135</td>\n",
              "      <td id=\"T_9e9ec_row15_col7\" class=\"data row15 col7\" >0.2660</td>\n",
              "    </tr>\n",
              "    <tr>\n",
              "      <th id=\"T_9e9ec_level0_row16\" class=\"row_heading level0 row16\" >en</th>\n",
              "      <td id=\"T_9e9ec_row16_col0\" class=\"data row16 col0\" >Elastic Net</td>\n",
              "      <td id=\"T_9e9ec_row16_col1\" class=\"data row16 col1\" >4912.2882</td>\n",
              "      <td id=\"T_9e9ec_row16_col2\" class=\"data row16 col2\" >49435557.9953</td>\n",
              "      <td id=\"T_9e9ec_row16_col3\" class=\"data row16 col3\" >7010.1117</td>\n",
              "      <td id=\"T_9e9ec_row16_col4\" class=\"data row16 col4\" >0.6631</td>\n",
              "      <td id=\"T_9e9ec_row16_col5\" class=\"data row16 col5\" >0.5951</td>\n",
              "      <td id=\"T_9e9ec_row16_col6\" class=\"data row16 col6\" >0.6478</td>\n",
              "      <td id=\"T_9e9ec_row16_col7\" class=\"data row16 col7\" >0.3760</td>\n",
              "    </tr>\n",
              "    <tr>\n",
              "      <th id=\"T_9e9ec_level0_row17\" class=\"row_heading level0 row17\" >omp</th>\n",
              "      <td id=\"T_9e9ec_row17_col0\" class=\"data row17 col0\" >Orthogonal Matching Pursuit</td>\n",
              "      <td id=\"T_9e9ec_row17_col1\" class=\"data row17 col1\" >5663.0001</td>\n",
              "      <td id=\"T_9e9ec_row17_col2\" class=\"data row17 col2\" >55787279.3323</td>\n",
              "      <td id=\"T_9e9ec_row17_col3\" class=\"data row17 col3\" >7447.2767</td>\n",
              "      <td id=\"T_9e9ec_row17_col4\" class=\"data row17 col4\" >0.6135</td>\n",
              "      <td id=\"T_9e9ec_row17_col5\" class=\"data row17 col5\" >0.7122</td>\n",
              "      <td id=\"T_9e9ec_row17_col6\" class=\"data row17 col6\" >0.8523</td>\n",
              "      <td id=\"T_9e9ec_row17_col7\" class=\"data row17 col7\" >0.3250</td>\n",
              "    </tr>\n",
              "    <tr>\n",
              "      <th id=\"T_9e9ec_level0_row18\" class=\"row_heading level0 row18\" >dummy</th>\n",
              "      <td id=\"T_9e9ec_row18_col0\" class=\"data row18 col0\" >Dummy Regressor</td>\n",
              "      <td id=\"T_9e9ec_row18_col1\" class=\"data row18 col1\" >8856.8510</td>\n",
              "      <td id=\"T_9e9ec_row18_col2\" class=\"data row18 col2\" >151024583.2000</td>\n",
              "      <td id=\"T_9e9ec_row18_col3\" class=\"data row18 col3\" >12230.8604</td>\n",
              "      <td id=\"T_9e9ec_row18_col4\" class=\"data row18 col4\" >-0.0141</td>\n",
              "      <td id=\"T_9e9ec_row18_col5\" class=\"data row18 col5\" >0.9796</td>\n",
              "      <td id=\"T_9e9ec_row18_col6\" class=\"data row18 col6\" >1.4069</td>\n",
              "      <td id=\"T_9e9ec_row18_col7\" class=\"data row18 col7\" >0.3430</td>\n",
              "    </tr>\n",
              "  </tbody>\n",
              "</table>\n"
            ]
          },
          "metadata": {}
        },
        {
          "output_type": "display_data",
          "data": {
            "text/plain": [
              "Processing:   0%|          | 0/83 [00:00<?, ?it/s]"
            ],
            "application/vnd.jupyter.widget-view+json": {
              "version_major": 2,
              "version_minor": 0,
              "model_id": "58d3eb703a074bde8769a4fa1a6a8f8a"
            }
          },
          "metadata": {
            "application/vnd.jupyter.widget-view+json": {
              "colab": {
                "custom_widget_manager": {
                  "url": "https://ssl.gstatic.com/colaboratory-static/widgets/colab-cdn-widget-manager/b3e629b1971e1542/manager.min.js"
                }
              }
            }
          }
        },
        {
          "output_type": "display_data",
          "data": {
            "text/plain": [
              "<IPython.core.display.HTML object>"
            ],
            "text/html": []
          },
          "metadata": {}
        }
      ]
    },
    {
      "cell_type": "markdown",
      "metadata": {
        "id": "EKagqC9ACIVz"
      },
      "source": [
        "Treinamento de todos os modelos selecionados e mesclagem dos modelos para aperfeiçoamento.\n",
        "A escolha de 100 interações faz o processamento ser bem lento, porém garante um melor aperfeiçoamento."
      ]
    },
    {
      "cell_type": "code",
      "metadata": {
        "colab": {
          "base_uri": "https://localhost:8080/",
          "height": 466,
          "referenced_widgets": [
            "17a00d8abde74c5d92cd4231c9e8b302",
            "018750b3d1374ac6aaa4245dd07dd174",
            "a9d6693f2b8148df818303a2c2ae9d52",
            "022b3bc8e4cf4e87a551c85fac11317a",
            "46ab03776ee8457a91b5a871705d3efe",
            "44d176ba9c914ea38fff66ed70fc15e9",
            "0ddf2bd97aab42a6988b0ebc42e9ba0e",
            "eaf0399a7bf14844b159d6c1f8e29806",
            "4ea95c52e3eb49f0bad170f19877ce00",
            "6abaa6a5732745ddaa706c1043f1c011",
            "bf31b16ae6714b6cb1414f0d9330c469"
          ]
        },
        "id": "vRxI9iStcJO8",
        "outputId": "d7932ec0-3ab0-46cc-be56-a289cc886b44"
      },
      "source": [
        "from pycaret.regression import blend_models\n",
        "\n",
        "best_models_trained = [\n",
        "    tune_model(model, optimize= \"RMSE\", n_iter= 100, verbose= False)\n",
        "    for model in best_models_RMSE\n",
        "]\n",
        "best_models_blended = blend_models(best_models_trained)"
      ],
      "execution_count": 26,
      "outputs": [
        {
          "output_type": "display_data",
          "data": {
            "text/plain": [
              "<IPython.core.display.HTML object>"
            ],
            "text/html": []
          },
          "metadata": {}
        },
        {
          "output_type": "display_data",
          "data": {
            "text/plain": [
              "<pandas.io.formats.style.Styler at 0x7fab78deb0d0>"
            ],
            "text/html": [
              "<style type=\"text/css\">\n",
              "#T_d2f34_row10_col0, #T_d2f34_row10_col1, #T_d2f34_row10_col2, #T_d2f34_row10_col3, #T_d2f34_row10_col4, #T_d2f34_row10_col5 {\n",
              "  background: yellow;\n",
              "}\n",
              "</style>\n",
              "<table id=\"T_d2f34\" class=\"dataframe\">\n",
              "  <thead>\n",
              "    <tr>\n",
              "      <th class=\"blank level0\" >&nbsp;</th>\n",
              "      <th id=\"T_d2f34_level0_col0\" class=\"col_heading level0 col0\" >MAE</th>\n",
              "      <th id=\"T_d2f34_level0_col1\" class=\"col_heading level0 col1\" >MSE</th>\n",
              "      <th id=\"T_d2f34_level0_col2\" class=\"col_heading level0 col2\" >RMSE</th>\n",
              "      <th id=\"T_d2f34_level0_col3\" class=\"col_heading level0 col3\" >R2</th>\n",
              "      <th id=\"T_d2f34_level0_col4\" class=\"col_heading level0 col4\" >RMSLE</th>\n",
              "      <th id=\"T_d2f34_level0_col5\" class=\"col_heading level0 col5\" >MAPE</th>\n",
              "    </tr>\n",
              "    <tr>\n",
              "      <th class=\"index_name level0\" >Fold</th>\n",
              "      <th class=\"blank col0\" >&nbsp;</th>\n",
              "      <th class=\"blank col1\" >&nbsp;</th>\n",
              "      <th class=\"blank col2\" >&nbsp;</th>\n",
              "      <th class=\"blank col3\" >&nbsp;</th>\n",
              "      <th class=\"blank col4\" >&nbsp;</th>\n",
              "      <th class=\"blank col5\" >&nbsp;</th>\n",
              "    </tr>\n",
              "  </thead>\n",
              "  <tbody>\n",
              "    <tr>\n",
              "      <th id=\"T_d2f34_level0_row0\" class=\"row_heading level0 row0\" >0</th>\n",
              "      <td id=\"T_d2f34_row0_col0\" class=\"data row0 col0\" >1639.5639</td>\n",
              "      <td id=\"T_d2f34_row0_col1\" class=\"data row0 col1\" >9163899.8930</td>\n",
              "      <td id=\"T_d2f34_row0_col2\" class=\"data row0 col2\" >3027.1934</td>\n",
              "      <td id=\"T_d2f34_row0_col3\" class=\"data row0 col3\" >0.9533</td>\n",
              "      <td id=\"T_d2f34_row0_col4\" class=\"data row0 col4\" >0.2974</td>\n",
              "      <td id=\"T_d2f34_row0_col5\" class=\"data row0 col5\" >0.1577</td>\n",
              "    </tr>\n",
              "    <tr>\n",
              "      <th id=\"T_d2f34_level0_row1\" class=\"row_heading level0 row1\" >1</th>\n",
              "      <td id=\"T_d2f34_row1_col0\" class=\"data row1 col0\" >2294.1435</td>\n",
              "      <td id=\"T_d2f34_row1_col1\" class=\"data row1 col1\" >19896329.0865</td>\n",
              "      <td id=\"T_d2f34_row1_col2\" class=\"data row1 col2\" >4460.5301</td>\n",
              "      <td id=\"T_d2f34_row1_col3\" class=\"data row1 col3\" >0.8303</td>\n",
              "      <td id=\"T_d2f34_row1_col4\" class=\"data row1 col4\" >0.4052</td>\n",
              "      <td id=\"T_d2f34_row1_col5\" class=\"data row1 col5\" >0.2519</td>\n",
              "    </tr>\n",
              "    <tr>\n",
              "      <th id=\"T_d2f34_level0_row2\" class=\"row_heading level0 row2\" >2</th>\n",
              "      <td id=\"T_d2f34_row2_col0\" class=\"data row2 col0\" >2492.1316</td>\n",
              "      <td id=\"T_d2f34_row2_col1\" class=\"data row2 col1\" >29576890.0518</td>\n",
              "      <td id=\"T_d2f34_row2_col2\" class=\"data row2 col2\" >5438.4639</td>\n",
              "      <td id=\"T_d2f34_row2_col3\" class=\"data row2 col3\" >0.8075</td>\n",
              "      <td id=\"T_d2f34_row2_col4\" class=\"data row2 col4\" >0.4107</td>\n",
              "      <td id=\"T_d2f34_row2_col5\" class=\"data row2 col5\" >0.2258</td>\n",
              "    </tr>\n",
              "    <tr>\n",
              "      <th id=\"T_d2f34_level0_row3\" class=\"row_heading level0 row3\" >3</th>\n",
              "      <td id=\"T_d2f34_row3_col0\" class=\"data row3 col0\" >2590.2974</td>\n",
              "      <td id=\"T_d2f34_row3_col1\" class=\"data row3 col1\" >29494234.7468</td>\n",
              "      <td id=\"T_d2f34_row3_col2\" class=\"data row3 col2\" >5430.8595</td>\n",
              "      <td id=\"T_d2f34_row3_col3\" class=\"data row3 col3\" >0.7596</td>\n",
              "      <td id=\"T_d2f34_row3_col4\" class=\"data row3 col4\" >0.4349</td>\n",
              "      <td id=\"T_d2f34_row3_col5\" class=\"data row3 col5\" >0.2423</td>\n",
              "    </tr>\n",
              "    <tr>\n",
              "      <th id=\"T_d2f34_level0_row4\" class=\"row_heading level0 row4\" >4</th>\n",
              "      <td id=\"T_d2f34_row4_col0\" class=\"data row4 col0\" >1442.3226</td>\n",
              "      <td id=\"T_d2f34_row4_col1\" class=\"data row4 col1\" >4803132.2364</td>\n",
              "      <td id=\"T_d2f34_row4_col2\" class=\"data row4 col2\" >2191.6049</td>\n",
              "      <td id=\"T_d2f34_row4_col3\" class=\"data row4 col3\" >0.9709</td>\n",
              "      <td id=\"T_d2f34_row4_col4\" class=\"data row4 col4\" >0.2955</td>\n",
              "      <td id=\"T_d2f34_row4_col5\" class=\"data row4 col5\" >0.2217</td>\n",
              "    </tr>\n",
              "    <tr>\n",
              "      <th id=\"T_d2f34_level0_row5\" class=\"row_heading level0 row5\" >5</th>\n",
              "      <td id=\"T_d2f34_row5_col0\" class=\"data row5 col0\" >2287.3805</td>\n",
              "      <td id=\"T_d2f34_row5_col1\" class=\"data row5 col1\" >23835780.0822</td>\n",
              "      <td id=\"T_d2f34_row5_col2\" class=\"data row5 col2\" >4882.1901</td>\n",
              "      <td id=\"T_d2f34_row5_col3\" class=\"data row5 col3\" >0.8082</td>\n",
              "      <td id=\"T_d2f34_row5_col4\" class=\"data row5 col4\" >0.4074</td>\n",
              "      <td id=\"T_d2f34_row5_col5\" class=\"data row5 col5\" >0.1747</td>\n",
              "    </tr>\n",
              "    <tr>\n",
              "      <th id=\"T_d2f34_level0_row6\" class=\"row_heading level0 row6\" >6</th>\n",
              "      <td id=\"T_d2f34_row6_col0\" class=\"data row6 col0\" >1976.1124</td>\n",
              "      <td id=\"T_d2f34_row6_col1\" class=\"data row6 col1\" >14138841.7047</td>\n",
              "      <td id=\"T_d2f34_row6_col2\" class=\"data row6 col2\" >3760.1651</td>\n",
              "      <td id=\"T_d2f34_row6_col3\" class=\"data row6 col3\" >0.8978</td>\n",
              "      <td id=\"T_d2f34_row6_col4\" class=\"data row6 col4\" >0.3479</td>\n",
              "      <td id=\"T_d2f34_row6_col5\" class=\"data row6 col5\" >0.2358</td>\n",
              "    </tr>\n",
              "    <tr>\n",
              "      <th id=\"T_d2f34_level0_row7\" class=\"row_heading level0 row7\" >7</th>\n",
              "      <td id=\"T_d2f34_row7_col0\" class=\"data row7 col0\" >2232.6746</td>\n",
              "      <td id=\"T_d2f34_row7_col1\" class=\"data row7 col1\" >18293835.4982</td>\n",
              "      <td id=\"T_d2f34_row7_col2\" class=\"data row7 col2\" >4277.1294</td>\n",
              "      <td id=\"T_d2f34_row7_col3\" class=\"data row7 col3\" >0.8744</td>\n",
              "      <td id=\"T_d2f34_row7_col4\" class=\"data row7 col4\" >0.4086</td>\n",
              "      <td id=\"T_d2f34_row7_col5\" class=\"data row7 col5\" >0.2291</td>\n",
              "    </tr>\n",
              "    <tr>\n",
              "      <th id=\"T_d2f34_level0_row8\" class=\"row_heading level0 row8\" >8</th>\n",
              "      <td id=\"T_d2f34_row8_col0\" class=\"data row8 col0\" >2642.4208</td>\n",
              "      <td id=\"T_d2f34_row8_col1\" class=\"data row8 col1\" >22975108.9376</td>\n",
              "      <td id=\"T_d2f34_row8_col2\" class=\"data row8 col2\" >4793.2357</td>\n",
              "      <td id=\"T_d2f34_row8_col3\" class=\"data row8 col3\" >0.8237</td>\n",
              "      <td id=\"T_d2f34_row8_col4\" class=\"data row8 col4\" >0.4775</td>\n",
              "      <td id=\"T_d2f34_row8_col5\" class=\"data row8 col5\" >0.2674</td>\n",
              "    </tr>\n",
              "    <tr>\n",
              "      <th id=\"T_d2f34_level0_row9\" class=\"row_heading level0 row9\" >9</th>\n",
              "      <td id=\"T_d2f34_row9_col0\" class=\"data row9 col0\" >2052.8611</td>\n",
              "      <td id=\"T_d2f34_row9_col1\" class=\"data row9 col1\" >19018786.6475</td>\n",
              "      <td id=\"T_d2f34_row9_col2\" class=\"data row9 col2\" >4361.0534</td>\n",
              "      <td id=\"T_d2f34_row9_col3\" class=\"data row9 col3\" >0.9005</td>\n",
              "      <td id=\"T_d2f34_row9_col4\" class=\"data row9 col4\" >0.2336</td>\n",
              "      <td id=\"T_d2f34_row9_col5\" class=\"data row9 col5\" >0.1813</td>\n",
              "    </tr>\n",
              "    <tr>\n",
              "      <th id=\"T_d2f34_level0_row10\" class=\"row_heading level0 row10\" >Mean</th>\n",
              "      <td id=\"T_d2f34_row10_col0\" class=\"data row10 col0\" >2164.9908</td>\n",
              "      <td id=\"T_d2f34_row10_col1\" class=\"data row10 col1\" >19119683.8885</td>\n",
              "      <td id=\"T_d2f34_row10_col2\" class=\"data row10 col2\" >4262.2426</td>\n",
              "      <td id=\"T_d2f34_row10_col3\" class=\"data row10 col3\" >0.8626</td>\n",
              "      <td id=\"T_d2f34_row10_col4\" class=\"data row10 col4\" >0.3719</td>\n",
              "      <td id=\"T_d2f34_row10_col5\" class=\"data row10 col5\" >0.2188</td>\n",
              "    </tr>\n",
              "    <tr>\n",
              "      <th id=\"T_d2f34_level0_row11\" class=\"row_heading level0 row11\" >Std</th>\n",
              "      <td id=\"T_d2f34_row11_col0\" class=\"data row11 col0\" >373.9864</td>\n",
              "      <td id=\"T_d2f34_row11_col1\" class=\"data row11 col1\" >7643793.4985</td>\n",
              "      <td id=\"T_d2f34_row11_col2\" class=\"data row11 col2\" >976.2030</td>\n",
              "      <td id=\"T_d2f34_row11_col3\" class=\"data row11 col3\" >0.0647</td>\n",
              "      <td id=\"T_d2f34_row11_col4\" class=\"data row11 col4\" >0.0717</td>\n",
              "      <td id=\"T_d2f34_row11_col5\" class=\"data row11 col5\" >0.0340</td>\n",
              "    </tr>\n",
              "  </tbody>\n",
              "</table>\n"
            ]
          },
          "metadata": {}
        },
        {
          "output_type": "display_data",
          "data": {
            "text/plain": [
              "Processing:   0%|          | 0/6 [00:00<?, ?it/s]"
            ],
            "application/vnd.jupyter.widget-view+json": {
              "version_major": 2,
              "version_minor": 0,
              "model_id": "17a00d8abde74c5d92cd4231c9e8b302"
            }
          },
          "metadata": {
            "application/vnd.jupyter.widget-view+json": {
              "colab": {
                "custom_widget_manager": {
                  "url": "https://ssl.gstatic.com/colaboratory-static/widgets/colab-cdn-widget-manager/b3e629b1971e1542/manager.min.js"
                }
              }
            }
          }
        },
        {
          "output_type": "display_data",
          "data": {
            "text/plain": [
              "<IPython.core.display.HTML object>"
            ],
            "text/html": []
          },
          "metadata": {}
        }
      ]
    },
    {
      "cell_type": "markdown",
      "metadata": {
        "id": "adAnWGQGR4bL"
      },
      "source": [
        "Mesmo procurando uma melhor otimização, no fim a mistura resultou num ínidice de 4262, valor muito próximo ao random forest anterior com 40 interações, considerando os desvios padrão."
      ]
    },
    {
      "cell_type": "markdown",
      "source": [
        "# Testando o Modelo"
      ],
      "metadata": {
        "id": "-ff-UbkQXMi7"
      }
    },
    {
      "cell_type": "code",
      "metadata": {
        "colab": {
          "base_uri": "https://localhost:8080/",
          "height": 495
        },
        "id": "DEqpE_YXeFO_",
        "outputId": "16fa3b36-2f0e-43fa-bb33-34f113a61cc5"
      },
      "source": [
        "from pycaret.regression import predict_model\n",
        "\n",
        "prediction = predict_model(best_models_blended)\n",
        "prediction"
      ],
      "execution_count": 29,
      "outputs": [
        {
          "output_type": "display_data",
          "data": {
            "text/plain": [
              "<pandas.io.formats.style.Styler at 0x7fab78de98d0>"
            ],
            "text/html": [
              "<style type=\"text/css\">\n",
              "</style>\n",
              "<table id=\"T_a9f00\" class=\"dataframe\">\n",
              "  <thead>\n",
              "    <tr>\n",
              "      <th class=\"blank level0\" >&nbsp;</th>\n",
              "      <th id=\"T_a9f00_level0_col0\" class=\"col_heading level0 col0\" >Model</th>\n",
              "      <th id=\"T_a9f00_level0_col1\" class=\"col_heading level0 col1\" >MAE</th>\n",
              "      <th id=\"T_a9f00_level0_col2\" class=\"col_heading level0 col2\" >MSE</th>\n",
              "      <th id=\"T_a9f00_level0_col3\" class=\"col_heading level0 col3\" >RMSE</th>\n",
              "      <th id=\"T_a9f00_level0_col4\" class=\"col_heading level0 col4\" >R2</th>\n",
              "      <th id=\"T_a9f00_level0_col5\" class=\"col_heading level0 col5\" >RMSLE</th>\n",
              "      <th id=\"T_a9f00_level0_col6\" class=\"col_heading level0 col6\" >MAPE</th>\n",
              "    </tr>\n",
              "  </thead>\n",
              "  <tbody>\n",
              "    <tr>\n",
              "      <th id=\"T_a9f00_level0_row0\" class=\"row_heading level0 row0\" >0</th>\n",
              "      <td id=\"T_a9f00_row0_col0\" class=\"data row0 col0\" >Voting Regressor</td>\n",
              "      <td id=\"T_a9f00_row0_col1\" class=\"data row0 col1\" >2466.5537</td>\n",
              "      <td id=\"T_a9f00_row0_col2\" class=\"data row0 col2\" >24091921.2753</td>\n",
              "      <td id=\"T_a9f00_row0_col3\" class=\"data row0 col3\" >4908.3522</td>\n",
              "      <td id=\"T_a9f00_row0_col4\" class=\"data row0 col4\" >0.8261</td>\n",
              "      <td id=\"T_a9f00_row0_col5\" class=\"data row0 col5\" >0.4253</td>\n",
              "      <td id=\"T_a9f00_row0_col6\" class=\"data row0 col6\" >0.2360</td>\n",
              "    </tr>\n",
              "  </tbody>\n",
              "</table>\n"
            ]
          },
          "metadata": {}
        },
        {
          "output_type": "execute_result",
          "data": {
            "text/plain": [
              "      age     sex        bmi  children smoker     region       charges  \\\n",
              "117    29  female  27.940001         1    yes  southeast  19107.779297   \n",
              "385    19    male  34.400002         0     no  southwest   1261.859009   \n",
              "1299   19  female  25.745001         1     no  northwest   2710.828613   \n",
              "1120   23  female  31.400000         0    yes  southwest  34166.273438   \n",
              "16     52  female  30.780001         1     no  northeast  10797.335938   \n",
              "...   ...     ...        ...       ...    ...        ...           ...   \n",
              "1097   22    male  33.770000         0     no  southeast   1674.632324   \n",
              "1258   55    male  37.715000         3     no  northwest  30063.580078   \n",
              "518    35  female  31.000000         1     no  southwest   5240.765137   \n",
              "366    56  female  32.299999         3     no  northeast  13430.264648   \n",
              "804    23    male  26.510000         0     no  southeast   1815.875854   \n",
              "\n",
              "      prediction_label  \n",
              "117       19867.838743  \n",
              "385        1529.183053  \n",
              "1299       3923.112870  \n",
              "1120      35493.854299  \n",
              "16        12292.983795  \n",
              "...                ...  \n",
              "1097       2390.168870  \n",
              "1258      14177.022293  \n",
              "518        5229.626326  \n",
              "366       13433.428172  \n",
              "804        4135.779958  \n",
              "\n",
              "[402 rows x 8 columns]"
            ],
            "text/html": [
              "\n",
              "  <div id=\"df-16feb822-5991-4aa0-b85e-6990c75170e7\">\n",
              "    <div class=\"colab-df-container\">\n",
              "      <div>\n",
              "<style scoped>\n",
              "    .dataframe tbody tr th:only-of-type {\n",
              "        vertical-align: middle;\n",
              "    }\n",
              "\n",
              "    .dataframe tbody tr th {\n",
              "        vertical-align: top;\n",
              "    }\n",
              "\n",
              "    .dataframe thead th {\n",
              "        text-align: right;\n",
              "    }\n",
              "</style>\n",
              "<table border=\"1\" class=\"dataframe\">\n",
              "  <thead>\n",
              "    <tr style=\"text-align: right;\">\n",
              "      <th></th>\n",
              "      <th>age</th>\n",
              "      <th>sex</th>\n",
              "      <th>bmi</th>\n",
              "      <th>children</th>\n",
              "      <th>smoker</th>\n",
              "      <th>region</th>\n",
              "      <th>charges</th>\n",
              "      <th>prediction_label</th>\n",
              "    </tr>\n",
              "  </thead>\n",
              "  <tbody>\n",
              "    <tr>\n",
              "      <th>117</th>\n",
              "      <td>29</td>\n",
              "      <td>female</td>\n",
              "      <td>27.940001</td>\n",
              "      <td>1</td>\n",
              "      <td>yes</td>\n",
              "      <td>southeast</td>\n",
              "      <td>19107.779297</td>\n",
              "      <td>19867.838743</td>\n",
              "    </tr>\n",
              "    <tr>\n",
              "      <th>385</th>\n",
              "      <td>19</td>\n",
              "      <td>male</td>\n",
              "      <td>34.400002</td>\n",
              "      <td>0</td>\n",
              "      <td>no</td>\n",
              "      <td>southwest</td>\n",
              "      <td>1261.859009</td>\n",
              "      <td>1529.183053</td>\n",
              "    </tr>\n",
              "    <tr>\n",
              "      <th>1299</th>\n",
              "      <td>19</td>\n",
              "      <td>female</td>\n",
              "      <td>25.745001</td>\n",
              "      <td>1</td>\n",
              "      <td>no</td>\n",
              "      <td>northwest</td>\n",
              "      <td>2710.828613</td>\n",
              "      <td>3923.112870</td>\n",
              "    </tr>\n",
              "    <tr>\n",
              "      <th>1120</th>\n",
              "      <td>23</td>\n",
              "      <td>female</td>\n",
              "      <td>31.400000</td>\n",
              "      <td>0</td>\n",
              "      <td>yes</td>\n",
              "      <td>southwest</td>\n",
              "      <td>34166.273438</td>\n",
              "      <td>35493.854299</td>\n",
              "    </tr>\n",
              "    <tr>\n",
              "      <th>16</th>\n",
              "      <td>52</td>\n",
              "      <td>female</td>\n",
              "      <td>30.780001</td>\n",
              "      <td>1</td>\n",
              "      <td>no</td>\n",
              "      <td>northeast</td>\n",
              "      <td>10797.335938</td>\n",
              "      <td>12292.983795</td>\n",
              "    </tr>\n",
              "    <tr>\n",
              "      <th>...</th>\n",
              "      <td>...</td>\n",
              "      <td>...</td>\n",
              "      <td>...</td>\n",
              "      <td>...</td>\n",
              "      <td>...</td>\n",
              "      <td>...</td>\n",
              "      <td>...</td>\n",
              "      <td>...</td>\n",
              "    </tr>\n",
              "    <tr>\n",
              "      <th>1097</th>\n",
              "      <td>22</td>\n",
              "      <td>male</td>\n",
              "      <td>33.770000</td>\n",
              "      <td>0</td>\n",
              "      <td>no</td>\n",
              "      <td>southeast</td>\n",
              "      <td>1674.632324</td>\n",
              "      <td>2390.168870</td>\n",
              "    </tr>\n",
              "    <tr>\n",
              "      <th>1258</th>\n",
              "      <td>55</td>\n",
              "      <td>male</td>\n",
              "      <td>37.715000</td>\n",
              "      <td>3</td>\n",
              "      <td>no</td>\n",
              "      <td>northwest</td>\n",
              "      <td>30063.580078</td>\n",
              "      <td>14177.022293</td>\n",
              "    </tr>\n",
              "    <tr>\n",
              "      <th>518</th>\n",
              "      <td>35</td>\n",
              "      <td>female</td>\n",
              "      <td>31.000000</td>\n",
              "      <td>1</td>\n",
              "      <td>no</td>\n",
              "      <td>southwest</td>\n",
              "      <td>5240.765137</td>\n",
              "      <td>5229.626326</td>\n",
              "    </tr>\n",
              "    <tr>\n",
              "      <th>366</th>\n",
              "      <td>56</td>\n",
              "      <td>female</td>\n",
              "      <td>32.299999</td>\n",
              "      <td>3</td>\n",
              "      <td>no</td>\n",
              "      <td>northeast</td>\n",
              "      <td>13430.264648</td>\n",
              "      <td>13433.428172</td>\n",
              "    </tr>\n",
              "    <tr>\n",
              "      <th>804</th>\n",
              "      <td>23</td>\n",
              "      <td>male</td>\n",
              "      <td>26.510000</td>\n",
              "      <td>0</td>\n",
              "      <td>no</td>\n",
              "      <td>southeast</td>\n",
              "      <td>1815.875854</td>\n",
              "      <td>4135.779958</td>\n",
              "    </tr>\n",
              "  </tbody>\n",
              "</table>\n",
              "<p>402 rows × 8 columns</p>\n",
              "</div>\n",
              "      <button class=\"colab-df-convert\" onclick=\"convertToInteractive('df-16feb822-5991-4aa0-b85e-6990c75170e7')\"\n",
              "              title=\"Convert this dataframe to an interactive table.\"\n",
              "              style=\"display:none;\">\n",
              "        \n",
              "  <svg xmlns=\"http://www.w3.org/2000/svg\" height=\"24px\"viewBox=\"0 0 24 24\"\n",
              "       width=\"24px\">\n",
              "    <path d=\"M0 0h24v24H0V0z\" fill=\"none\"/>\n",
              "    <path d=\"M18.56 5.44l.94 2.06.94-2.06 2.06-.94-2.06-.94-.94-2.06-.94 2.06-2.06.94zm-11 1L8.5 8.5l.94-2.06 2.06-.94-2.06-.94L8.5 2.5l-.94 2.06-2.06.94zm10 10l.94 2.06.94-2.06 2.06-.94-2.06-.94-.94-2.06-.94 2.06-2.06.94z\"/><path d=\"M17.41 7.96l-1.37-1.37c-.4-.4-.92-.59-1.43-.59-.52 0-1.04.2-1.43.59L10.3 9.45l-7.72 7.72c-.78.78-.78 2.05 0 2.83L4 21.41c.39.39.9.59 1.41.59.51 0 1.02-.2 1.41-.59l7.78-7.78 2.81-2.81c.8-.78.8-2.07 0-2.86zM5.41 20L4 18.59l7.72-7.72 1.47 1.35L5.41 20z\"/>\n",
              "  </svg>\n",
              "      </button>\n",
              "      \n",
              "  <style>\n",
              "    .colab-df-container {\n",
              "      display:flex;\n",
              "      flex-wrap:wrap;\n",
              "      gap: 12px;\n",
              "    }\n",
              "\n",
              "    .colab-df-convert {\n",
              "      background-color: #E8F0FE;\n",
              "      border: none;\n",
              "      border-radius: 50%;\n",
              "      cursor: pointer;\n",
              "      display: none;\n",
              "      fill: #1967D2;\n",
              "      height: 32px;\n",
              "      padding: 0 0 0 0;\n",
              "      width: 32px;\n",
              "    }\n",
              "\n",
              "    .colab-df-convert:hover {\n",
              "      background-color: #E2EBFA;\n",
              "      box-shadow: 0px 1px 2px rgba(60, 64, 67, 0.3), 0px 1px 3px 1px rgba(60, 64, 67, 0.15);\n",
              "      fill: #174EA6;\n",
              "    }\n",
              "\n",
              "    [theme=dark] .colab-df-convert {\n",
              "      background-color: #3B4455;\n",
              "      fill: #D2E3FC;\n",
              "    }\n",
              "\n",
              "    [theme=dark] .colab-df-convert:hover {\n",
              "      background-color: #434B5C;\n",
              "      box-shadow: 0px 1px 3px 1px rgba(0, 0, 0, 0.15);\n",
              "      filter: drop-shadow(0px 1px 2px rgba(0, 0, 0, 0.3));\n",
              "      fill: #FFFFFF;\n",
              "    }\n",
              "  </style>\n",
              "\n",
              "      <script>\n",
              "        const buttonEl =\n",
              "          document.querySelector('#df-16feb822-5991-4aa0-b85e-6990c75170e7 button.colab-df-convert');\n",
              "        buttonEl.style.display =\n",
              "          google.colab.kernel.accessAllowed ? 'block' : 'none';\n",
              "\n",
              "        async function convertToInteractive(key) {\n",
              "          const element = document.querySelector('#df-16feb822-5991-4aa0-b85e-6990c75170e7');\n",
              "          const dataTable =\n",
              "            await google.colab.kernel.invokeFunction('convertToInteractive',\n",
              "                                                     [key], {});\n",
              "          if (!dataTable) return;\n",
              "\n",
              "          const docLinkHtml = 'Like what you see? Visit the ' +\n",
              "            '<a target=\"_blank\" href=https://colab.research.google.com/notebooks/data_table.ipynb>data table notebook</a>'\n",
              "            + ' to learn more about interactive tables.';\n",
              "          element.innerHTML = '';\n",
              "          dataTable['output_type'] = 'display_data';\n",
              "          await google.colab.output.renderOutput(dataTable, element);\n",
              "          const docLink = document.createElement('div');\n",
              "          docLink.innerHTML = docLinkHtml;\n",
              "          element.appendChild(docLink);\n",
              "        }\n",
              "      </script>\n",
              "    </div>\n",
              "  </div>\n",
              "  "
            ]
          },
          "metadata": {},
          "execution_count": 29
        }
      ]
    },
    {
      "cell_type": "code",
      "source": [
        "print('Exibindo erros absolutos por amostras')\n",
        "error = prediction['prediction_label'] - prediction['charges']\n",
        "display(error)"
      ],
      "metadata": {
        "colab": {
          "base_uri": "https://localhost:8080/",
          "height": 253
        },
        "id": "j7znhxYrXrwE",
        "outputId": "cebf597c-fbfc-4cd0-f7c4-e39d9d5c8ff9"
      },
      "execution_count": 30,
      "outputs": [
        {
          "output_type": "stream",
          "name": "stdout",
          "text": [
            "Exibindo erros absolutos por amostras\n"
          ]
        },
        {
          "output_type": "display_data",
          "data": {
            "text/plain": [
              "117       760.059447\n",
              "385       267.324044\n",
              "1299     1212.284256\n",
              "1120     1327.580861\n",
              "16       1495.647857\n",
              "            ...     \n",
              "1097      715.536546\n",
              "1258   -15886.557785\n",
              "518       -11.138810\n",
              "366         3.163523\n",
              "804      2319.904104\n",
              "Length: 402, dtype: float64"
            ]
          },
          "metadata": {}
        }
      ]
    },
    {
      "cell_type": "markdown",
      "metadata": {
        "id": "mKe24GLASc3p"
      },
      "source": [
        "Os testes sobre os dados separados do treinamento resultaram em um índice de RMSE de aproximadamente 4908, um valor próximo a amostra de treinamento, o que é um bom indício de que o treinamento não sofreu overfitting ou alguma outra deturpação.\n",
        "\n",
        "Esse modelo treinado é então salvo para posterior utilização."
      ]
    },
    {
      "cell_type": "markdown",
      "source": [
        "# Salvar Modelo"
      ],
      "metadata": {
        "id": "jsEDNgCqX1dr"
      }
    },
    {
      "cell_type": "code",
      "metadata": {
        "id": "71vwd_ioeKNK",
        "colab": {
          "base_uri": "https://localhost:8080/"
        },
        "outputId": "21c77eea-df99-496d-fd46-4f8294fa7cfb"
      },
      "source": [
        "from pycaret.regression import finalize_model, save_model\n",
        "\n",
        "final_model = finalize_model(best_models_blended)\n",
        "save_model(best_models_blended, \"insurance-cost-prediction-model\", verbose= False)"
      ],
      "execution_count": 31,
      "outputs": [
        {
          "output_type": "execute_result",
          "data": {
            "text/plain": [
              "(Pipeline(memory=FastMemory(location=/tmp/joblib),\n",
              "          steps=[('numerical_imputer',\n",
              "                  TransformerWrapper(include=['age', 'bmi', 'children'],\n",
              "                                     transformer=SimpleImputer())),\n",
              "                 ('categorical_imputer',\n",
              "                  TransformerWrapper(include=['sex', 'smoker', 'region'],\n",
              "                                     transformer=SimpleImputer(strategy='most_frequent'))),\n",
              "                 ('ordinal_encoding',\n",
              "                  TransformerWrapper(include=['sex', 'smoker...\n",
              "                                                             learning_rate=0.05,\n",
              "                                                             min_child_samples=41,\n",
              "                                                             min_split_gain=0.7,\n",
              "                                                             n_estimators=190,\n",
              "                                                             num_leaves=40,\n",
              "                                                             random_state=4784,\n",
              "                                                             reg_alpha=0.15,\n",
              "                                                             reg_lambda=0.3)),\n",
              "                                              ('Random Forest Regressor',\n",
              "                                               RandomForestRegressor(criterion='absolute_error',\n",
              "                                                                     max_depth=8,\n",
              "                                                                     min_impurity_decrease=0.0001,\n",
              "                                                                     min_samples_leaf=5,\n",
              "                                                                     min_samples_split=10,\n",
              "                                                                     n_estimators=40,\n",
              "                                                                     n_jobs=-1,\n",
              "                                                                     random_state=4784))],\n",
              "                                  n_jobs=-1))]),\n",
              " 'insurance-cost-prediction-model.pkl')"
            ]
          },
          "metadata": {},
          "execution_count": 31
        }
      ]
    },
    {
      "cell_type": "markdown",
      "metadata": {
        "id": "xCsHOJBmS9VI"
      },
      "source": [
        "# Previsão de gastos utilizando o novo modelo"
      ]
    },
    {
      "cell_type": "code",
      "metadata": {
        "id": "ZTVMOKbdtFI7"
      },
      "source": [
        "import pandas as pd\n",
        "from pycaret.regression import load_model\n",
        "from typing import List, Any, Callable\n",
        "\n",
        "cost_prediction_model = load_model(\"insurance-cost-prediction-model\", verbose= False)\n",
        "\n",
        "# random default parameters just because some value is needed\n",
        "def predict_total_cost(\n",
        "    age = 35,\n",
        "    sex = 'female',\n",
        "    bmi = 25,\n",
        "    children = 2,\n",
        "    smoker = 'no',\n",
        "    region = 'south'\n",
        "):\n",
        "    # create a pandas dataframe\n",
        "    input = {\n",
        "        'age': [age],\n",
        "        'sex': [sex],\n",
        "        'bmi': [bmi],\n",
        "        'children': [children],\n",
        "        'smoker': [smoker],\n",
        "        'region': [region]\n",
        "    }\n",
        "    input_df = pd.DataFrame(input)\n",
        "\n",
        "    # apply the saved module to predict the cost for a new client\n",
        "    return float(predict_model(cost_prediction_model, data= input_df)['prediction_label'].round(2))\n",
        "\n",
        "def compute_influence_by_feature(\n",
        "    name: str,\n",
        "    values: List[Any],\n",
        "    predict_cost_by_one_param: Callable[[Any], Any],\n",
        "    display_influence_tables: bool = True\n",
        "):\n",
        "    # compute cost value for each tested feature\n",
        "    influence_df = pd.DataFrame(data= values, columns= [name]);\n",
        "    influence_df['custo'] = [\n",
        "        predict_cost_by_one_param(value)\n",
        "        for value in influence_df[name]\n",
        "    ]\n",
        "\n",
        "    # display table to visually avaliate the test\n",
        "    if display_influence_tables:\n",
        "        display(influence_df)\n",
        "\n",
        "    # return the standard deviation for the test\n",
        "    return influence_df.std(0)['custo']"
      ],
      "execution_count": 35,
      "outputs": []
    },
    {
      "cell_type": "markdown",
      "metadata": {
        "id": "wJVUNiMaTJrb"
      },
      "source": [
        "Análise da variação dos valores previstos alterando uma das entradas por vez."
      ]
    },
    {
      "cell_type": "code",
      "metadata": {
        "id": "IFdvEMCRUgGZ"
      },
      "source": [
        "all_influence = {}\n",
        "display_influence_tables = True"
      ],
      "execution_count": 36,
      "outputs": []
    },
    {
      "cell_type": "code",
      "metadata": {
        "colab": {
          "base_uri": "https://localhost:8080/",
          "height": 130
        },
        "id": "Tmw_IwdzHaef",
        "outputId": "26841336-19a0-43f9-b149-623ddf0a1083"
      },
      "source": [
        "all_influence['smoker'] = compute_influence_by_feature(\n",
        "    'smoker',\n",
        "    ['no', 'yes'],\n",
        "    lambda value: predict_total_cost(smoker= value),\n",
        "    display_influence_tables\n",
        ")"
      ],
      "execution_count": 37,
      "outputs": [
        {
          "output_type": "display_data",
          "data": {
            "text/plain": [
              "<IPython.core.display.HTML object>"
            ],
            "text/html": []
          },
          "metadata": {}
        },
        {
          "output_type": "display_data",
          "data": {
            "text/plain": [
              "<IPython.core.display.HTML object>"
            ],
            "text/html": []
          },
          "metadata": {}
        },
        {
          "output_type": "display_data",
          "data": {
            "text/plain": [
              "  smoker     custo\n",
              "0     no   6043.64\n",
              "1    yes  19327.66"
            ],
            "text/html": [
              "\n",
              "  <div id=\"df-142fad03-cb49-4b49-b6af-35d246e7be2b\">\n",
              "    <div class=\"colab-df-container\">\n",
              "      <div>\n",
              "<style scoped>\n",
              "    .dataframe tbody tr th:only-of-type {\n",
              "        vertical-align: middle;\n",
              "    }\n",
              "\n",
              "    .dataframe tbody tr th {\n",
              "        vertical-align: top;\n",
              "    }\n",
              "\n",
              "    .dataframe thead th {\n",
              "        text-align: right;\n",
              "    }\n",
              "</style>\n",
              "<table border=\"1\" class=\"dataframe\">\n",
              "  <thead>\n",
              "    <tr style=\"text-align: right;\">\n",
              "      <th></th>\n",
              "      <th>smoker</th>\n",
              "      <th>custo</th>\n",
              "    </tr>\n",
              "  </thead>\n",
              "  <tbody>\n",
              "    <tr>\n",
              "      <th>0</th>\n",
              "      <td>no</td>\n",
              "      <td>6043.64</td>\n",
              "    </tr>\n",
              "    <tr>\n",
              "      <th>1</th>\n",
              "      <td>yes</td>\n",
              "      <td>19327.66</td>\n",
              "    </tr>\n",
              "  </tbody>\n",
              "</table>\n",
              "</div>\n",
              "      <button class=\"colab-df-convert\" onclick=\"convertToInteractive('df-142fad03-cb49-4b49-b6af-35d246e7be2b')\"\n",
              "              title=\"Convert this dataframe to an interactive table.\"\n",
              "              style=\"display:none;\">\n",
              "        \n",
              "  <svg xmlns=\"http://www.w3.org/2000/svg\" height=\"24px\"viewBox=\"0 0 24 24\"\n",
              "       width=\"24px\">\n",
              "    <path d=\"M0 0h24v24H0V0z\" fill=\"none\"/>\n",
              "    <path d=\"M18.56 5.44l.94 2.06.94-2.06 2.06-.94-2.06-.94-.94-2.06-.94 2.06-2.06.94zm-11 1L8.5 8.5l.94-2.06 2.06-.94-2.06-.94L8.5 2.5l-.94 2.06-2.06.94zm10 10l.94 2.06.94-2.06 2.06-.94-2.06-.94-.94-2.06-.94 2.06-2.06.94z\"/><path d=\"M17.41 7.96l-1.37-1.37c-.4-.4-.92-.59-1.43-.59-.52 0-1.04.2-1.43.59L10.3 9.45l-7.72 7.72c-.78.78-.78 2.05 0 2.83L4 21.41c.39.39.9.59 1.41.59.51 0 1.02-.2 1.41-.59l7.78-7.78 2.81-2.81c.8-.78.8-2.07 0-2.86zM5.41 20L4 18.59l7.72-7.72 1.47 1.35L5.41 20z\"/>\n",
              "  </svg>\n",
              "      </button>\n",
              "      \n",
              "  <style>\n",
              "    .colab-df-container {\n",
              "      display:flex;\n",
              "      flex-wrap:wrap;\n",
              "      gap: 12px;\n",
              "    }\n",
              "\n",
              "    .colab-df-convert {\n",
              "      background-color: #E8F0FE;\n",
              "      border: none;\n",
              "      border-radius: 50%;\n",
              "      cursor: pointer;\n",
              "      display: none;\n",
              "      fill: #1967D2;\n",
              "      height: 32px;\n",
              "      padding: 0 0 0 0;\n",
              "      width: 32px;\n",
              "    }\n",
              "\n",
              "    .colab-df-convert:hover {\n",
              "      background-color: #E2EBFA;\n",
              "      box-shadow: 0px 1px 2px rgba(60, 64, 67, 0.3), 0px 1px 3px 1px rgba(60, 64, 67, 0.15);\n",
              "      fill: #174EA6;\n",
              "    }\n",
              "\n",
              "    [theme=dark] .colab-df-convert {\n",
              "      background-color: #3B4455;\n",
              "      fill: #D2E3FC;\n",
              "    }\n",
              "\n",
              "    [theme=dark] .colab-df-convert:hover {\n",
              "      background-color: #434B5C;\n",
              "      box-shadow: 0px 1px 3px 1px rgba(0, 0, 0, 0.15);\n",
              "      filter: drop-shadow(0px 1px 2px rgba(0, 0, 0, 0.3));\n",
              "      fill: #FFFFFF;\n",
              "    }\n",
              "  </style>\n",
              "\n",
              "      <script>\n",
              "        const buttonEl =\n",
              "          document.querySelector('#df-142fad03-cb49-4b49-b6af-35d246e7be2b button.colab-df-convert');\n",
              "        buttonEl.style.display =\n",
              "          google.colab.kernel.accessAllowed ? 'block' : 'none';\n",
              "\n",
              "        async function convertToInteractive(key) {\n",
              "          const element = document.querySelector('#df-142fad03-cb49-4b49-b6af-35d246e7be2b');\n",
              "          const dataTable =\n",
              "            await google.colab.kernel.invokeFunction('convertToInteractive',\n",
              "                                                     [key], {});\n",
              "          if (!dataTable) return;\n",
              "\n",
              "          const docLinkHtml = 'Like what you see? Visit the ' +\n",
              "            '<a target=\"_blank\" href=https://colab.research.google.com/notebooks/data_table.ipynb>data table notebook</a>'\n",
              "            + ' to learn more about interactive tables.';\n",
              "          element.innerHTML = '';\n",
              "          dataTable['output_type'] = 'display_data';\n",
              "          await google.colab.output.renderOutput(dataTable, element);\n",
              "          const docLink = document.createElement('div');\n",
              "          docLink.innerHTML = docLinkHtml;\n",
              "          element.appendChild(docLink);\n",
              "        }\n",
              "      </script>\n",
              "    </div>\n",
              "  </div>\n",
              "  "
            ]
          },
          "metadata": {}
        }
      ]
    },
    {
      "cell_type": "code",
      "metadata": {
        "colab": {
          "base_uri": "https://localhost:8080/",
          "height": 526
        },
        "id": "yzbHczHaBIek",
        "outputId": "08f1337f-f176-4fca-f892-3fcd6248f1b3"
      },
      "source": [
        "all_influence['age'] = compute_influence_by_feature(\n",
        "    'age',\n",
        "    range(5, 80, 5),\n",
        "    lambda value: predict_total_cost(age= value),\n",
        "    display_influence_tables\n",
        ")"
      ],
      "execution_count": 38,
      "outputs": [
        {
          "output_type": "display_data",
          "data": {
            "text/plain": [
              "<IPython.core.display.HTML object>"
            ],
            "text/html": []
          },
          "metadata": {}
        },
        {
          "output_type": "display_data",
          "data": {
            "text/plain": [
              "<IPython.core.display.HTML object>"
            ],
            "text/html": []
          },
          "metadata": {}
        },
        {
          "output_type": "display_data",
          "data": {
            "text/plain": [
              "<IPython.core.display.HTML object>"
            ],
            "text/html": []
          },
          "metadata": {}
        },
        {
          "output_type": "display_data",
          "data": {
            "text/plain": [
              "<IPython.core.display.HTML object>"
            ],
            "text/html": []
          },
          "metadata": {}
        },
        {
          "output_type": "display_data",
          "data": {
            "text/plain": [
              "<IPython.core.display.HTML object>"
            ],
            "text/html": []
          },
          "metadata": {}
        },
        {
          "output_type": "display_data",
          "data": {
            "text/plain": [
              "<IPython.core.display.HTML object>"
            ],
            "text/html": []
          },
          "metadata": {}
        },
        {
          "output_type": "display_data",
          "data": {
            "text/plain": [
              "<IPython.core.display.HTML object>"
            ],
            "text/html": []
          },
          "metadata": {}
        },
        {
          "output_type": "display_data",
          "data": {
            "text/plain": [
              "<IPython.core.display.HTML object>"
            ],
            "text/html": []
          },
          "metadata": {}
        },
        {
          "output_type": "display_data",
          "data": {
            "text/plain": [
              "<IPython.core.display.HTML object>"
            ],
            "text/html": []
          },
          "metadata": {}
        },
        {
          "output_type": "display_data",
          "data": {
            "text/plain": [
              "<IPython.core.display.HTML object>"
            ],
            "text/html": []
          },
          "metadata": {}
        },
        {
          "output_type": "display_data",
          "data": {
            "text/plain": [
              "<IPython.core.display.HTML object>"
            ],
            "text/html": []
          },
          "metadata": {}
        },
        {
          "output_type": "display_data",
          "data": {
            "text/plain": [
              "<IPython.core.display.HTML object>"
            ],
            "text/html": []
          },
          "metadata": {}
        },
        {
          "output_type": "display_data",
          "data": {
            "text/plain": [
              "<IPython.core.display.HTML object>"
            ],
            "text/html": []
          },
          "metadata": {}
        },
        {
          "output_type": "display_data",
          "data": {
            "text/plain": [
              "<IPython.core.display.HTML object>"
            ],
            "text/html": []
          },
          "metadata": {}
        },
        {
          "output_type": "display_data",
          "data": {
            "text/plain": [
              "<IPython.core.display.HTML object>"
            ],
            "text/html": []
          },
          "metadata": {}
        },
        {
          "output_type": "display_data",
          "data": {
            "text/plain": [
              "    age     custo\n",
              "0     5   4695.22\n",
              "1    10   4695.22\n",
              "2    15   4695.22\n",
              "3    20   5070.21\n",
              "4    25   5793.35\n",
              "5    30   5376.41\n",
              "6    35   6043.64\n",
              "7    40   7761.90\n",
              "8    45   9427.77\n",
              "9    50  11424.85\n",
              "10   55  12632.43\n",
              "11   60  15947.20\n",
              "12   65  16045.70\n",
              "13   70  16045.70\n",
              "14   75  16045.70"
            ],
            "text/html": [
              "\n",
              "  <div id=\"df-8a1b4937-2d40-4421-904b-15a2ccd17183\">\n",
              "    <div class=\"colab-df-container\">\n",
              "      <div>\n",
              "<style scoped>\n",
              "    .dataframe tbody tr th:only-of-type {\n",
              "        vertical-align: middle;\n",
              "    }\n",
              "\n",
              "    .dataframe tbody tr th {\n",
              "        vertical-align: top;\n",
              "    }\n",
              "\n",
              "    .dataframe thead th {\n",
              "        text-align: right;\n",
              "    }\n",
              "</style>\n",
              "<table border=\"1\" class=\"dataframe\">\n",
              "  <thead>\n",
              "    <tr style=\"text-align: right;\">\n",
              "      <th></th>\n",
              "      <th>age</th>\n",
              "      <th>custo</th>\n",
              "    </tr>\n",
              "  </thead>\n",
              "  <tbody>\n",
              "    <tr>\n",
              "      <th>0</th>\n",
              "      <td>5</td>\n",
              "      <td>4695.22</td>\n",
              "    </tr>\n",
              "    <tr>\n",
              "      <th>1</th>\n",
              "      <td>10</td>\n",
              "      <td>4695.22</td>\n",
              "    </tr>\n",
              "    <tr>\n",
              "      <th>2</th>\n",
              "      <td>15</td>\n",
              "      <td>4695.22</td>\n",
              "    </tr>\n",
              "    <tr>\n",
              "      <th>3</th>\n",
              "      <td>20</td>\n",
              "      <td>5070.21</td>\n",
              "    </tr>\n",
              "    <tr>\n",
              "      <th>4</th>\n",
              "      <td>25</td>\n",
              "      <td>5793.35</td>\n",
              "    </tr>\n",
              "    <tr>\n",
              "      <th>5</th>\n",
              "      <td>30</td>\n",
              "      <td>5376.41</td>\n",
              "    </tr>\n",
              "    <tr>\n",
              "      <th>6</th>\n",
              "      <td>35</td>\n",
              "      <td>6043.64</td>\n",
              "    </tr>\n",
              "    <tr>\n",
              "      <th>7</th>\n",
              "      <td>40</td>\n",
              "      <td>7761.90</td>\n",
              "    </tr>\n",
              "    <tr>\n",
              "      <th>8</th>\n",
              "      <td>45</td>\n",
              "      <td>9427.77</td>\n",
              "    </tr>\n",
              "    <tr>\n",
              "      <th>9</th>\n",
              "      <td>50</td>\n",
              "      <td>11424.85</td>\n",
              "    </tr>\n",
              "    <tr>\n",
              "      <th>10</th>\n",
              "      <td>55</td>\n",
              "      <td>12632.43</td>\n",
              "    </tr>\n",
              "    <tr>\n",
              "      <th>11</th>\n",
              "      <td>60</td>\n",
              "      <td>15947.20</td>\n",
              "    </tr>\n",
              "    <tr>\n",
              "      <th>12</th>\n",
              "      <td>65</td>\n",
              "      <td>16045.70</td>\n",
              "    </tr>\n",
              "    <tr>\n",
              "      <th>13</th>\n",
              "      <td>70</td>\n",
              "      <td>16045.70</td>\n",
              "    </tr>\n",
              "    <tr>\n",
              "      <th>14</th>\n",
              "      <td>75</td>\n",
              "      <td>16045.70</td>\n",
              "    </tr>\n",
              "  </tbody>\n",
              "</table>\n",
              "</div>\n",
              "      <button class=\"colab-df-convert\" onclick=\"convertToInteractive('df-8a1b4937-2d40-4421-904b-15a2ccd17183')\"\n",
              "              title=\"Convert this dataframe to an interactive table.\"\n",
              "              style=\"display:none;\">\n",
              "        \n",
              "  <svg xmlns=\"http://www.w3.org/2000/svg\" height=\"24px\"viewBox=\"0 0 24 24\"\n",
              "       width=\"24px\">\n",
              "    <path d=\"M0 0h24v24H0V0z\" fill=\"none\"/>\n",
              "    <path d=\"M18.56 5.44l.94 2.06.94-2.06 2.06-.94-2.06-.94-.94-2.06-.94 2.06-2.06.94zm-11 1L8.5 8.5l.94-2.06 2.06-.94-2.06-.94L8.5 2.5l-.94 2.06-2.06.94zm10 10l.94 2.06.94-2.06 2.06-.94-2.06-.94-.94-2.06-.94 2.06-2.06.94z\"/><path d=\"M17.41 7.96l-1.37-1.37c-.4-.4-.92-.59-1.43-.59-.52 0-1.04.2-1.43.59L10.3 9.45l-7.72 7.72c-.78.78-.78 2.05 0 2.83L4 21.41c.39.39.9.59 1.41.59.51 0 1.02-.2 1.41-.59l7.78-7.78 2.81-2.81c.8-.78.8-2.07 0-2.86zM5.41 20L4 18.59l7.72-7.72 1.47 1.35L5.41 20z\"/>\n",
              "  </svg>\n",
              "      </button>\n",
              "      \n",
              "  <style>\n",
              "    .colab-df-container {\n",
              "      display:flex;\n",
              "      flex-wrap:wrap;\n",
              "      gap: 12px;\n",
              "    }\n",
              "\n",
              "    .colab-df-convert {\n",
              "      background-color: #E8F0FE;\n",
              "      border: none;\n",
              "      border-radius: 50%;\n",
              "      cursor: pointer;\n",
              "      display: none;\n",
              "      fill: #1967D2;\n",
              "      height: 32px;\n",
              "      padding: 0 0 0 0;\n",
              "      width: 32px;\n",
              "    }\n",
              "\n",
              "    .colab-df-convert:hover {\n",
              "      background-color: #E2EBFA;\n",
              "      box-shadow: 0px 1px 2px rgba(60, 64, 67, 0.3), 0px 1px 3px 1px rgba(60, 64, 67, 0.15);\n",
              "      fill: #174EA6;\n",
              "    }\n",
              "\n",
              "    [theme=dark] .colab-df-convert {\n",
              "      background-color: #3B4455;\n",
              "      fill: #D2E3FC;\n",
              "    }\n",
              "\n",
              "    [theme=dark] .colab-df-convert:hover {\n",
              "      background-color: #434B5C;\n",
              "      box-shadow: 0px 1px 3px 1px rgba(0, 0, 0, 0.15);\n",
              "      filter: drop-shadow(0px 1px 2px rgba(0, 0, 0, 0.3));\n",
              "      fill: #FFFFFF;\n",
              "    }\n",
              "  </style>\n",
              "\n",
              "      <script>\n",
              "        const buttonEl =\n",
              "          document.querySelector('#df-8a1b4937-2d40-4421-904b-15a2ccd17183 button.colab-df-convert');\n",
              "        buttonEl.style.display =\n",
              "          google.colab.kernel.accessAllowed ? 'block' : 'none';\n",
              "\n",
              "        async function convertToInteractive(key) {\n",
              "          const element = document.querySelector('#df-8a1b4937-2d40-4421-904b-15a2ccd17183');\n",
              "          const dataTable =\n",
              "            await google.colab.kernel.invokeFunction('convertToInteractive',\n",
              "                                                     [key], {});\n",
              "          if (!dataTable) return;\n",
              "\n",
              "          const docLinkHtml = 'Like what you see? Visit the ' +\n",
              "            '<a target=\"_blank\" href=https://colab.research.google.com/notebooks/data_table.ipynb>data table notebook</a>'\n",
              "            + ' to learn more about interactive tables.';\n",
              "          element.innerHTML = '';\n",
              "          dataTable['output_type'] = 'display_data';\n",
              "          await google.colab.output.renderOutput(dataTable, element);\n",
              "          const docLink = document.createElement('div');\n",
              "          docLink.innerHTML = docLinkHtml;\n",
              "          element.appendChild(docLink);\n",
              "        }\n",
              "      </script>\n",
              "    </div>\n",
              "  </div>\n",
              "  "
            ]
          },
          "metadata": {}
        }
      ]
    },
    {
      "cell_type": "code",
      "metadata": {
        "colab": {
          "base_uri": "https://localhost:8080/",
          "height": 130
        },
        "id": "uhYi8xzdB911",
        "outputId": "b0084e2e-e05a-46b7-db0d-275d5b55c3de"
      },
      "source": [
        "all_influence['sex'] = compute_influence_by_feature(\n",
        "    'sex',\n",
        "    ['male', 'female'],\n",
        "    lambda value: predict_total_cost(sex= value),\n",
        "    display_influence_tables\n",
        ")"
      ],
      "execution_count": 39,
      "outputs": [
        {
          "output_type": "display_data",
          "data": {
            "text/plain": [
              "<IPython.core.display.HTML object>"
            ],
            "text/html": []
          },
          "metadata": {}
        },
        {
          "output_type": "display_data",
          "data": {
            "text/plain": [
              "<IPython.core.display.HTML object>"
            ],
            "text/html": []
          },
          "metadata": {}
        },
        {
          "output_type": "display_data",
          "data": {
            "text/plain": [
              "      sex    custo\n",
              "0    male  5708.02\n",
              "1  female  6043.64"
            ],
            "text/html": [
              "\n",
              "  <div id=\"df-74cce4c0-fd2a-4c47-bd61-b0da5222745e\">\n",
              "    <div class=\"colab-df-container\">\n",
              "      <div>\n",
              "<style scoped>\n",
              "    .dataframe tbody tr th:only-of-type {\n",
              "        vertical-align: middle;\n",
              "    }\n",
              "\n",
              "    .dataframe tbody tr th {\n",
              "        vertical-align: top;\n",
              "    }\n",
              "\n",
              "    .dataframe thead th {\n",
              "        text-align: right;\n",
              "    }\n",
              "</style>\n",
              "<table border=\"1\" class=\"dataframe\">\n",
              "  <thead>\n",
              "    <tr style=\"text-align: right;\">\n",
              "      <th></th>\n",
              "      <th>sex</th>\n",
              "      <th>custo</th>\n",
              "    </tr>\n",
              "  </thead>\n",
              "  <tbody>\n",
              "    <tr>\n",
              "      <th>0</th>\n",
              "      <td>male</td>\n",
              "      <td>5708.02</td>\n",
              "    </tr>\n",
              "    <tr>\n",
              "      <th>1</th>\n",
              "      <td>female</td>\n",
              "      <td>6043.64</td>\n",
              "    </tr>\n",
              "  </tbody>\n",
              "</table>\n",
              "</div>\n",
              "      <button class=\"colab-df-convert\" onclick=\"convertToInteractive('df-74cce4c0-fd2a-4c47-bd61-b0da5222745e')\"\n",
              "              title=\"Convert this dataframe to an interactive table.\"\n",
              "              style=\"display:none;\">\n",
              "        \n",
              "  <svg xmlns=\"http://www.w3.org/2000/svg\" height=\"24px\"viewBox=\"0 0 24 24\"\n",
              "       width=\"24px\">\n",
              "    <path d=\"M0 0h24v24H0V0z\" fill=\"none\"/>\n",
              "    <path d=\"M18.56 5.44l.94 2.06.94-2.06 2.06-.94-2.06-.94-.94-2.06-.94 2.06-2.06.94zm-11 1L8.5 8.5l.94-2.06 2.06-.94-2.06-.94L8.5 2.5l-.94 2.06-2.06.94zm10 10l.94 2.06.94-2.06 2.06-.94-2.06-.94-.94-2.06-.94 2.06-2.06.94z\"/><path d=\"M17.41 7.96l-1.37-1.37c-.4-.4-.92-.59-1.43-.59-.52 0-1.04.2-1.43.59L10.3 9.45l-7.72 7.72c-.78.78-.78 2.05 0 2.83L4 21.41c.39.39.9.59 1.41.59.51 0 1.02-.2 1.41-.59l7.78-7.78 2.81-2.81c.8-.78.8-2.07 0-2.86zM5.41 20L4 18.59l7.72-7.72 1.47 1.35L5.41 20z\"/>\n",
              "  </svg>\n",
              "      </button>\n",
              "      \n",
              "  <style>\n",
              "    .colab-df-container {\n",
              "      display:flex;\n",
              "      flex-wrap:wrap;\n",
              "      gap: 12px;\n",
              "    }\n",
              "\n",
              "    .colab-df-convert {\n",
              "      background-color: #E8F0FE;\n",
              "      border: none;\n",
              "      border-radius: 50%;\n",
              "      cursor: pointer;\n",
              "      display: none;\n",
              "      fill: #1967D2;\n",
              "      height: 32px;\n",
              "      padding: 0 0 0 0;\n",
              "      width: 32px;\n",
              "    }\n",
              "\n",
              "    .colab-df-convert:hover {\n",
              "      background-color: #E2EBFA;\n",
              "      box-shadow: 0px 1px 2px rgba(60, 64, 67, 0.3), 0px 1px 3px 1px rgba(60, 64, 67, 0.15);\n",
              "      fill: #174EA6;\n",
              "    }\n",
              "\n",
              "    [theme=dark] .colab-df-convert {\n",
              "      background-color: #3B4455;\n",
              "      fill: #D2E3FC;\n",
              "    }\n",
              "\n",
              "    [theme=dark] .colab-df-convert:hover {\n",
              "      background-color: #434B5C;\n",
              "      box-shadow: 0px 1px 3px 1px rgba(0, 0, 0, 0.15);\n",
              "      filter: drop-shadow(0px 1px 2px rgba(0, 0, 0, 0.3));\n",
              "      fill: #FFFFFF;\n",
              "    }\n",
              "  </style>\n",
              "\n",
              "      <script>\n",
              "        const buttonEl =\n",
              "          document.querySelector('#df-74cce4c0-fd2a-4c47-bd61-b0da5222745e button.colab-df-convert');\n",
              "        buttonEl.style.display =\n",
              "          google.colab.kernel.accessAllowed ? 'block' : 'none';\n",
              "\n",
              "        async function convertToInteractive(key) {\n",
              "          const element = document.querySelector('#df-74cce4c0-fd2a-4c47-bd61-b0da5222745e');\n",
              "          const dataTable =\n",
              "            await google.colab.kernel.invokeFunction('convertToInteractive',\n",
              "                                                     [key], {});\n",
              "          if (!dataTable) return;\n",
              "\n",
              "          const docLinkHtml = 'Like what you see? Visit the ' +\n",
              "            '<a target=\"_blank\" href=https://colab.research.google.com/notebooks/data_table.ipynb>data table notebook</a>'\n",
              "            + ' to learn more about interactive tables.';\n",
              "          element.innerHTML = '';\n",
              "          dataTable['output_type'] = 'display_data';\n",
              "          await google.colab.output.renderOutput(dataTable, element);\n",
              "          const docLink = document.createElement('div');\n",
              "          docLink.innerHTML = docLinkHtml;\n",
              "          element.appendChild(docLink);\n",
              "        }\n",
              "      </script>\n",
              "    </div>\n",
              "  </div>\n",
              "  "
            ]
          },
          "metadata": {}
        }
      ]
    },
    {
      "cell_type": "code",
      "metadata": {
        "colab": {
          "base_uri": "https://localhost:8080/",
          "height": 557
        },
        "id": "IY0fFAAzOxpo",
        "outputId": "43060a73-f348-4e34-f37b-190907f1cd15"
      },
      "source": [
        "all_influence['bmi'] = compute_influence_by_feature(\n",
        "    'bmi',\n",
        "    range(10, 58, 3),\n",
        "    lambda value: predict_total_cost(bmi= value),\n",
        "    display_influence_tables\n",
        ")"
      ],
      "execution_count": 40,
      "outputs": [
        {
          "output_type": "display_data",
          "data": {
            "text/plain": [
              "<IPython.core.display.HTML object>"
            ],
            "text/html": []
          },
          "metadata": {}
        },
        {
          "output_type": "display_data",
          "data": {
            "text/plain": [
              "<IPython.core.display.HTML object>"
            ],
            "text/html": []
          },
          "metadata": {}
        },
        {
          "output_type": "display_data",
          "data": {
            "text/plain": [
              "<IPython.core.display.HTML object>"
            ],
            "text/html": []
          },
          "metadata": {}
        },
        {
          "output_type": "display_data",
          "data": {
            "text/plain": [
              "<IPython.core.display.HTML object>"
            ],
            "text/html": []
          },
          "metadata": {}
        },
        {
          "output_type": "display_data",
          "data": {
            "text/plain": [
              "<IPython.core.display.HTML object>"
            ],
            "text/html": []
          },
          "metadata": {}
        },
        {
          "output_type": "display_data",
          "data": {
            "text/plain": [
              "<IPython.core.display.HTML object>"
            ],
            "text/html": []
          },
          "metadata": {}
        },
        {
          "output_type": "display_data",
          "data": {
            "text/plain": [
              "<IPython.core.display.HTML object>"
            ],
            "text/html": []
          },
          "metadata": {}
        },
        {
          "output_type": "display_data",
          "data": {
            "text/plain": [
              "<IPython.core.display.HTML object>"
            ],
            "text/html": []
          },
          "metadata": {}
        },
        {
          "output_type": "display_data",
          "data": {
            "text/plain": [
              "<IPython.core.display.HTML object>"
            ],
            "text/html": []
          },
          "metadata": {}
        },
        {
          "output_type": "display_data",
          "data": {
            "text/plain": [
              "<IPython.core.display.HTML object>"
            ],
            "text/html": []
          },
          "metadata": {}
        },
        {
          "output_type": "display_data",
          "data": {
            "text/plain": [
              "<IPython.core.display.HTML object>"
            ],
            "text/html": []
          },
          "metadata": {}
        },
        {
          "output_type": "display_data",
          "data": {
            "text/plain": [
              "<IPython.core.display.HTML object>"
            ],
            "text/html": []
          },
          "metadata": {}
        },
        {
          "output_type": "display_data",
          "data": {
            "text/plain": [
              "<IPython.core.display.HTML object>"
            ],
            "text/html": []
          },
          "metadata": {}
        },
        {
          "output_type": "display_data",
          "data": {
            "text/plain": [
              "<IPython.core.display.HTML object>"
            ],
            "text/html": []
          },
          "metadata": {}
        },
        {
          "output_type": "display_data",
          "data": {
            "text/plain": [
              "<IPython.core.display.HTML object>"
            ],
            "text/html": []
          },
          "metadata": {}
        },
        {
          "output_type": "display_data",
          "data": {
            "text/plain": [
              "<IPython.core.display.HTML object>"
            ],
            "text/html": []
          },
          "metadata": {}
        },
        {
          "output_type": "display_data",
          "data": {
            "text/plain": [
              "    bmi    custo\n",
              "0    10  6111.97\n",
              "1    13  6111.97\n",
              "2    16  6111.97\n",
              "3    19  6111.97\n",
              "4    22  5914.67\n",
              "5    25  6043.64\n",
              "6    28  6316.28\n",
              "7    31  6096.59\n",
              "8    34  6462.63\n",
              "9    37  7272.15\n",
              "10   40  6827.30\n",
              "11   43  6917.63\n",
              "12   46  6917.63\n",
              "13   49  6917.63\n",
              "14   52  6917.63\n",
              "15   55  6917.63"
            ],
            "text/html": [
              "\n",
              "  <div id=\"df-5b2f3ef7-b3ec-4d6a-bc2c-c9991e23c7f8\">\n",
              "    <div class=\"colab-df-container\">\n",
              "      <div>\n",
              "<style scoped>\n",
              "    .dataframe tbody tr th:only-of-type {\n",
              "        vertical-align: middle;\n",
              "    }\n",
              "\n",
              "    .dataframe tbody tr th {\n",
              "        vertical-align: top;\n",
              "    }\n",
              "\n",
              "    .dataframe thead th {\n",
              "        text-align: right;\n",
              "    }\n",
              "</style>\n",
              "<table border=\"1\" class=\"dataframe\">\n",
              "  <thead>\n",
              "    <tr style=\"text-align: right;\">\n",
              "      <th></th>\n",
              "      <th>bmi</th>\n",
              "      <th>custo</th>\n",
              "    </tr>\n",
              "  </thead>\n",
              "  <tbody>\n",
              "    <tr>\n",
              "      <th>0</th>\n",
              "      <td>10</td>\n",
              "      <td>6111.97</td>\n",
              "    </tr>\n",
              "    <tr>\n",
              "      <th>1</th>\n",
              "      <td>13</td>\n",
              "      <td>6111.97</td>\n",
              "    </tr>\n",
              "    <tr>\n",
              "      <th>2</th>\n",
              "      <td>16</td>\n",
              "      <td>6111.97</td>\n",
              "    </tr>\n",
              "    <tr>\n",
              "      <th>3</th>\n",
              "      <td>19</td>\n",
              "      <td>6111.97</td>\n",
              "    </tr>\n",
              "    <tr>\n",
              "      <th>4</th>\n",
              "      <td>22</td>\n",
              "      <td>5914.67</td>\n",
              "    </tr>\n",
              "    <tr>\n",
              "      <th>5</th>\n",
              "      <td>25</td>\n",
              "      <td>6043.64</td>\n",
              "    </tr>\n",
              "    <tr>\n",
              "      <th>6</th>\n",
              "      <td>28</td>\n",
              "      <td>6316.28</td>\n",
              "    </tr>\n",
              "    <tr>\n",
              "      <th>7</th>\n",
              "      <td>31</td>\n",
              "      <td>6096.59</td>\n",
              "    </tr>\n",
              "    <tr>\n",
              "      <th>8</th>\n",
              "      <td>34</td>\n",
              "      <td>6462.63</td>\n",
              "    </tr>\n",
              "    <tr>\n",
              "      <th>9</th>\n",
              "      <td>37</td>\n",
              "      <td>7272.15</td>\n",
              "    </tr>\n",
              "    <tr>\n",
              "      <th>10</th>\n",
              "      <td>40</td>\n",
              "      <td>6827.30</td>\n",
              "    </tr>\n",
              "    <tr>\n",
              "      <th>11</th>\n",
              "      <td>43</td>\n",
              "      <td>6917.63</td>\n",
              "    </tr>\n",
              "    <tr>\n",
              "      <th>12</th>\n",
              "      <td>46</td>\n",
              "      <td>6917.63</td>\n",
              "    </tr>\n",
              "    <tr>\n",
              "      <th>13</th>\n",
              "      <td>49</td>\n",
              "      <td>6917.63</td>\n",
              "    </tr>\n",
              "    <tr>\n",
              "      <th>14</th>\n",
              "      <td>52</td>\n",
              "      <td>6917.63</td>\n",
              "    </tr>\n",
              "    <tr>\n",
              "      <th>15</th>\n",
              "      <td>55</td>\n",
              "      <td>6917.63</td>\n",
              "    </tr>\n",
              "  </tbody>\n",
              "</table>\n",
              "</div>\n",
              "      <button class=\"colab-df-convert\" onclick=\"convertToInteractive('df-5b2f3ef7-b3ec-4d6a-bc2c-c9991e23c7f8')\"\n",
              "              title=\"Convert this dataframe to an interactive table.\"\n",
              "              style=\"display:none;\">\n",
              "        \n",
              "  <svg xmlns=\"http://www.w3.org/2000/svg\" height=\"24px\"viewBox=\"0 0 24 24\"\n",
              "       width=\"24px\">\n",
              "    <path d=\"M0 0h24v24H0V0z\" fill=\"none\"/>\n",
              "    <path d=\"M18.56 5.44l.94 2.06.94-2.06 2.06-.94-2.06-.94-.94-2.06-.94 2.06-2.06.94zm-11 1L8.5 8.5l.94-2.06 2.06-.94-2.06-.94L8.5 2.5l-.94 2.06-2.06.94zm10 10l.94 2.06.94-2.06 2.06-.94-2.06-.94-.94-2.06-.94 2.06-2.06.94z\"/><path d=\"M17.41 7.96l-1.37-1.37c-.4-.4-.92-.59-1.43-.59-.52 0-1.04.2-1.43.59L10.3 9.45l-7.72 7.72c-.78.78-.78 2.05 0 2.83L4 21.41c.39.39.9.59 1.41.59.51 0 1.02-.2 1.41-.59l7.78-7.78 2.81-2.81c.8-.78.8-2.07 0-2.86zM5.41 20L4 18.59l7.72-7.72 1.47 1.35L5.41 20z\"/>\n",
              "  </svg>\n",
              "      </button>\n",
              "      \n",
              "  <style>\n",
              "    .colab-df-container {\n",
              "      display:flex;\n",
              "      flex-wrap:wrap;\n",
              "      gap: 12px;\n",
              "    }\n",
              "\n",
              "    .colab-df-convert {\n",
              "      background-color: #E8F0FE;\n",
              "      border: none;\n",
              "      border-radius: 50%;\n",
              "      cursor: pointer;\n",
              "      display: none;\n",
              "      fill: #1967D2;\n",
              "      height: 32px;\n",
              "      padding: 0 0 0 0;\n",
              "      width: 32px;\n",
              "    }\n",
              "\n",
              "    .colab-df-convert:hover {\n",
              "      background-color: #E2EBFA;\n",
              "      box-shadow: 0px 1px 2px rgba(60, 64, 67, 0.3), 0px 1px 3px 1px rgba(60, 64, 67, 0.15);\n",
              "      fill: #174EA6;\n",
              "    }\n",
              "\n",
              "    [theme=dark] .colab-df-convert {\n",
              "      background-color: #3B4455;\n",
              "      fill: #D2E3FC;\n",
              "    }\n",
              "\n",
              "    [theme=dark] .colab-df-convert:hover {\n",
              "      background-color: #434B5C;\n",
              "      box-shadow: 0px 1px 3px 1px rgba(0, 0, 0, 0.15);\n",
              "      filter: drop-shadow(0px 1px 2px rgba(0, 0, 0, 0.3));\n",
              "      fill: #FFFFFF;\n",
              "    }\n",
              "  </style>\n",
              "\n",
              "      <script>\n",
              "        const buttonEl =\n",
              "          document.querySelector('#df-5b2f3ef7-b3ec-4d6a-bc2c-c9991e23c7f8 button.colab-df-convert');\n",
              "        buttonEl.style.display =\n",
              "          google.colab.kernel.accessAllowed ? 'block' : 'none';\n",
              "\n",
              "        async function convertToInteractive(key) {\n",
              "          const element = document.querySelector('#df-5b2f3ef7-b3ec-4d6a-bc2c-c9991e23c7f8');\n",
              "          const dataTable =\n",
              "            await google.colab.kernel.invokeFunction('convertToInteractive',\n",
              "                                                     [key], {});\n",
              "          if (!dataTable) return;\n",
              "\n",
              "          const docLinkHtml = 'Like what you see? Visit the ' +\n",
              "            '<a target=\"_blank\" href=https://colab.research.google.com/notebooks/data_table.ipynb>data table notebook</a>'\n",
              "            + ' to learn more about interactive tables.';\n",
              "          element.innerHTML = '';\n",
              "          dataTable['output_type'] = 'display_data';\n",
              "          await google.colab.output.renderOutput(dataTable, element);\n",
              "          const docLink = document.createElement('div');\n",
              "          docLink.innerHTML = docLinkHtml;\n",
              "          element.appendChild(docLink);\n",
              "        }\n",
              "      </script>\n",
              "    </div>\n",
              "  </div>\n",
              "  "
            ]
          },
          "metadata": {}
        }
      ]
    },
    {
      "cell_type": "code",
      "source": [
        "all_influence['children'] = compute_influence_by_feature(\n",
        "    'children',\n",
        "    range(0, 6, 1),\n",
        "    lambda value: predict_total_cost(children= value),\n",
        "    display_influence_tables\n",
        ")"
      ],
      "metadata": {
        "colab": {
          "base_uri": "https://localhost:8080/",
          "height": 252
        },
        "id": "JSFQmQ0scVDb",
        "outputId": "72dbe6ca-787d-4c52-8584-bd68680b9140"
      },
      "execution_count": 41,
      "outputs": [
        {
          "output_type": "display_data",
          "data": {
            "text/plain": [
              "<IPython.core.display.HTML object>"
            ],
            "text/html": []
          },
          "metadata": {}
        },
        {
          "output_type": "display_data",
          "data": {
            "text/plain": [
              "<IPython.core.display.HTML object>"
            ],
            "text/html": []
          },
          "metadata": {}
        },
        {
          "output_type": "display_data",
          "data": {
            "text/plain": [
              "<IPython.core.display.HTML object>"
            ],
            "text/html": []
          },
          "metadata": {}
        },
        {
          "output_type": "display_data",
          "data": {
            "text/plain": [
              "<IPython.core.display.HTML object>"
            ],
            "text/html": []
          },
          "metadata": {}
        },
        {
          "output_type": "display_data",
          "data": {
            "text/plain": [
              "<IPython.core.display.HTML object>"
            ],
            "text/html": []
          },
          "metadata": {}
        },
        {
          "output_type": "display_data",
          "data": {
            "text/plain": [
              "<IPython.core.display.HTML object>"
            ],
            "text/html": []
          },
          "metadata": {}
        },
        {
          "output_type": "display_data",
          "data": {
            "text/plain": [
              "   children    custo\n",
              "0         0  5115.36\n",
              "1         1  5685.03\n",
              "2         2  6043.64\n",
              "3         3  6277.35\n",
              "4         4  6810.24\n",
              "5         5  6810.24"
            ],
            "text/html": [
              "\n",
              "  <div id=\"df-c105f3ed-eee1-4797-af56-6df1b8ea113e\">\n",
              "    <div class=\"colab-df-container\">\n",
              "      <div>\n",
              "<style scoped>\n",
              "    .dataframe tbody tr th:only-of-type {\n",
              "        vertical-align: middle;\n",
              "    }\n",
              "\n",
              "    .dataframe tbody tr th {\n",
              "        vertical-align: top;\n",
              "    }\n",
              "\n",
              "    .dataframe thead th {\n",
              "        text-align: right;\n",
              "    }\n",
              "</style>\n",
              "<table border=\"1\" class=\"dataframe\">\n",
              "  <thead>\n",
              "    <tr style=\"text-align: right;\">\n",
              "      <th></th>\n",
              "      <th>children</th>\n",
              "      <th>custo</th>\n",
              "    </tr>\n",
              "  </thead>\n",
              "  <tbody>\n",
              "    <tr>\n",
              "      <th>0</th>\n",
              "      <td>0</td>\n",
              "      <td>5115.36</td>\n",
              "    </tr>\n",
              "    <tr>\n",
              "      <th>1</th>\n",
              "      <td>1</td>\n",
              "      <td>5685.03</td>\n",
              "    </tr>\n",
              "    <tr>\n",
              "      <th>2</th>\n",
              "      <td>2</td>\n",
              "      <td>6043.64</td>\n",
              "    </tr>\n",
              "    <tr>\n",
              "      <th>3</th>\n",
              "      <td>3</td>\n",
              "      <td>6277.35</td>\n",
              "    </tr>\n",
              "    <tr>\n",
              "      <th>4</th>\n",
              "      <td>4</td>\n",
              "      <td>6810.24</td>\n",
              "    </tr>\n",
              "    <tr>\n",
              "      <th>5</th>\n",
              "      <td>5</td>\n",
              "      <td>6810.24</td>\n",
              "    </tr>\n",
              "  </tbody>\n",
              "</table>\n",
              "</div>\n",
              "      <button class=\"colab-df-convert\" onclick=\"convertToInteractive('df-c105f3ed-eee1-4797-af56-6df1b8ea113e')\"\n",
              "              title=\"Convert this dataframe to an interactive table.\"\n",
              "              style=\"display:none;\">\n",
              "        \n",
              "  <svg xmlns=\"http://www.w3.org/2000/svg\" height=\"24px\"viewBox=\"0 0 24 24\"\n",
              "       width=\"24px\">\n",
              "    <path d=\"M0 0h24v24H0V0z\" fill=\"none\"/>\n",
              "    <path d=\"M18.56 5.44l.94 2.06.94-2.06 2.06-.94-2.06-.94-.94-2.06-.94 2.06-2.06.94zm-11 1L8.5 8.5l.94-2.06 2.06-.94-2.06-.94L8.5 2.5l-.94 2.06-2.06.94zm10 10l.94 2.06.94-2.06 2.06-.94-2.06-.94-.94-2.06-.94 2.06-2.06.94z\"/><path d=\"M17.41 7.96l-1.37-1.37c-.4-.4-.92-.59-1.43-.59-.52 0-1.04.2-1.43.59L10.3 9.45l-7.72 7.72c-.78.78-.78 2.05 0 2.83L4 21.41c.39.39.9.59 1.41.59.51 0 1.02-.2 1.41-.59l7.78-7.78 2.81-2.81c.8-.78.8-2.07 0-2.86zM5.41 20L4 18.59l7.72-7.72 1.47 1.35L5.41 20z\"/>\n",
              "  </svg>\n",
              "      </button>\n",
              "      \n",
              "  <style>\n",
              "    .colab-df-container {\n",
              "      display:flex;\n",
              "      flex-wrap:wrap;\n",
              "      gap: 12px;\n",
              "    }\n",
              "\n",
              "    .colab-df-convert {\n",
              "      background-color: #E8F0FE;\n",
              "      border: none;\n",
              "      border-radius: 50%;\n",
              "      cursor: pointer;\n",
              "      display: none;\n",
              "      fill: #1967D2;\n",
              "      height: 32px;\n",
              "      padding: 0 0 0 0;\n",
              "      width: 32px;\n",
              "    }\n",
              "\n",
              "    .colab-df-convert:hover {\n",
              "      background-color: #E2EBFA;\n",
              "      box-shadow: 0px 1px 2px rgba(60, 64, 67, 0.3), 0px 1px 3px 1px rgba(60, 64, 67, 0.15);\n",
              "      fill: #174EA6;\n",
              "    }\n",
              "\n",
              "    [theme=dark] .colab-df-convert {\n",
              "      background-color: #3B4455;\n",
              "      fill: #D2E3FC;\n",
              "    }\n",
              "\n",
              "    [theme=dark] .colab-df-convert:hover {\n",
              "      background-color: #434B5C;\n",
              "      box-shadow: 0px 1px 3px 1px rgba(0, 0, 0, 0.15);\n",
              "      filter: drop-shadow(0px 1px 2px rgba(0, 0, 0, 0.3));\n",
              "      fill: #FFFFFF;\n",
              "    }\n",
              "  </style>\n",
              "\n",
              "      <script>\n",
              "        const buttonEl =\n",
              "          document.querySelector('#df-c105f3ed-eee1-4797-af56-6df1b8ea113e button.colab-df-convert');\n",
              "        buttonEl.style.display =\n",
              "          google.colab.kernel.accessAllowed ? 'block' : 'none';\n",
              "\n",
              "        async function convertToInteractive(key) {\n",
              "          const element = document.querySelector('#df-c105f3ed-eee1-4797-af56-6df1b8ea113e');\n",
              "          const dataTable =\n",
              "            await google.colab.kernel.invokeFunction('convertToInteractive',\n",
              "                                                     [key], {});\n",
              "          if (!dataTable) return;\n",
              "\n",
              "          const docLinkHtml = 'Like what you see? Visit the ' +\n",
              "            '<a target=\"_blank\" href=https://colab.research.google.com/notebooks/data_table.ipynb>data table notebook</a>'\n",
              "            + ' to learn more about interactive tables.';\n",
              "          element.innerHTML = '';\n",
              "          dataTable['output_type'] = 'display_data';\n",
              "          await google.colab.output.renderOutput(dataTable, element);\n",
              "          const docLink = document.createElement('div');\n",
              "          docLink.innerHTML = docLinkHtml;\n",
              "          element.appendChild(docLink);\n",
              "        }\n",
              "      </script>\n",
              "    </div>\n",
              "  </div>\n",
              "  "
            ]
          },
          "metadata": {}
        }
      ]
    },
    {
      "cell_type": "code",
      "metadata": {
        "colab": {
          "base_uri": "https://localhost:8080/",
          "height": 313
        },
        "id": "Ne5x4IezX6zr",
        "outputId": "576d813e-0f6e-42e8-af0d-43b1db5dea53"
      },
      "source": [
        "all_influence['region'] = compute_influence_by_feature(\n",
        "    'region',\n",
        "    ['south', 'north', 'east', 'west', 'southeast', 'southwest', 'northeast', 'northwest' ],\n",
        "    lambda value: predict_total_cost(region= value),\n",
        "    display_influence_tables\n",
        ")"
      ],
      "execution_count": 42,
      "outputs": [
        {
          "output_type": "display_data",
          "data": {
            "text/plain": [
              "<IPython.core.display.HTML object>"
            ],
            "text/html": []
          },
          "metadata": {}
        },
        {
          "output_type": "display_data",
          "data": {
            "text/plain": [
              "<IPython.core.display.HTML object>"
            ],
            "text/html": []
          },
          "metadata": {}
        },
        {
          "output_type": "display_data",
          "data": {
            "text/plain": [
              "<IPython.core.display.HTML object>"
            ],
            "text/html": []
          },
          "metadata": {}
        },
        {
          "output_type": "display_data",
          "data": {
            "text/plain": [
              "<IPython.core.display.HTML object>"
            ],
            "text/html": []
          },
          "metadata": {}
        },
        {
          "output_type": "display_data",
          "data": {
            "text/plain": [
              "<IPython.core.display.HTML object>"
            ],
            "text/html": []
          },
          "metadata": {}
        },
        {
          "output_type": "display_data",
          "data": {
            "text/plain": [
              "<IPython.core.display.HTML object>"
            ],
            "text/html": []
          },
          "metadata": {}
        },
        {
          "output_type": "display_data",
          "data": {
            "text/plain": [
              "<IPython.core.display.HTML object>"
            ],
            "text/html": []
          },
          "metadata": {}
        },
        {
          "output_type": "display_data",
          "data": {
            "text/plain": [
              "<IPython.core.display.HTML object>"
            ],
            "text/html": []
          },
          "metadata": {}
        },
        {
          "output_type": "display_data",
          "data": {
            "text/plain": [
              "      region    custo\n",
              "0      south  6043.64\n",
              "1      north  6043.64\n",
              "2       east  6043.64\n",
              "3       west  6043.64\n",
              "4  southeast  5867.05\n",
              "5  southwest  5656.47\n",
              "6  northeast  6189.98\n",
              "7  northwest  6317.58"
            ],
            "text/html": [
              "\n",
              "  <div id=\"df-bca3eb50-a606-4bbf-bd53-ed862273512f\">\n",
              "    <div class=\"colab-df-container\">\n",
              "      <div>\n",
              "<style scoped>\n",
              "    .dataframe tbody tr th:only-of-type {\n",
              "        vertical-align: middle;\n",
              "    }\n",
              "\n",
              "    .dataframe tbody tr th {\n",
              "        vertical-align: top;\n",
              "    }\n",
              "\n",
              "    .dataframe thead th {\n",
              "        text-align: right;\n",
              "    }\n",
              "</style>\n",
              "<table border=\"1\" class=\"dataframe\">\n",
              "  <thead>\n",
              "    <tr style=\"text-align: right;\">\n",
              "      <th></th>\n",
              "      <th>region</th>\n",
              "      <th>custo</th>\n",
              "    </tr>\n",
              "  </thead>\n",
              "  <tbody>\n",
              "    <tr>\n",
              "      <th>0</th>\n",
              "      <td>south</td>\n",
              "      <td>6043.64</td>\n",
              "    </tr>\n",
              "    <tr>\n",
              "      <th>1</th>\n",
              "      <td>north</td>\n",
              "      <td>6043.64</td>\n",
              "    </tr>\n",
              "    <tr>\n",
              "      <th>2</th>\n",
              "      <td>east</td>\n",
              "      <td>6043.64</td>\n",
              "    </tr>\n",
              "    <tr>\n",
              "      <th>3</th>\n",
              "      <td>west</td>\n",
              "      <td>6043.64</td>\n",
              "    </tr>\n",
              "    <tr>\n",
              "      <th>4</th>\n",
              "      <td>southeast</td>\n",
              "      <td>5867.05</td>\n",
              "    </tr>\n",
              "    <tr>\n",
              "      <th>5</th>\n",
              "      <td>southwest</td>\n",
              "      <td>5656.47</td>\n",
              "    </tr>\n",
              "    <tr>\n",
              "      <th>6</th>\n",
              "      <td>northeast</td>\n",
              "      <td>6189.98</td>\n",
              "    </tr>\n",
              "    <tr>\n",
              "      <th>7</th>\n",
              "      <td>northwest</td>\n",
              "      <td>6317.58</td>\n",
              "    </tr>\n",
              "  </tbody>\n",
              "</table>\n",
              "</div>\n",
              "      <button class=\"colab-df-convert\" onclick=\"convertToInteractive('df-bca3eb50-a606-4bbf-bd53-ed862273512f')\"\n",
              "              title=\"Convert this dataframe to an interactive table.\"\n",
              "              style=\"display:none;\">\n",
              "        \n",
              "  <svg xmlns=\"http://www.w3.org/2000/svg\" height=\"24px\"viewBox=\"0 0 24 24\"\n",
              "       width=\"24px\">\n",
              "    <path d=\"M0 0h24v24H0V0z\" fill=\"none\"/>\n",
              "    <path d=\"M18.56 5.44l.94 2.06.94-2.06 2.06-.94-2.06-.94-.94-2.06-.94 2.06-2.06.94zm-11 1L8.5 8.5l.94-2.06 2.06-.94-2.06-.94L8.5 2.5l-.94 2.06-2.06.94zm10 10l.94 2.06.94-2.06 2.06-.94-2.06-.94-.94-2.06-.94 2.06-2.06.94z\"/><path d=\"M17.41 7.96l-1.37-1.37c-.4-.4-.92-.59-1.43-.59-.52 0-1.04.2-1.43.59L10.3 9.45l-7.72 7.72c-.78.78-.78 2.05 0 2.83L4 21.41c.39.39.9.59 1.41.59.51 0 1.02-.2 1.41-.59l7.78-7.78 2.81-2.81c.8-.78.8-2.07 0-2.86zM5.41 20L4 18.59l7.72-7.72 1.47 1.35L5.41 20z\"/>\n",
              "  </svg>\n",
              "      </button>\n",
              "      \n",
              "  <style>\n",
              "    .colab-df-container {\n",
              "      display:flex;\n",
              "      flex-wrap:wrap;\n",
              "      gap: 12px;\n",
              "    }\n",
              "\n",
              "    .colab-df-convert {\n",
              "      background-color: #E8F0FE;\n",
              "      border: none;\n",
              "      border-radius: 50%;\n",
              "      cursor: pointer;\n",
              "      display: none;\n",
              "      fill: #1967D2;\n",
              "      height: 32px;\n",
              "      padding: 0 0 0 0;\n",
              "      width: 32px;\n",
              "    }\n",
              "\n",
              "    .colab-df-convert:hover {\n",
              "      background-color: #E2EBFA;\n",
              "      box-shadow: 0px 1px 2px rgba(60, 64, 67, 0.3), 0px 1px 3px 1px rgba(60, 64, 67, 0.15);\n",
              "      fill: #174EA6;\n",
              "    }\n",
              "\n",
              "    [theme=dark] .colab-df-convert {\n",
              "      background-color: #3B4455;\n",
              "      fill: #D2E3FC;\n",
              "    }\n",
              "\n",
              "    [theme=dark] .colab-df-convert:hover {\n",
              "      background-color: #434B5C;\n",
              "      box-shadow: 0px 1px 3px 1px rgba(0, 0, 0, 0.15);\n",
              "      filter: drop-shadow(0px 1px 2px rgba(0, 0, 0, 0.3));\n",
              "      fill: #FFFFFF;\n",
              "    }\n",
              "  </style>\n",
              "\n",
              "      <script>\n",
              "        const buttonEl =\n",
              "          document.querySelector('#df-bca3eb50-a606-4bbf-bd53-ed862273512f button.colab-df-convert');\n",
              "        buttonEl.style.display =\n",
              "          google.colab.kernel.accessAllowed ? 'block' : 'none';\n",
              "\n",
              "        async function convertToInteractive(key) {\n",
              "          const element = document.querySelector('#df-bca3eb50-a606-4bbf-bd53-ed862273512f');\n",
              "          const dataTable =\n",
              "            await google.colab.kernel.invokeFunction('convertToInteractive',\n",
              "                                                     [key], {});\n",
              "          if (!dataTable) return;\n",
              "\n",
              "          const docLinkHtml = 'Like what you see? Visit the ' +\n",
              "            '<a target=\"_blank\" href=https://colab.research.google.com/notebooks/data_table.ipynb>data table notebook</a>'\n",
              "            + ' to learn more about interactive tables.';\n",
              "          element.innerHTML = '';\n",
              "          dataTable['output_type'] = 'display_data';\n",
              "          await google.colab.output.renderOutput(dataTable, element);\n",
              "          const docLink = document.createElement('div');\n",
              "          docLink.innerHTML = docLinkHtml;\n",
              "          element.appendChild(docLink);\n",
              "        }\n",
              "      </script>\n",
              "    </div>\n",
              "  </div>\n",
              "  "
            ]
          },
          "metadata": {}
        }
      ]
    },
    {
      "cell_type": "code",
      "metadata": {
        "colab": {
          "base_uri": "https://localhost:8080/",
          "height": 252
        },
        "id": "t4wKsq5PUVJy",
        "outputId": "34f49aac-274a-4fe2-827e-920d9a891196"
      },
      "source": [
        "abs_influence_col = 'influence measured by std dev'\n",
        "\n",
        "all_influence_df = pd.DataFrame(\n",
        "    index= all_influence.keys(), # features\n",
        "    data= all_influence.values(), # std dev of the predicted cost\n",
        "    columns= [abs_influence_col]);\n",
        "\n",
        "all_influence_df[abs_influence_col] = all_influence_df[abs_influence_col].astype(int)\n",
        "\n",
        "min_influence_score = all_influence_df[abs_influence_col].min()\n",
        "all_influence_df['relative influence'] = [\n",
        "    f'x {val / min_influence_score:.2f}'\n",
        "    for val in all_influence_df[abs_influence_col]\n",
        "]\n",
        "\n",
        "display(all_influence_df.sort_values(by= abs_influence_col, ascending= False))"
      ],
      "execution_count": 43,
      "outputs": [
        {
          "output_type": "display_data",
          "data": {
            "text/plain": [
              "          influence measured by std dev relative influence\n",
              "smoker                             9393            x 47.44\n",
              "age                                4767            x 24.08\n",
              "children                            660             x 3.33\n",
              "bmi                                 441             x 2.23\n",
              "sex                                 237             x 1.20\n",
              "region                              198             x 1.00"
            ],
            "text/html": [
              "\n",
              "  <div id=\"df-c19c9b04-c414-44ff-8495-2b0ecc9855ab\">\n",
              "    <div class=\"colab-df-container\">\n",
              "      <div>\n",
              "<style scoped>\n",
              "    .dataframe tbody tr th:only-of-type {\n",
              "        vertical-align: middle;\n",
              "    }\n",
              "\n",
              "    .dataframe tbody tr th {\n",
              "        vertical-align: top;\n",
              "    }\n",
              "\n",
              "    .dataframe thead th {\n",
              "        text-align: right;\n",
              "    }\n",
              "</style>\n",
              "<table border=\"1\" class=\"dataframe\">\n",
              "  <thead>\n",
              "    <tr style=\"text-align: right;\">\n",
              "      <th></th>\n",
              "      <th>influence measured by std dev</th>\n",
              "      <th>relative influence</th>\n",
              "    </tr>\n",
              "  </thead>\n",
              "  <tbody>\n",
              "    <tr>\n",
              "      <th>smoker</th>\n",
              "      <td>9393</td>\n",
              "      <td>x 47.44</td>\n",
              "    </tr>\n",
              "    <tr>\n",
              "      <th>age</th>\n",
              "      <td>4767</td>\n",
              "      <td>x 24.08</td>\n",
              "    </tr>\n",
              "    <tr>\n",
              "      <th>children</th>\n",
              "      <td>660</td>\n",
              "      <td>x 3.33</td>\n",
              "    </tr>\n",
              "    <tr>\n",
              "      <th>bmi</th>\n",
              "      <td>441</td>\n",
              "      <td>x 2.23</td>\n",
              "    </tr>\n",
              "    <tr>\n",
              "      <th>sex</th>\n",
              "      <td>237</td>\n",
              "      <td>x 1.20</td>\n",
              "    </tr>\n",
              "    <tr>\n",
              "      <th>region</th>\n",
              "      <td>198</td>\n",
              "      <td>x 1.00</td>\n",
              "    </tr>\n",
              "  </tbody>\n",
              "</table>\n",
              "</div>\n",
              "      <button class=\"colab-df-convert\" onclick=\"convertToInteractive('df-c19c9b04-c414-44ff-8495-2b0ecc9855ab')\"\n",
              "              title=\"Convert this dataframe to an interactive table.\"\n",
              "              style=\"display:none;\">\n",
              "        \n",
              "  <svg xmlns=\"http://www.w3.org/2000/svg\" height=\"24px\"viewBox=\"0 0 24 24\"\n",
              "       width=\"24px\">\n",
              "    <path d=\"M0 0h24v24H0V0z\" fill=\"none\"/>\n",
              "    <path d=\"M18.56 5.44l.94 2.06.94-2.06 2.06-.94-2.06-.94-.94-2.06-.94 2.06-2.06.94zm-11 1L8.5 8.5l.94-2.06 2.06-.94-2.06-.94L8.5 2.5l-.94 2.06-2.06.94zm10 10l.94 2.06.94-2.06 2.06-.94-2.06-.94-.94-2.06-.94 2.06-2.06.94z\"/><path d=\"M17.41 7.96l-1.37-1.37c-.4-.4-.92-.59-1.43-.59-.52 0-1.04.2-1.43.59L10.3 9.45l-7.72 7.72c-.78.78-.78 2.05 0 2.83L4 21.41c.39.39.9.59 1.41.59.51 0 1.02-.2 1.41-.59l7.78-7.78 2.81-2.81c.8-.78.8-2.07 0-2.86zM5.41 20L4 18.59l7.72-7.72 1.47 1.35L5.41 20z\"/>\n",
              "  </svg>\n",
              "      </button>\n",
              "      \n",
              "  <style>\n",
              "    .colab-df-container {\n",
              "      display:flex;\n",
              "      flex-wrap:wrap;\n",
              "      gap: 12px;\n",
              "    }\n",
              "\n",
              "    .colab-df-convert {\n",
              "      background-color: #E8F0FE;\n",
              "      border: none;\n",
              "      border-radius: 50%;\n",
              "      cursor: pointer;\n",
              "      display: none;\n",
              "      fill: #1967D2;\n",
              "      height: 32px;\n",
              "      padding: 0 0 0 0;\n",
              "      width: 32px;\n",
              "    }\n",
              "\n",
              "    .colab-df-convert:hover {\n",
              "      background-color: #E2EBFA;\n",
              "      box-shadow: 0px 1px 2px rgba(60, 64, 67, 0.3), 0px 1px 3px 1px rgba(60, 64, 67, 0.15);\n",
              "      fill: #174EA6;\n",
              "    }\n",
              "\n",
              "    [theme=dark] .colab-df-convert {\n",
              "      background-color: #3B4455;\n",
              "      fill: #D2E3FC;\n",
              "    }\n",
              "\n",
              "    [theme=dark] .colab-df-convert:hover {\n",
              "      background-color: #434B5C;\n",
              "      box-shadow: 0px 1px 3px 1px rgba(0, 0, 0, 0.15);\n",
              "      filter: drop-shadow(0px 1px 2px rgba(0, 0, 0, 0.3));\n",
              "      fill: #FFFFFF;\n",
              "    }\n",
              "  </style>\n",
              "\n",
              "      <script>\n",
              "        const buttonEl =\n",
              "          document.querySelector('#df-c19c9b04-c414-44ff-8495-2b0ecc9855ab button.colab-df-convert');\n",
              "        buttonEl.style.display =\n",
              "          google.colab.kernel.accessAllowed ? 'block' : 'none';\n",
              "\n",
              "        async function convertToInteractive(key) {\n",
              "          const element = document.querySelector('#df-c19c9b04-c414-44ff-8495-2b0ecc9855ab');\n",
              "          const dataTable =\n",
              "            await google.colab.kernel.invokeFunction('convertToInteractive',\n",
              "                                                     [key], {});\n",
              "          if (!dataTable) return;\n",
              "\n",
              "          const docLinkHtml = 'Like what you see? Visit the ' +\n",
              "            '<a target=\"_blank\" href=https://colab.research.google.com/notebooks/data_table.ipynb>data table notebook</a>'\n",
              "            + ' to learn more about interactive tables.';\n",
              "          element.innerHTML = '';\n",
              "          dataTable['output_type'] = 'display_data';\n",
              "          await google.colab.output.renderOutput(dataTable, element);\n",
              "          const docLink = document.createElement('div');\n",
              "          docLink.innerHTML = docLinkHtml;\n",
              "          element.appendChild(docLink);\n",
              "        }\n",
              "      </script>\n",
              "    </div>\n",
              "  </div>\n",
              "  "
            ]
          },
          "metadata": {}
        }
      ]
    },
    {
      "cell_type": "markdown",
      "source": [
        "# Conclusão"
      ],
      "metadata": {
        "id": "z_iiic6vdtPB"
      }
    },
    {
      "cell_type": "markdown",
      "metadata": {
        "id": "EOiwzZiyYyXa"
      },
      "source": [
        "Concluindo dessa análise, os fatores mais relevantes para determinação do custo são\n",
        "- se fumante\n",
        "- idade do avaliado.\n",
        "\n",
        "Essa é apenas uma métrica e seria adequado analisar outras para fazer uma composição de resultados, porém ela já evidencia a grande influência do tabagismo nos custos do o plano de saúde e também uma forte influência da idade, que, como imaginado, é um relação direta: quanto mais velho, maior o gasto."
      ]
    }
  ]
}