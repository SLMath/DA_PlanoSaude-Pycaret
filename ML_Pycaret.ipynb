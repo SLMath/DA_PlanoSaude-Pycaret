{
  "nbformat": 4,
  "nbformat_minor": 0,
  "metadata": {
    "colab": {
      "provenance": [],
      "mount_file_id": "1SmUjMcCCFgcNQ6jMhFL2ig1CD-hQXCQ3",
      "authorship_tag": "ABX9TyPRDhBA5GXB91Mwl3ouDxTY",
      "include_colab_link": true
    },
    "kernelspec": {
      "name": "python3",
      "display_name": "Python 3"
    },
    "language_info": {
      "name": "python"
    },
    "widgets": {
      "application/vnd.jupyter.widget-state+json": {
        "4df298e5e89942ec8372fc972e966b38": {
          "model_module": "@jupyter-widgets/controls",
          "model_name": "TextModel",
          "state": {
            "_view_name": "TextView",
            "style": "IPY_MODEL_f87fd86a8c6a4be6a68d38bc8876d309",
            "_dom_classes": [],
            "description": "",
            "_model_name": "TextModel",
            "placeholder": "​",
            "_view_module": "@jupyter-widgets/controls",
            "_model_module_version": "1.5.0",
            "value": "Following data types have been inferred automatically, if they are correct press enter to continue or type 'quit' otherwise.",
            "_view_count": null,
            "disabled": false,
            "_view_module_version": "1.5.0",
            "continuous_update": true,
            "description_tooltip": null,
            "_model_module": "@jupyter-widgets/controls",
            "layout": "IPY_MODEL_b7135963f70641999da335081762fc99"
          },
          "model_module_version": "1.5.0"
        },
        "f87fd86a8c6a4be6a68d38bc8876d309": {
          "model_module": "@jupyter-widgets/controls",
          "model_name": "DescriptionStyleModel",
          "state": {
            "_view_name": "StyleView",
            "_model_name": "DescriptionStyleModel",
            "description_width": "",
            "_view_module": "@jupyter-widgets/base",
            "_model_module_version": "1.5.0",
            "_view_count": null,
            "_view_module_version": "1.2.0",
            "_model_module": "@jupyter-widgets/controls"
          },
          "model_module_version": "1.5.0"
        },
        "b7135963f70641999da335081762fc99": {
          "model_module": "@jupyter-widgets/base",
          "model_name": "LayoutModel",
          "state": {
            "_view_name": "LayoutView",
            "grid_template_rows": null,
            "right": null,
            "justify_content": null,
            "_view_module": "@jupyter-widgets/base",
            "overflow": null,
            "_model_module_version": "1.2.0",
            "_view_count": null,
            "flex_flow": null,
            "width": "100%",
            "min_width": null,
            "border": null,
            "align_items": null,
            "bottom": null,
            "_model_module": "@jupyter-widgets/base",
            "top": null,
            "grid_column": null,
            "overflow_y": null,
            "overflow_x": null,
            "grid_auto_flow": null,
            "grid_area": null,
            "grid_template_columns": null,
            "flex": null,
            "_model_name": "LayoutModel",
            "justify_items": null,
            "grid_row": null,
            "max_height": null,
            "align_content": null,
            "visibility": null,
            "align_self": null,
            "height": null,
            "min_height": null,
            "padding": null,
            "grid_auto_rows": null,
            "grid_gap": null,
            "max_width": null,
            "order": null,
            "_view_module_version": "1.2.0",
            "grid_template_areas": null,
            "object_position": null,
            "object_fit": null,
            "grid_auto_columns": null,
            "margin": null,
            "display": null,
            "left": null
          },
          "model_module_version": "1.2.0"
        },
        "4b2aaa8ea1bd4c069129692882e7f6c8": {
          "model_module": "@jupyter-widgets/controls",
          "model_name": "IntProgressModel",
          "state": {
            "_view_name": "ProgressView",
            "style": "IPY_MODEL_a72152b67027458fa6d8dab85b97cc67",
            "_dom_classes": [],
            "description": "Processing: ",
            "_model_name": "IntProgressModel",
            "bar_style": "",
            "max": 4,
            "_view_module": "@jupyter-widgets/controls",
            "_model_module_version": "1.5.0",
            "value": 4,
            "_view_count": null,
            "_view_module_version": "1.5.0",
            "orientation": "horizontal",
            "min": 0,
            "description_tooltip": null,
            "_model_module": "@jupyter-widgets/controls",
            "layout": "IPY_MODEL_a13cbf81e1d647388f3e91f6aa47cb82"
          },
          "model_module_version": "1.5.0"
        },
        "a72152b67027458fa6d8dab85b97cc67": {
          "model_module": "@jupyter-widgets/controls",
          "model_name": "ProgressStyleModel",
          "state": {
            "_view_name": "StyleView",
            "_model_name": "ProgressStyleModel",
            "description_width": "",
            "_view_module": "@jupyter-widgets/base",
            "_model_module_version": "1.5.0",
            "_view_count": null,
            "_view_module_version": "1.2.0",
            "bar_color": null,
            "_model_module": "@jupyter-widgets/controls"
          },
          "model_module_version": "1.5.0"
        },
        "a13cbf81e1d647388f3e91f6aa47cb82": {
          "model_module": "@jupyter-widgets/base",
          "model_name": "LayoutModel",
          "state": {
            "_view_name": "LayoutView",
            "grid_template_rows": null,
            "right": null,
            "justify_content": null,
            "_view_module": "@jupyter-widgets/base",
            "overflow": null,
            "_model_module_version": "1.2.0",
            "_view_count": null,
            "flex_flow": null,
            "width": null,
            "min_width": null,
            "border": null,
            "align_items": null,
            "bottom": null,
            "_model_module": "@jupyter-widgets/base",
            "top": null,
            "grid_column": null,
            "overflow_y": null,
            "overflow_x": null,
            "grid_auto_flow": null,
            "grid_area": null,
            "grid_template_columns": null,
            "flex": null,
            "_model_name": "LayoutModel",
            "justify_items": null,
            "grid_row": null,
            "max_height": null,
            "align_content": null,
            "visibility": null,
            "align_self": null,
            "height": null,
            "min_height": null,
            "padding": null,
            "grid_auto_rows": null,
            "grid_gap": null,
            "max_width": null,
            "order": null,
            "_view_module_version": "1.2.0",
            "grid_template_areas": null,
            "object_position": null,
            "object_fit": null,
            "grid_auto_columns": null,
            "margin": null,
            "display": null,
            "left": null
          },
          "model_module_version": "1.2.0"
        },
        "c97c76e62c2640afbeb368c08698360d": {
          "model_module": "@jupyter-widgets/controls",
          "model_name": "IntProgressModel",
          "state": {
            "_view_name": "ProgressView",
            "style": "IPY_MODEL_9b20765125854128998728fbbfe7e859",
            "_dom_classes": [],
            "description": "Processing: ",
            "_model_name": "IntProgressModel",
            "bar_style": "",
            "max": 7,
            "_view_module": "@jupyter-widgets/controls",
            "_model_module_version": "1.5.0",
            "value": 7,
            "_view_count": null,
            "_view_module_version": "1.5.0",
            "orientation": "horizontal",
            "min": 0,
            "description_tooltip": null,
            "_model_module": "@jupyter-widgets/controls",
            "layout": "IPY_MODEL_e3759a27f25646dd9176cf6595d7bfd4"
          },
          "model_module_version": "1.5.0"
        },
        "9b20765125854128998728fbbfe7e859": {
          "model_module": "@jupyter-widgets/controls",
          "model_name": "ProgressStyleModel",
          "state": {
            "_view_name": "StyleView",
            "_model_name": "ProgressStyleModel",
            "description_width": "",
            "_view_module": "@jupyter-widgets/base",
            "_model_module_version": "1.5.0",
            "_view_count": null,
            "_view_module_version": "1.2.0",
            "bar_color": null,
            "_model_module": "@jupyter-widgets/controls"
          },
          "model_module_version": "1.5.0"
        },
        "e3759a27f25646dd9176cf6595d7bfd4": {
          "model_module": "@jupyter-widgets/base",
          "model_name": "LayoutModel",
          "state": {
            "_view_name": "LayoutView",
            "grid_template_rows": null,
            "right": null,
            "justify_content": null,
            "_view_module": "@jupyter-widgets/base",
            "overflow": null,
            "_model_module_version": "1.2.0",
            "_view_count": null,
            "flex_flow": null,
            "width": null,
            "min_width": null,
            "border": null,
            "align_items": null,
            "bottom": null,
            "_model_module": "@jupyter-widgets/base",
            "top": null,
            "grid_column": null,
            "overflow_y": null,
            "overflow_x": null,
            "grid_auto_flow": null,
            "grid_area": null,
            "grid_template_columns": null,
            "flex": null,
            "_model_name": "LayoutModel",
            "justify_items": null,
            "grid_row": null,
            "max_height": null,
            "align_content": null,
            "visibility": null,
            "align_self": null,
            "height": null,
            "min_height": null,
            "padding": null,
            "grid_auto_rows": null,
            "grid_gap": null,
            "max_width": null,
            "order": null,
            "_view_module_version": "1.2.0",
            "grid_template_areas": null,
            "object_position": null,
            "object_fit": null,
            "grid_auto_columns": null,
            "margin": null,
            "display": null,
            "left": null
          },
          "model_module_version": "1.2.0"
        },
        "f284a77d3fe74852a18c49a101bd8b89": {
          "model_module": "@jupyter-widgets/controls",
          "model_name": "IntProgressModel",
          "state": {
            "_view_name": "ProgressView",
            "style": "IPY_MODEL_7d95c0c7c5924c1ca359731e5ee58988",
            "_dom_classes": [],
            "description": "Processing: ",
            "_model_name": "IntProgressModel",
            "bar_style": "",
            "max": 7,
            "_view_module": "@jupyter-widgets/controls",
            "_model_module_version": "1.5.0",
            "value": 7,
            "_view_count": null,
            "_view_module_version": "1.5.0",
            "orientation": "horizontal",
            "min": 0,
            "description_tooltip": null,
            "_model_module": "@jupyter-widgets/controls",
            "layout": "IPY_MODEL_0b567ca1697c4e12b3acc1384535a517"
          },
          "model_module_version": "1.5.0"
        },
        "7d95c0c7c5924c1ca359731e5ee58988": {
          "model_module": "@jupyter-widgets/controls",
          "model_name": "ProgressStyleModel",
          "state": {
            "_view_name": "StyleView",
            "_model_name": "ProgressStyleModel",
            "description_width": "",
            "_view_module": "@jupyter-widgets/base",
            "_model_module_version": "1.5.0",
            "_view_count": null,
            "_view_module_version": "1.2.0",
            "bar_color": null,
            "_model_module": "@jupyter-widgets/controls"
          },
          "model_module_version": "1.5.0"
        },
        "0b567ca1697c4e12b3acc1384535a517": {
          "model_module": "@jupyter-widgets/base",
          "model_name": "LayoutModel",
          "state": {
            "_view_name": "LayoutView",
            "grid_template_rows": null,
            "right": null,
            "justify_content": null,
            "_view_module": "@jupyter-widgets/base",
            "overflow": null,
            "_model_module_version": "1.2.0",
            "_view_count": null,
            "flex_flow": null,
            "width": null,
            "min_width": null,
            "border": null,
            "align_items": null,
            "bottom": null,
            "_model_module": "@jupyter-widgets/base",
            "top": null,
            "grid_column": null,
            "overflow_y": null,
            "overflow_x": null,
            "grid_auto_flow": null,
            "grid_area": null,
            "grid_template_columns": null,
            "flex": null,
            "_model_name": "LayoutModel",
            "justify_items": null,
            "grid_row": null,
            "max_height": null,
            "align_content": null,
            "visibility": null,
            "align_self": null,
            "height": null,
            "min_height": null,
            "padding": null,
            "grid_auto_rows": null,
            "grid_gap": null,
            "max_width": null,
            "order": null,
            "_view_module_version": "1.2.0",
            "grid_template_areas": null,
            "object_position": null,
            "object_fit": null,
            "grid_auto_columns": null,
            "margin": null,
            "display": null,
            "left": null
          },
          "model_module_version": "1.2.0"
        },
        "b6523ed94be84c3ab31444676680c63a": {
          "model_module": "@jupyter-widgets/controls",
          "model_name": "IntProgressModel",
          "state": {
            "_view_name": "ProgressView",
            "style": "IPY_MODEL_27eeb6dc5b3741168b72e39f0546bc46",
            "_dom_classes": [],
            "description": "Processing: ",
            "_model_name": "IntProgressModel",
            "bar_style": "",
            "max": 5,
            "_view_module": "@jupyter-widgets/controls",
            "_model_module_version": "1.5.0",
            "value": 5,
            "_view_count": null,
            "_view_module_version": "1.5.0",
            "orientation": "horizontal",
            "min": 0,
            "description_tooltip": null,
            "_model_module": "@jupyter-widgets/controls",
            "layout": "IPY_MODEL_3ef6e766d8da4871a4bdb85fc79e54e3"
          },
          "model_module_version": "1.5.0"
        },
        "27eeb6dc5b3741168b72e39f0546bc46": {
          "model_module": "@jupyter-widgets/controls",
          "model_name": "ProgressStyleModel",
          "state": {
            "_view_name": "StyleView",
            "_model_name": "ProgressStyleModel",
            "description_width": "",
            "_view_module": "@jupyter-widgets/base",
            "_model_module_version": "1.5.0",
            "_view_count": null,
            "_view_module_version": "1.2.0",
            "bar_color": null,
            "_model_module": "@jupyter-widgets/controls"
          },
          "model_module_version": "1.5.0"
        },
        "3ef6e766d8da4871a4bdb85fc79e54e3": {
          "model_module": "@jupyter-widgets/base",
          "model_name": "LayoutModel",
          "state": {
            "_view_name": "LayoutView",
            "grid_template_rows": null,
            "right": null,
            "justify_content": null,
            "_view_module": "@jupyter-widgets/base",
            "overflow": null,
            "_model_module_version": "1.2.0",
            "_view_count": null,
            "flex_flow": null,
            "width": null,
            "min_width": null,
            "border": null,
            "align_items": null,
            "bottom": null,
            "_model_module": "@jupyter-widgets/base",
            "top": null,
            "grid_column": null,
            "overflow_y": null,
            "overflow_x": null,
            "grid_auto_flow": null,
            "grid_area": null,
            "grid_template_columns": null,
            "flex": null,
            "_model_name": "LayoutModel",
            "justify_items": null,
            "grid_row": null,
            "max_height": null,
            "align_content": null,
            "visibility": null,
            "align_self": null,
            "height": null,
            "min_height": null,
            "padding": null,
            "grid_auto_rows": null,
            "grid_gap": null,
            "max_width": null,
            "order": null,
            "_view_module_version": "1.2.0",
            "grid_template_areas": null,
            "object_position": null,
            "object_fit": null,
            "grid_auto_columns": null,
            "margin": null,
            "display": null,
            "left": null
          },
          "model_module_version": "1.2.0"
        },
        "eb37c765b8fe4b6995860384baad9f43": {
          "model_module": "@jupyter-widgets/controls",
          "model_name": "IntProgressModel",
          "state": {
            "_view_name": "ProgressView",
            "style": "IPY_MODEL_3df8733eda9d41c781aefc7e53f961c1",
            "_dom_classes": [],
            "description": "Processing: ",
            "_model_name": "IntProgressModel",
            "bar_style": "",
            "max": 89,
            "_view_module": "@jupyter-widgets/controls",
            "_model_module_version": "1.5.0",
            "value": 89,
            "_view_count": null,
            "_view_module_version": "1.5.0",
            "orientation": "horizontal",
            "min": 0,
            "description_tooltip": null,
            "_model_module": "@jupyter-widgets/controls",
            "layout": "IPY_MODEL_c14c661bcbdc4185b4fc433034c35a88"
          },
          "model_module_version": "1.5.0"
        },
        "3df8733eda9d41c781aefc7e53f961c1": {
          "model_module": "@jupyter-widgets/controls",
          "model_name": "ProgressStyleModel",
          "state": {
            "_view_name": "StyleView",
            "_model_name": "ProgressStyleModel",
            "description_width": "",
            "_view_module": "@jupyter-widgets/base",
            "_model_module_version": "1.5.0",
            "_view_count": null,
            "_view_module_version": "1.2.0",
            "bar_color": null,
            "_model_module": "@jupyter-widgets/controls"
          },
          "model_module_version": "1.5.0"
        },
        "c14c661bcbdc4185b4fc433034c35a88": {
          "model_module": "@jupyter-widgets/base",
          "model_name": "LayoutModel",
          "state": {
            "_view_name": "LayoutView",
            "grid_template_rows": null,
            "right": null,
            "justify_content": null,
            "_view_module": "@jupyter-widgets/base",
            "overflow": null,
            "_model_module_version": "1.2.0",
            "_view_count": null,
            "flex_flow": null,
            "width": null,
            "min_width": null,
            "border": null,
            "align_items": null,
            "bottom": null,
            "_model_module": "@jupyter-widgets/base",
            "top": null,
            "grid_column": null,
            "overflow_y": null,
            "overflow_x": null,
            "grid_auto_flow": null,
            "grid_area": null,
            "grid_template_columns": null,
            "flex": null,
            "_model_name": "LayoutModel",
            "justify_items": null,
            "grid_row": null,
            "max_height": null,
            "align_content": null,
            "visibility": null,
            "align_self": null,
            "height": null,
            "min_height": null,
            "padding": null,
            "grid_auto_rows": null,
            "grid_gap": null,
            "max_width": null,
            "order": null,
            "_view_module_version": "1.2.0",
            "grid_template_areas": null,
            "object_position": null,
            "object_fit": null,
            "grid_auto_columns": null,
            "margin": null,
            "display": null,
            "left": null
          },
          "model_module_version": "1.2.0"
        },
        "499248c840c14a0b83579a85ade5c32e": {
          "model_module": "@jupyter-widgets/controls",
          "model_name": "IntProgressModel",
          "state": {
            "_view_name": "ProgressView",
            "style": "IPY_MODEL_9ba262234f7f40b488ea08b8c38ddd58",
            "_dom_classes": [],
            "description": "Processing: ",
            "_model_name": "IntProgressModel",
            "bar_style": "",
            "max": 6,
            "_view_module": "@jupyter-widgets/controls",
            "_model_module_version": "1.5.0",
            "value": 6,
            "_view_count": null,
            "_view_module_version": "1.5.0",
            "orientation": "horizontal",
            "min": 0,
            "description_tooltip": null,
            "_model_module": "@jupyter-widgets/controls",
            "layout": "IPY_MODEL_570536c718d446dab59e19311abf4017"
          },
          "model_module_version": "1.5.0"
        },
        "9ba262234f7f40b488ea08b8c38ddd58": {
          "model_module": "@jupyter-widgets/controls",
          "model_name": "ProgressStyleModel",
          "state": {
            "_view_name": "StyleView",
            "_model_name": "ProgressStyleModel",
            "description_width": "",
            "_view_module": "@jupyter-widgets/base",
            "_model_module_version": "1.5.0",
            "_view_count": null,
            "_view_module_version": "1.2.0",
            "bar_color": null,
            "_model_module": "@jupyter-widgets/controls"
          },
          "model_module_version": "1.5.0"
        },
        "570536c718d446dab59e19311abf4017": {
          "model_module": "@jupyter-widgets/base",
          "model_name": "LayoutModel",
          "state": {
            "_view_name": "LayoutView",
            "grid_template_rows": null,
            "right": null,
            "justify_content": null,
            "_view_module": "@jupyter-widgets/base",
            "overflow": null,
            "_model_module_version": "1.2.0",
            "_view_count": null,
            "flex_flow": null,
            "width": null,
            "min_width": null,
            "border": null,
            "align_items": null,
            "bottom": null,
            "_model_module": "@jupyter-widgets/base",
            "top": null,
            "grid_column": null,
            "overflow_y": null,
            "overflow_x": null,
            "grid_auto_flow": null,
            "grid_area": null,
            "grid_template_columns": null,
            "flex": null,
            "_model_name": "LayoutModel",
            "justify_items": null,
            "grid_row": null,
            "max_height": null,
            "align_content": null,
            "visibility": null,
            "align_self": null,
            "height": null,
            "min_height": null,
            "padding": null,
            "grid_auto_rows": null,
            "grid_gap": null,
            "max_width": null,
            "order": null,
            "_view_module_version": "1.2.0",
            "grid_template_areas": null,
            "object_position": null,
            "object_fit": null,
            "grid_auto_columns": null,
            "margin": null,
            "display": null,
            "left": null
          },
          "model_module_version": "1.2.0"
        }
      }
    }
  },
  "cells": [
    {
      "cell_type": "markdown",
      "metadata": {
        "id": "view-in-github",
        "colab_type": "text"
      },
      "source": [
        "<a href=\"https://colab.research.google.com/github/SLMath/DAPython/blob/main/ML_Pycaret.ipynb\" target=\"_parent\"><img src=\"https://colab.research.google.com/assets/colab-badge.svg\" alt=\"Open In Colab\"/></a>"
      ]
    },
    {
      "cell_type": "markdown",
      "metadata": {
        "id": "lOotTPAx5OLq"
      },
      "source": [
        "<font color=\"#FF8080\">Aviso: o código demora cerca de 40 minutos para conclusão, e é necessário confirmar o tipo das variáveis após a chamada da função setup</font>\n",
        "\n"
      ]
    },
    {
      "cell_type": "markdown",
      "metadata": {
        "id": "L5P9cxED1i25"
      },
      "source": [
        "# OBJETIVO: predição do gasto do plano de saúde com um novo cliente\n",
        "\n",
        "### Baseado em dados colhidos de clientes anteriores, definir um modelo preditivo para o gasto do plano de saúde.\n",
        "\n",
        "Vou explorar a biblioteca `pycaret` para treinar e comparar diferentes modelos.\n",
        "Esta lib disponibiliza datasets para analise assim como muitas ferramentas de Machine Learning."
      ]
    },
    {
      "cell_type": "code",
      "metadata": {
        "id": "fHHDxY2eS-Po"
      },
      "source": [
        "!pip install pycaret"
      ],
      "execution_count": null,
      "outputs": []
    },
    {
      "cell_type": "markdown",
      "metadata": {
        "id": "zLrNdDW6z051"
      },
      "source": [
        "# Preparar Dados"
      ]
    },
    {
      "cell_type": "markdown",
      "metadata": {
        "id": "EOgHZFIf1I-j"
      },
      "source": [
        "Carregando dados sobre os gastos de um seguro com uma pessoa descrita por:\n",
        "- idade,\n",
        "- sexo,\n",
        "- indice de massa corporal,\n",
        "- se é fumante,\n",
        "- localização"
      ]
    },
    {
      "cell_type": "code",
      "metadata": {
        "id": "QvTi-FSEREWy",
        "colab": {
          "base_uri": "https://localhost:8080/",
          "height": 402
        },
        "outputId": "ac03c76e-cfdf-4e4f-80c6-851fdff84c4c"
      },
      "source": [
        "from pycaret.datasets import get_data\n",
        "\n",
        "insuranceData = get_data('insurance', verbose=False);\n",
        "insuranceData"
      ],
      "execution_count": null,
      "outputs": [
        {
          "output_type": "execute_result",
          "data": {
            "text/html": [
              "<div>\n",
              "<style scoped>\n",
              "    .dataframe tbody tr th:only-of-type {\n",
              "        vertical-align: middle;\n",
              "    }\n",
              "\n",
              "    .dataframe tbody tr th {\n",
              "        vertical-align: top;\n",
              "    }\n",
              "\n",
              "    .dataframe thead th {\n",
              "        text-align: right;\n",
              "    }\n",
              "</style>\n",
              "<table border=\"1\" class=\"dataframe\">\n",
              "  <thead>\n",
              "    <tr style=\"text-align: right;\">\n",
              "      <th></th>\n",
              "      <th>age</th>\n",
              "      <th>sex</th>\n",
              "      <th>bmi</th>\n",
              "      <th>children</th>\n",
              "      <th>smoker</th>\n",
              "      <th>region</th>\n",
              "      <th>charges</th>\n",
              "    </tr>\n",
              "  </thead>\n",
              "  <tbody>\n",
              "    <tr>\n",
              "      <th>0</th>\n",
              "      <td>19</td>\n",
              "      <td>female</td>\n",
              "      <td>27.900</td>\n",
              "      <td>0</td>\n",
              "      <td>yes</td>\n",
              "      <td>southwest</td>\n",
              "      <td>16884.92400</td>\n",
              "    </tr>\n",
              "    <tr>\n",
              "      <th>1</th>\n",
              "      <td>18</td>\n",
              "      <td>male</td>\n",
              "      <td>33.770</td>\n",
              "      <td>1</td>\n",
              "      <td>no</td>\n",
              "      <td>southeast</td>\n",
              "      <td>1725.55230</td>\n",
              "    </tr>\n",
              "    <tr>\n",
              "      <th>2</th>\n",
              "      <td>28</td>\n",
              "      <td>male</td>\n",
              "      <td>33.000</td>\n",
              "      <td>3</td>\n",
              "      <td>no</td>\n",
              "      <td>southeast</td>\n",
              "      <td>4449.46200</td>\n",
              "    </tr>\n",
              "    <tr>\n",
              "      <th>3</th>\n",
              "      <td>33</td>\n",
              "      <td>male</td>\n",
              "      <td>22.705</td>\n",
              "      <td>0</td>\n",
              "      <td>no</td>\n",
              "      <td>northwest</td>\n",
              "      <td>21984.47061</td>\n",
              "    </tr>\n",
              "    <tr>\n",
              "      <th>4</th>\n",
              "      <td>32</td>\n",
              "      <td>male</td>\n",
              "      <td>28.880</td>\n",
              "      <td>0</td>\n",
              "      <td>no</td>\n",
              "      <td>northwest</td>\n",
              "      <td>3866.85520</td>\n",
              "    </tr>\n",
              "    <tr>\n",
              "      <th>...</th>\n",
              "      <td>...</td>\n",
              "      <td>...</td>\n",
              "      <td>...</td>\n",
              "      <td>...</td>\n",
              "      <td>...</td>\n",
              "      <td>...</td>\n",
              "      <td>...</td>\n",
              "    </tr>\n",
              "    <tr>\n",
              "      <th>1333</th>\n",
              "      <td>50</td>\n",
              "      <td>male</td>\n",
              "      <td>30.970</td>\n",
              "      <td>3</td>\n",
              "      <td>no</td>\n",
              "      <td>northwest</td>\n",
              "      <td>10600.54830</td>\n",
              "    </tr>\n",
              "    <tr>\n",
              "      <th>1334</th>\n",
              "      <td>18</td>\n",
              "      <td>female</td>\n",
              "      <td>31.920</td>\n",
              "      <td>0</td>\n",
              "      <td>no</td>\n",
              "      <td>northeast</td>\n",
              "      <td>2205.98080</td>\n",
              "    </tr>\n",
              "    <tr>\n",
              "      <th>1335</th>\n",
              "      <td>18</td>\n",
              "      <td>female</td>\n",
              "      <td>36.850</td>\n",
              "      <td>0</td>\n",
              "      <td>no</td>\n",
              "      <td>southeast</td>\n",
              "      <td>1629.83350</td>\n",
              "    </tr>\n",
              "    <tr>\n",
              "      <th>1336</th>\n",
              "      <td>21</td>\n",
              "      <td>female</td>\n",
              "      <td>25.800</td>\n",
              "      <td>0</td>\n",
              "      <td>no</td>\n",
              "      <td>southwest</td>\n",
              "      <td>2007.94500</td>\n",
              "    </tr>\n",
              "    <tr>\n",
              "      <th>1337</th>\n",
              "      <td>61</td>\n",
              "      <td>female</td>\n",
              "      <td>29.070</td>\n",
              "      <td>0</td>\n",
              "      <td>yes</td>\n",
              "      <td>northwest</td>\n",
              "      <td>29141.36030</td>\n",
              "    </tr>\n",
              "  </tbody>\n",
              "</table>\n",
              "<p>1338 rows × 7 columns</p>\n",
              "</div>"
            ],
            "text/plain": [
              "      age     sex     bmi  children smoker     region      charges\n",
              "0      19  female  27.900         0    yes  southwest  16884.92400\n",
              "1      18    male  33.770         1     no  southeast   1725.55230\n",
              "2      28    male  33.000         3     no  southeast   4449.46200\n",
              "3      33    male  22.705         0     no  northwest  21984.47061\n",
              "4      32    male  28.880         0     no  northwest   3866.85520\n",
              "...   ...     ...     ...       ...    ...        ...          ...\n",
              "1333   50    male  30.970         3     no  northwest  10600.54830\n",
              "1334   18  female  31.920         0     no  northeast   2205.98080\n",
              "1335   18  female  36.850         0     no  southeast   1629.83350\n",
              "1336   21  female  25.800         0     no  southwest   2007.94500\n",
              "1337   61  female  29.070         0    yes  northwest  29141.36030\n",
              "\n",
              "[1338 rows x 7 columns]"
            ]
          },
          "metadata": {
            "tags": []
          },
          "execution_count": 11
        }
      ]
    },
    {
      "cell_type": "markdown",
      "metadata": {
        "id": "9bk4ELL52wJ9"
      },
      "source": [
        "Configurando a lib para tratar os dados conforme desejado"
      ]
    },
    {
      "cell_type": "code",
      "metadata": {
        "id": "xIYlA4NAU7W0",
        "colab": {
          "base_uri": "https://localhost:8080/",
          "height": 323,
          "referenced_widgets": [
            "4df298e5e89942ec8372fc972e966b38",
            "f87fd86a8c6a4be6a68d38bc8876d309",
            "b7135963f70641999da335081762fc99"
          ]
        },
        "outputId": "f5a5c37e-b7ef-40ee-db95-3079172fe737"
      },
      "source": [
        "from pycaret.regression import *\n",
        "\n",
        "# ?setup # to get info about all possible parameters\n",
        "dataSetup = setup(\n",
        "    data = insuranceData,       # all data set: training and testinng\n",
        "    target = 'charges',         # label: which field is the outcome\n",
        "    normalize = True,           # applying statistics to reduce the numerical features range\n",
        "    combine_rare_levels = True, # gather class-values on categoric features that appear too few times into a single category\n",
        "    remove_outliers = True,     # ignore sample which is statistically too far from the others\n",
        "    verbose=False\n",
        ");"
      ],
      "execution_count": null,
      "outputs": [
        {
          "output_type": "display_data",
          "data": {
            "application/vnd.jupyter.widget-view+json": {
              "model_id": "4df298e5e89942ec8372fc972e966b38",
              "version_minor": 0,
              "version_major": 2
            },
            "text/plain": [
              "Text(value=\"Following data types have been inferred automatically, if they are correct press enter to continue…"
            ]
          },
          "metadata": {
            "tags": []
          }
        },
        {
          "output_type": "display_data",
          "data": {
            "text/html": [
              "<div>\n",
              "<style scoped>\n",
              "    .dataframe tbody tr th:only-of-type {\n",
              "        vertical-align: middle;\n",
              "    }\n",
              "\n",
              "    .dataframe tbody tr th {\n",
              "        vertical-align: top;\n",
              "    }\n",
              "\n",
              "    .dataframe thead th {\n",
              "        text-align: right;\n",
              "    }\n",
              "</style>\n",
              "<table border=\"1\" class=\"dataframe\">\n",
              "  <thead>\n",
              "    <tr style=\"text-align: right;\">\n",
              "      <th></th>\n",
              "      <th>Data Type</th>\n",
              "    </tr>\n",
              "  </thead>\n",
              "  <tbody>\n",
              "    <tr>\n",
              "      <th>age</th>\n",
              "      <td>Numeric</td>\n",
              "    </tr>\n",
              "    <tr>\n",
              "      <th>sex</th>\n",
              "      <td>Categorical</td>\n",
              "    </tr>\n",
              "    <tr>\n",
              "      <th>bmi</th>\n",
              "      <td>Numeric</td>\n",
              "    </tr>\n",
              "    <tr>\n",
              "      <th>children</th>\n",
              "      <td>Categorical</td>\n",
              "    </tr>\n",
              "    <tr>\n",
              "      <th>smoker</th>\n",
              "      <td>Categorical</td>\n",
              "    </tr>\n",
              "    <tr>\n",
              "      <th>region</th>\n",
              "      <td>Categorical</td>\n",
              "    </tr>\n",
              "    <tr>\n",
              "      <th>charges</th>\n",
              "      <td>Label</td>\n",
              "    </tr>\n",
              "  </tbody>\n",
              "</table>\n",
              "</div>"
            ],
            "text/plain": [
              "            Data Type\n",
              "age           Numeric\n",
              "sex       Categorical\n",
              "bmi           Numeric\n",
              "children  Categorical\n",
              "smoker    Categorical\n",
              "region    Categorical\n",
              "charges         Label"
            ]
          },
          "metadata": {
            "tags": []
          }
        },
        {
          "output_type": "stream",
          "text": [
            "\n"
          ],
          "name": "stdout"
        }
      ]
    },
    {
      "cell_type": "markdown",
      "metadata": {
        "id": "L2B798T-0qof"
      },
      "source": [
        "# Treinar um Modelo aleatório"
      ]
    },
    {
      "cell_type": "markdown",
      "metadata": {
        "id": "jhgZZBo60y-n"
      },
      "source": [
        "Exibe os índices de performance para os 10 folders (default do setup) que são conjunto de dados para treinamento usados para diminuir a variância do treinamento."
      ]
    },
    {
      "cell_type": "code",
      "metadata": {
        "colab": {
          "base_uri": "https://localhost:8080/",
          "height": 419,
          "referenced_widgets": [
            "4b2aaa8ea1bd4c069129692882e7f6c8",
            "a72152b67027458fa6d8dab85b97cc67",
            "a13cbf81e1d647388f3e91f6aa47cb82"
          ]
        },
        "id": "C-T2ivWdX1Cr",
        "outputId": "3e1f020c-8485-45c0-fbbe-85b5ed55e39a"
      },
      "source": [
        "# model() # display all possible models\n",
        "rfModel = create_model('rf');\n",
        "print();"
      ],
      "execution_count": null,
      "outputs": [
        {
          "output_type": "display_data",
          "data": {
            "text/html": [
              "<div>\n",
              "<style scoped>\n",
              "    .dataframe tbody tr th:only-of-type {\n",
              "        vertical-align: middle;\n",
              "    }\n",
              "\n",
              "    .dataframe tbody tr th {\n",
              "        vertical-align: top;\n",
              "    }\n",
              "\n",
              "    .dataframe thead th {\n",
              "        text-align: right;\n",
              "    }\n",
              "</style>\n",
              "<table border=\"1\" class=\"dataframe\">\n",
              "  <thead>\n",
              "    <tr style=\"text-align: right;\">\n",
              "      <th></th>\n",
              "      <th>MAE</th>\n",
              "      <th>MSE</th>\n",
              "      <th>RMSE</th>\n",
              "      <th>R2</th>\n",
              "      <th>RMSLE</th>\n",
              "      <th>MAPE</th>\n",
              "    </tr>\n",
              "  </thead>\n",
              "  <tbody>\n",
              "    <tr>\n",
              "      <th>0</th>\n",
              "      <td>2802.4022</td>\n",
              "      <td>2.756680e+07</td>\n",
              "      <td>5250.4094</td>\n",
              "      <td>0.7091</td>\n",
              "      <td>0.4838</td>\n",
              "      <td>0.3939</td>\n",
              "    </tr>\n",
              "    <tr>\n",
              "      <th>1</th>\n",
              "      <td>3535.7484</td>\n",
              "      <td>3.900551e+07</td>\n",
              "      <td>6245.4394</td>\n",
              "      <td>0.7693</td>\n",
              "      <td>0.5478</td>\n",
              "      <td>0.3849</td>\n",
              "    </tr>\n",
              "    <tr>\n",
              "      <th>2</th>\n",
              "      <td>2117.4975</td>\n",
              "      <td>1.893857e+07</td>\n",
              "      <td>4351.8469</td>\n",
              "      <td>0.8461</td>\n",
              "      <td>0.4868</td>\n",
              "      <td>0.2621</td>\n",
              "    </tr>\n",
              "    <tr>\n",
              "      <th>3</th>\n",
              "      <td>3182.8039</td>\n",
              "      <td>3.371945e+07</td>\n",
              "      <td>5806.8454</td>\n",
              "      <td>0.7514</td>\n",
              "      <td>0.4893</td>\n",
              "      <td>0.3177</td>\n",
              "    </tr>\n",
              "    <tr>\n",
              "      <th>4</th>\n",
              "      <td>2697.8067</td>\n",
              "      <td>2.189681e+07</td>\n",
              "      <td>4679.4025</td>\n",
              "      <td>0.8432</td>\n",
              "      <td>0.4847</td>\n",
              "      <td>0.3239</td>\n",
              "    </tr>\n",
              "    <tr>\n",
              "      <th>5</th>\n",
              "      <td>2106.0348</td>\n",
              "      <td>1.341011e+07</td>\n",
              "      <td>3661.9810</td>\n",
              "      <td>0.8825</td>\n",
              "      <td>0.4365</td>\n",
              "      <td>0.3535</td>\n",
              "    </tr>\n",
              "    <tr>\n",
              "      <th>6</th>\n",
              "      <td>3301.7657</td>\n",
              "      <td>2.986339e+07</td>\n",
              "      <td>5464.7402</td>\n",
              "      <td>0.7340</td>\n",
              "      <td>0.5404</td>\n",
              "      <td>0.3607</td>\n",
              "    </tr>\n",
              "    <tr>\n",
              "      <th>7</th>\n",
              "      <td>3213.2447</td>\n",
              "      <td>3.134105e+07</td>\n",
              "      <td>5598.3078</td>\n",
              "      <td>0.7585</td>\n",
              "      <td>0.5554</td>\n",
              "      <td>0.4545</td>\n",
              "    </tr>\n",
              "    <tr>\n",
              "      <th>8</th>\n",
              "      <td>2256.2142</td>\n",
              "      <td>1.817334e+07</td>\n",
              "      <td>4263.0200</td>\n",
              "      <td>0.8472</td>\n",
              "      <td>0.4518</td>\n",
              "      <td>0.3490</td>\n",
              "    </tr>\n",
              "    <tr>\n",
              "      <th>9</th>\n",
              "      <td>2486.6888</td>\n",
              "      <td>2.037152e+07</td>\n",
              "      <td>4513.4819</td>\n",
              "      <td>0.8700</td>\n",
              "      <td>0.4497</td>\n",
              "      <td>0.2722</td>\n",
              "    </tr>\n",
              "    <tr>\n",
              "      <th>Mean</th>\n",
              "      <td>2770.0207</td>\n",
              "      <td>2.542865e+07</td>\n",
              "      <td>4983.5475</td>\n",
              "      <td>0.8011</td>\n",
              "      <td>0.4926</td>\n",
              "      <td>0.3472</td>\n",
              "    </tr>\n",
              "    <tr>\n",
              "      <th>SD</th>\n",
              "      <td>495.2909</td>\n",
              "      <td>7.678009e+06</td>\n",
              "      <td>770.0060</td>\n",
              "      <td>0.0596</td>\n",
              "      <td>0.0401</td>\n",
              "      <td>0.0544</td>\n",
              "    </tr>\n",
              "  </tbody>\n",
              "</table>\n",
              "</div>"
            ],
            "text/plain": [
              "            MAE           MSE       RMSE      R2   RMSLE    MAPE\n",
              "0     2802.4022  2.756680e+07  5250.4094  0.7091  0.4838  0.3939\n",
              "1     3535.7484  3.900551e+07  6245.4394  0.7693  0.5478  0.3849\n",
              "2     2117.4975  1.893857e+07  4351.8469  0.8461  0.4868  0.2621\n",
              "3     3182.8039  3.371945e+07  5806.8454  0.7514  0.4893  0.3177\n",
              "4     2697.8067  2.189681e+07  4679.4025  0.8432  0.4847  0.3239\n",
              "5     2106.0348  1.341011e+07  3661.9810  0.8825  0.4365  0.3535\n",
              "6     3301.7657  2.986339e+07  5464.7402  0.7340  0.5404  0.3607\n",
              "7     3213.2447  3.134105e+07  5598.3078  0.7585  0.5554  0.4545\n",
              "8     2256.2142  1.817334e+07  4263.0200  0.8472  0.4518  0.3490\n",
              "9     2486.6888  2.037152e+07  4513.4819  0.8700  0.4497  0.2722\n",
              "Mean  2770.0207  2.542865e+07  4983.5475  0.8011  0.4926  0.3472\n",
              "SD     495.2909  7.678009e+06   770.0060  0.0596  0.0401  0.0544"
            ]
          },
          "metadata": {
            "tags": []
          }
        },
        {
          "output_type": "stream",
          "text": [
            "\n"
          ],
          "name": "stdout"
        }
      ]
    },
    {
      "cell_type": "markdown",
      "metadata": {
        "id": "JnumjIws3qqb"
      },
      "source": [
        "A média do RMSE (root mean square) está proxima a 5000."
      ]
    },
    {
      "cell_type": "code",
      "metadata": {
        "colab": {
          "base_uri": "https://localhost:8080/"
        },
        "id": "YOrQ4ut25G3f",
        "outputId": "074bf9b1-7c13-4a5d-d7c4-64e99e4d9551"
      },
      "source": [
        "meanCharges = insuranceData['charges'].mean();\n",
        "print('charges average: ${:.2f}'.format(meanCharges));\n",
        "\n",
        "valueRMSE = 5000;\n",
        "print('deviation: {:.1f}%'.format(100 * valueRMSE / meanCharges));"
      ],
      "execution_count": null,
      "outputs": [
        {
          "output_type": "stream",
          "text": [
            "charges average: $13270.42\n",
            "deviation: 37.7%\n"
          ],
          "name": "stdout"
        }
      ]
    },
    {
      "cell_type": "markdown",
      "metadata": {
        "id": "fneZXoZi5ozT"
      },
      "source": [
        "O desvio(erro) é muito alto próximo a 37,7%. Então tentamos diminuir esse valor treinando o modelo para otimizar o valor de RMSE."
      ]
    },
    {
      "cell_type": "code",
      "metadata": {
        "colab": {
          "base_uri": "https://localhost:8080/",
          "height": 402,
          "referenced_widgets": [
            "c97c76e62c2640afbeb368c08698360d",
            "9b20765125854128998728fbbfe7e859",
            "e3759a27f25646dd9176cf6595d7bfd4",
            "f284a77d3fe74852a18c49a101bd8b89",
            "7d95c0c7c5924c1ca359731e5ee58988",
            "0b567ca1697c4e12b3acc1384535a517"
          ]
        },
        "id": "IgEhohgsZxiq",
        "outputId": "ada1c3ca-5000-48f4-e962-601e36796d07"
      },
      "source": [
        "print('Aplicando 20 Iterações')\n",
        "rfModelTrained = tune_model(rfModel, optimize=\"RMSE\", n_iter=20);\n",
        "\n",
        "print()\n",
        "print('Aplicando 40 Iterações')\n",
        "rfModelTrained = tune_model(rfModel, optimize=\"RMSE\", n_iter=40);"
      ],
      "execution_count": null,
      "outputs": [
        {
          "output_type": "display_data",
          "data": {
            "text/html": [
              "<div>\n",
              "<style scoped>\n",
              "    .dataframe tbody tr th:only-of-type {\n",
              "        vertical-align: middle;\n",
              "    }\n",
              "\n",
              "    .dataframe tbody tr th {\n",
              "        vertical-align: top;\n",
              "    }\n",
              "\n",
              "    .dataframe thead th {\n",
              "        text-align: right;\n",
              "    }\n",
              "</style>\n",
              "<table border=\"1\" class=\"dataframe\">\n",
              "  <thead>\n",
              "    <tr style=\"text-align: right;\">\n",
              "      <th></th>\n",
              "      <th>MAE</th>\n",
              "      <th>MSE</th>\n",
              "      <th>RMSE</th>\n",
              "      <th>R2</th>\n",
              "      <th>RMSLE</th>\n",
              "      <th>MAPE</th>\n",
              "    </tr>\n",
              "  </thead>\n",
              "  <tbody>\n",
              "    <tr>\n",
              "      <th>0</th>\n",
              "      <td>1915.6373</td>\n",
              "      <td>2.341660e+07</td>\n",
              "      <td>4839.0704</td>\n",
              "      <td>0.7529</td>\n",
              "      <td>0.3359</td>\n",
              "      <td>0.1683</td>\n",
              "    </tr>\n",
              "    <tr>\n",
              "      <th>1</th>\n",
              "      <td>2759.4461</td>\n",
              "      <td>3.669309e+07</td>\n",
              "      <td>6057.4818</td>\n",
              "      <td>0.7830</td>\n",
              "      <td>0.4749</td>\n",
              "      <td>0.1818</td>\n",
              "    </tr>\n",
              "    <tr>\n",
              "      <th>2</th>\n",
              "      <td>1605.1993</td>\n",
              "      <td>1.676619e+07</td>\n",
              "      <td>4094.6541</td>\n",
              "      <td>0.8638</td>\n",
              "      <td>0.4212</td>\n",
              "      <td>0.1397</td>\n",
              "    </tr>\n",
              "    <tr>\n",
              "      <th>3</th>\n",
              "      <td>2454.4265</td>\n",
              "      <td>3.172272e+07</td>\n",
              "      <td>5632.2927</td>\n",
              "      <td>0.7661</td>\n",
              "      <td>0.4409</td>\n",
              "      <td>0.1714</td>\n",
              "    </tr>\n",
              "    <tr>\n",
              "      <th>4</th>\n",
              "      <td>1645.8440</td>\n",
              "      <td>1.594814e+07</td>\n",
              "      <td>3993.5118</td>\n",
              "      <td>0.8858</td>\n",
              "      <td>0.3917</td>\n",
              "      <td>0.1453</td>\n",
              "    </tr>\n",
              "    <tr>\n",
              "      <th>5</th>\n",
              "      <td>1402.2153</td>\n",
              "      <td>1.072337e+07</td>\n",
              "      <td>3274.6554</td>\n",
              "      <td>0.9060</td>\n",
              "      <td>0.3045</td>\n",
              "      <td>0.1547</td>\n",
              "    </tr>\n",
              "    <tr>\n",
              "      <th>6</th>\n",
              "      <td>2699.7918</td>\n",
              "      <td>3.053235e+07</td>\n",
              "      <td>5525.6089</td>\n",
              "      <td>0.7280</td>\n",
              "      <td>0.4957</td>\n",
              "      <td>0.1886</td>\n",
              "    </tr>\n",
              "    <tr>\n",
              "      <th>7</th>\n",
              "      <td>2184.7290</td>\n",
              "      <td>2.332640e+07</td>\n",
              "      <td>4829.7411</td>\n",
              "      <td>0.8202</td>\n",
              "      <td>0.4407</td>\n",
              "      <td>0.2380</td>\n",
              "    </tr>\n",
              "    <tr>\n",
              "      <th>8</th>\n",
              "      <td>1414.0887</td>\n",
              "      <td>1.214335e+07</td>\n",
              "      <td>3484.7310</td>\n",
              "      <td>0.8979</td>\n",
              "      <td>0.3137</td>\n",
              "      <td>0.1422</td>\n",
              "    </tr>\n",
              "    <tr>\n",
              "      <th>9</th>\n",
              "      <td>1858.1902</td>\n",
              "      <td>1.752709e+07</td>\n",
              "      <td>4186.5368</td>\n",
              "      <td>0.8881</td>\n",
              "      <td>0.4016</td>\n",
              "      <td>0.1574</td>\n",
              "    </tr>\n",
              "    <tr>\n",
              "      <th>Mean</th>\n",
              "      <td>1993.9568</td>\n",
              "      <td>2.187993e+07</td>\n",
              "      <td>4591.8284</td>\n",
              "      <td>0.8292</td>\n",
              "      <td>0.4021</td>\n",
              "      <td>0.1687</td>\n",
              "    </tr>\n",
              "    <tr>\n",
              "      <th>SD</th>\n",
              "      <td>481.2369</td>\n",
              "      <td>8.337756e+06</td>\n",
              "      <td>891.6512</td>\n",
              "      <td>0.0638</td>\n",
              "      <td>0.0627</td>\n",
              "      <td>0.0279</td>\n",
              "    </tr>\n",
              "  </tbody>\n",
              "</table>\n",
              "</div>"
            ],
            "text/plain": [
              "            MAE           MSE       RMSE      R2   RMSLE    MAPE\n",
              "0     1915.6373  2.341660e+07  4839.0704  0.7529  0.3359  0.1683\n",
              "1     2759.4461  3.669309e+07  6057.4818  0.7830  0.4749  0.1818\n",
              "2     1605.1993  1.676619e+07  4094.6541  0.8638  0.4212  0.1397\n",
              "3     2454.4265  3.172272e+07  5632.2927  0.7661  0.4409  0.1714\n",
              "4     1645.8440  1.594814e+07  3993.5118  0.8858  0.3917  0.1453\n",
              "5     1402.2153  1.072337e+07  3274.6554  0.9060  0.3045  0.1547\n",
              "6     2699.7918  3.053235e+07  5525.6089  0.7280  0.4957  0.1886\n",
              "7     2184.7290  2.332640e+07  4829.7411  0.8202  0.4407  0.2380\n",
              "8     1414.0887  1.214335e+07  3484.7310  0.8979  0.3137  0.1422\n",
              "9     1858.1902  1.752709e+07  4186.5368  0.8881  0.4016  0.1574\n",
              "Mean  1993.9568  2.187993e+07  4591.8284  0.8292  0.4021  0.1687\n",
              "SD     481.2369  8.337756e+06   891.6512  0.0638  0.0627  0.0279"
            ]
          },
          "metadata": {
            "tags": []
          }
        }
      ]
    },
    {
      "cell_type": "markdown",
      "metadata": {
        "id": "8_CveTN46i5o"
      },
      "source": [
        "RMSE caiu para próximo a 4640 com 20 iterações e 4590 com 40."
      ]
    },
    {
      "cell_type": "code",
      "metadata": {
        "colab": {
          "base_uri": "https://localhost:8080/"
        },
        "id": "roIWd7rd6q3X",
        "outputId": "485f9d34-1975-4a93-fc29-3c80c0d24537"
      },
      "source": [
        "valueRMSE_20it = 4640;\n",
        "print('deviation for 20 iterations: {:.1f}%'.format(100 * valueRMSE_20it / meanCharges));\n",
        "print();\n",
        "\n",
        "valueRMSE_40it = 4590;\n",
        "print('deviation for 40 iterations: {:.1f}%'.format(100 * valueRMSE_40it / meanCharges));"
      ],
      "execution_count": null,
      "outputs": [
        {
          "output_type": "stream",
          "text": [
            "deviation for 20 iterations: 35.0%\n",
            "\n",
            "deviation for 40 iterations: 34.6%\n"
          ],
          "name": "stdout"
        }
      ]
    },
    {
      "cell_type": "markdown",
      "metadata": {
        "id": "r0hkPRqv6tk-"
      },
      "source": [
        "Os desvios percentuais ainda estão muito altos, porém é visível que há uma queda (otimização) entre as interações."
      ]
    },
    {
      "cell_type": "markdown",
      "metadata": {
        "id": "zCyl5iF_AjIW"
      },
      "source": [
        "# Análise Exploratória das entradas (features)"
      ]
    },
    {
      "cell_type": "code",
      "metadata": {
        "colab": {
          "base_uri": "https://localhost:8080/",
          "height": 478,
          "referenced_widgets": [
            "b6523ed94be84c3ab31444676680c63a",
            "27eeb6dc5b3741168b72e39f0546bc46",
            "3ef6e766d8da4871a4bdb85fc79e54e3"
          ]
        },
        "id": "xwRJPbdFa5Tm",
        "outputId": "99f572bc-0295-4794-b460-29b7bbb49d7e"
      },
      "source": [
        "plot_model(rfModel, plot='feature')"
      ],
      "execution_count": null,
      "outputs": [
        {
          "output_type": "display_data",
          "data": {
            "image/png": "[encoded data removed]",
            "text/plain": [
              "<Figure size 800x500 with 1 Axes>"
            ]
          },
          "metadata": {
            "tags": []
          }
        }
      ]
    },
    {
      "cell_type": "markdown",
      "metadata": {
        "id": "DuBSOVngApoV"
      },
      "source": [
        "Observa-se claramente por esse gráfico que há gigantesca inflência quanto ao fato de ser fumante ou não, média influência do índice de massa corporal e da idade e pouquíssima do restante."
      ]
    },
    {
      "cell_type": "markdown",
      "metadata": {
        "id": "qH6OqDsABaqk"
      },
      "source": [
        "# Comparando diferente modelos"
      ]
    },
    {
      "cell_type": "markdown",
      "metadata": {
        "id": "e8Spv-oFBoZo"
      },
      "source": [
        "Seleciona os 3 modelos com melhor performance inicial do índice RMSE"
      ]
    },
    {
      "cell_type": "code",
      "metadata": {
        "colab": {
          "base_uri": "https://localhost:8080/",
          "height": 550,
          "referenced_widgets": [
            "eb37c765b8fe4b6995860384baad9f43",
            "3df8733eda9d41c781aefc7e53f961c1",
            "c14c661bcbdc4185b4fc433034c35a88"
          ]
        },
        "id": "PmMkyeXcbzBO",
        "outputId": "b8d68ee1-7346-4a5a-b99d-07b427438a3c"
      },
      "source": [
        "bestModelsRMSE = compare_models(sort=\"RMSE\", n_select=3)"
      ],
      "execution_count": null,
      "outputs": [
        {
          "output_type": "display_data",
          "data": {
            "text/html": [
              "<div>\n",
              "<style scoped>\n",
              "    .dataframe tbody tr th:only-of-type {\n",
              "        vertical-align: middle;\n",
              "    }\n",
              "\n",
              "    .dataframe tbody tr th {\n",
              "        vertical-align: top;\n",
              "    }\n",
              "\n",
              "    .dataframe thead th {\n",
              "        text-align: right;\n",
              "    }\n",
              "</style>\n",
              "<table border=\"1\" class=\"dataframe\">\n",
              "  <thead>\n",
              "    <tr style=\"text-align: right;\">\n",
              "      <th></th>\n",
              "      <th>Model</th>\n",
              "      <th>MAE</th>\n",
              "      <th>MSE</th>\n",
              "      <th>RMSE</th>\n",
              "      <th>R2</th>\n",
              "      <th>RMSLE</th>\n",
              "      <th>MAPE</th>\n",
              "      <th>TT (Sec)</th>\n",
              "    </tr>\n",
              "  </thead>\n",
              "  <tbody>\n",
              "    <tr>\n",
              "      <th>gbr</th>\n",
              "      <td>Gradient Boosting Regressor</td>\n",
              "      <td>2633.1988</td>\n",
              "      <td>2.282340e+07</td>\n",
              "      <td>4709.8545</td>\n",
              "      <td>0.8217</td>\n",
              "      <td>0.4468</td>\n",
              "      <td>0.3135</td>\n",
              "      <td>0.071</td>\n",
              "    </tr>\n",
              "    <tr>\n",
              "      <th>rf</th>\n",
              "      <td>Random Forest Regressor</td>\n",
              "      <td>2770.0207</td>\n",
              "      <td>2.542865e+07</td>\n",
              "      <td>4983.5475</td>\n",
              "      <td>0.8011</td>\n",
              "      <td>0.4926</td>\n",
              "      <td>0.3472</td>\n",
              "      <td>0.501</td>\n",
              "    </tr>\n",
              "    <tr>\n",
              "      <th>lightgbm</th>\n",
              "      <td>Light Gradient Boosting Machine</td>\n",
              "      <td>2966.3229</td>\n",
              "      <td>2.587133e+07</td>\n",
              "      <td>5023.6420</td>\n",
              "      <td>0.7981</td>\n",
              "      <td>0.5820</td>\n",
              "      <td>0.3867</td>\n",
              "      <td>0.088</td>\n",
              "    </tr>\n",
              "    <tr>\n",
              "      <th>ada</th>\n",
              "      <td>AdaBoost Regressor</td>\n",
              "      <td>3949.4336</td>\n",
              "      <td>2.730836e+07</td>\n",
              "      <td>5179.9780</td>\n",
              "      <td>0.7857</td>\n",
              "      <td>0.6072</td>\n",
              "      <td>0.6720</td>\n",
              "      <td>0.024</td>\n",
              "    </tr>\n",
              "    <tr>\n",
              "      <th>et</th>\n",
              "      <td>Extra Trees Regressor</td>\n",
              "      <td>2831.2883</td>\n",
              "      <td>2.934870e+07</td>\n",
              "      <td>5352.5463</td>\n",
              "      <td>0.7714</td>\n",
              "      <td>0.5065</td>\n",
              "      <td>0.3397</td>\n",
              "      <td>0.452</td>\n",
              "    </tr>\n",
              "    <tr>\n",
              "      <th>llar</th>\n",
              "      <td>Lasso Least Angle Regression</td>\n",
              "      <td>4075.1976</td>\n",
              "      <td>3.611849e+07</td>\n",
              "      <td>5967.3673</td>\n",
              "      <td>0.7199</td>\n",
              "      <td>0.5500</td>\n",
              "      <td>0.4187</td>\n",
              "      <td>0.015</td>\n",
              "    </tr>\n",
              "    <tr>\n",
              "      <th>lasso</th>\n",
              "      <td>Lasso Regression</td>\n",
              "      <td>4081.6160</td>\n",
              "      <td>3.618035e+07</td>\n",
              "      <td>5972.4951</td>\n",
              "      <td>0.7194</td>\n",
              "      <td>0.5422</td>\n",
              "      <td>0.4191</td>\n",
              "      <td>0.014</td>\n",
              "    </tr>\n",
              "    <tr>\n",
              "      <th>ridge</th>\n",
              "      <td>Ridge Regression</td>\n",
              "      <td>4093.4822</td>\n",
              "      <td>3.617892e+07</td>\n",
              "      <td>5972.6802</td>\n",
              "      <td>0.7195</td>\n",
              "      <td>0.5465</td>\n",
              "      <td>0.4216</td>\n",
              "      <td>0.013</td>\n",
              "    </tr>\n",
              "    <tr>\n",
              "      <th>br</th>\n",
              "      <td>Bayesian Ridge</td>\n",
              "      <td>4089.3228</td>\n",
              "      <td>3.618173e+07</td>\n",
              "      <td>5972.7984</td>\n",
              "      <td>0.7194</td>\n",
              "      <td>0.5444</td>\n",
              "      <td>0.4207</td>\n",
              "      <td>0.013</td>\n",
              "    </tr>\n",
              "    <tr>\n",
              "      <th>lr</th>\n",
              "      <td>Linear Regression</td>\n",
              "      <td>4081.8069</td>\n",
              "      <td>3.618491e+07</td>\n",
              "      <td>5972.8677</td>\n",
              "      <td>0.7194</td>\n",
              "      <td>0.5421</td>\n",
              "      <td>0.4190</td>\n",
              "      <td>0.012</td>\n",
              "    </tr>\n",
              "    <tr>\n",
              "      <th>lar</th>\n",
              "      <td>Least Angle Regression</td>\n",
              "      <td>4081.8072</td>\n",
              "      <td>3.618492e+07</td>\n",
              "      <td>5972.8682</td>\n",
              "      <td>0.7194</td>\n",
              "      <td>0.5421</td>\n",
              "      <td>0.4190</td>\n",
              "      <td>0.014</td>\n",
              "    </tr>\n",
              "    <tr>\n",
              "      <th>dt</th>\n",
              "      <td>Decision Tree Regressor</td>\n",
              "      <td>3023.6754</td>\n",
              "      <td>4.175885e+07</td>\n",
              "      <td>6405.5701</td>\n",
              "      <td>0.6722</td>\n",
              "      <td>0.5536</td>\n",
              "      <td>0.3791</td>\n",
              "      <td>0.013</td>\n",
              "    </tr>\n",
              "    <tr>\n",
              "      <th>huber</th>\n",
              "      <td>Huber Regressor</td>\n",
              "      <td>3289.3010</td>\n",
              "      <td>4.530077e+07</td>\n",
              "      <td>6671.2453</td>\n",
              "      <td>0.6468</td>\n",
              "      <td>0.4782</td>\n",
              "      <td>0.2076</td>\n",
              "      <td>0.025</td>\n",
              "    </tr>\n",
              "    <tr>\n",
              "      <th>par</th>\n",
              "      <td>Passive Aggressive Regressor</td>\n",
              "      <td>3405.8000</td>\n",
              "      <td>5.209752e+07</td>\n",
              "      <td>7155.8282</td>\n",
              "      <td>0.6007</td>\n",
              "      <td>0.4855</td>\n",
              "      <td>0.1777</td>\n",
              "      <td>0.026</td>\n",
              "    </tr>\n",
              "    <tr>\n",
              "      <th>omp</th>\n",
              "      <td>Orthogonal Matching Pursuit</td>\n",
              "      <td>5528.4157</td>\n",
              "      <td>5.265599e+07</td>\n",
              "      <td>7222.1772</td>\n",
              "      <td>0.5879</td>\n",
              "      <td>0.7388</td>\n",
              "      <td>0.8944</td>\n",
              "      <td>0.012</td>\n",
              "    </tr>\n",
              "    <tr>\n",
              "      <th>knn</th>\n",
              "      <td>K Neighbors Regressor</td>\n",
              "      <td>5027.4191</td>\n",
              "      <td>6.805028e+07</td>\n",
              "      <td>8201.4350</td>\n",
              "      <td>0.4718</td>\n",
              "      <td>0.6089</td>\n",
              "      <td>0.5009</td>\n",
              "      <td>0.060</td>\n",
              "    </tr>\n",
              "    <tr>\n",
              "      <th>en</th>\n",
              "      <td>Elastic Net</td>\n",
              "      <td>6916.7698</td>\n",
              "      <td>8.468367e+07</td>\n",
              "      <td>9166.9853</td>\n",
              "      <td>0.3466</td>\n",
              "      <td>0.7868</td>\n",
              "      <td>1.0270</td>\n",
              "      <td>0.014</td>\n",
              "    </tr>\n",
              "  </tbody>\n",
              "</table>\n",
              "</div>"
            ],
            "text/plain": [
              "                                    Model        MAE           MSE       RMSE  \\\n",
              "gbr           Gradient Boosting Regressor  2633.1988  2.282340e+07  4709.8545   \n",
              "rf                Random Forest Regressor  2770.0207  2.542865e+07  4983.5475   \n",
              "lightgbm  Light Gradient Boosting Machine  2966.3229  2.587133e+07  5023.6420   \n",
              "ada                    AdaBoost Regressor  3949.4336  2.730836e+07  5179.9780   \n",
              "et                  Extra Trees Regressor  2831.2883  2.934870e+07  5352.5463   \n",
              "llar         Lasso Least Angle Regression  4075.1976  3.611849e+07  5967.3673   \n",
              "lasso                    Lasso Regression  4081.6160  3.618035e+07  5972.4951   \n",
              "ridge                    Ridge Regression  4093.4822  3.617892e+07  5972.6802   \n",
              "br                         Bayesian Ridge  4089.3228  3.618173e+07  5972.7984   \n",
              "lr                      Linear Regression  4081.8069  3.618491e+07  5972.8677   \n",
              "lar                Least Angle Regression  4081.8072  3.618492e+07  5972.8682   \n",
              "dt                Decision Tree Regressor  3023.6754  4.175885e+07  6405.5701   \n",
              "huber                     Huber Regressor  3289.3010  4.530077e+07  6671.2453   \n",
              "par          Passive Aggressive Regressor  3405.8000  5.209752e+07  7155.8282   \n",
              "omp           Orthogonal Matching Pursuit  5528.4157  5.265599e+07  7222.1772   \n",
              "knn                 K Neighbors Regressor  5027.4191  6.805028e+07  8201.4350   \n",
              "en                            Elastic Net  6916.7698  8.468367e+07  9166.9853   \n",
              "\n",
              "              R2   RMSLE    MAPE  TT (Sec)  \n",
              "gbr       0.8217  0.4468  0.3135     0.071  \n",
              "rf        0.8011  0.4926  0.3472     0.501  \n",
              "lightgbm  0.7981  0.5820  0.3867     0.088  \n",
              "ada       0.7857  0.6072  0.6720     0.024  \n",
              "et        0.7714  0.5065  0.3397     0.452  \n",
              "llar      0.7199  0.5500  0.4187     0.015  \n",
              "lasso     0.7194  0.5422  0.4191     0.014  \n",
              "ridge     0.7195  0.5465  0.4216     0.013  \n",
              "br        0.7194  0.5444  0.4207     0.013  \n",
              "lr        0.7194  0.5421  0.4190     0.012  \n",
              "lar       0.7194  0.5421  0.4190     0.014  \n",
              "dt        0.6722  0.5536  0.3791     0.013  \n",
              "huber     0.6468  0.4782  0.2076     0.025  \n",
              "par       0.6007  0.4855  0.1777     0.026  \n",
              "omp       0.5879  0.7388  0.8944     0.012  \n",
              "knn       0.4718  0.6089  0.5009     0.060  \n",
              "en        0.3466  0.7868  1.0270     0.014  "
            ]
          },
          "metadata": {
            "tags": []
          }
        }
      ]
    },
    {
      "cell_type": "markdown",
      "metadata": {
        "id": "EKagqC9ACIVz"
      },
      "source": [
        "Treinamento de todos os modelos selecionados e mesclagem dos modelos para aperfeiçoamento.\n",
        "A escolha de 100 interações faz o processamento ser bem lento, porém garante um melor aperfeiçoamento."
      ]
    },
    {
      "cell_type": "code",
      "metadata": {
        "colab": {
          "base_uri": "https://localhost:8080/",
          "height": 402,
          "referenced_widgets": [
            "499248c840c14a0b83579a85ade5c32e",
            "9ba262234f7f40b488ea08b8c38ddd58",
            "570536c718d446dab59e19311abf4017"
          ]
        },
        "id": "vRxI9iStcJO8",
        "outputId": "3632e079-274c-4e3b-b96d-16c2e5189e00"
      },
      "source": [
        "trainedModels = [tune_model(model, optimize=\"RMSE\", n_iter=100, verbose=False) for model in bestModelsRMSE];\n",
        "blendModels = blend_models(trainedModels);"
      ],
      "execution_count": null,
      "outputs": [
        {
          "output_type": "display_data",
          "data": {
            "text/html": [
              "<div>\n",
              "<style scoped>\n",
              "    .dataframe tbody tr th:only-of-type {\n",
              "        vertical-align: middle;\n",
              "    }\n",
              "\n",
              "    .dataframe tbody tr th {\n",
              "        vertical-align: top;\n",
              "    }\n",
              "\n",
              "    .dataframe thead th {\n",
              "        text-align: right;\n",
              "    }\n",
              "</style>\n",
              "<table border=\"1\" class=\"dataframe\">\n",
              "  <thead>\n",
              "    <tr style=\"text-align: right;\">\n",
              "      <th></th>\n",
              "      <th>MAE</th>\n",
              "      <th>MSE</th>\n",
              "      <th>RMSE</th>\n",
              "      <th>R2</th>\n",
              "      <th>RMSLE</th>\n",
              "      <th>MAPE</th>\n",
              "    </tr>\n",
              "  </thead>\n",
              "  <tbody>\n",
              "    <tr>\n",
              "      <th>0</th>\n",
              "      <td>2441.2319</td>\n",
              "      <td>2.295620e+07</td>\n",
              "      <td>4791.2630</td>\n",
              "      <td>0.7578</td>\n",
              "      <td>0.4064</td>\n",
              "      <td>0.3085</td>\n",
              "    </tr>\n",
              "    <tr>\n",
              "      <th>1</th>\n",
              "      <td>3167.4086</td>\n",
              "      <td>3.579987e+07</td>\n",
              "      <td>5983.2991</td>\n",
              "      <td>0.7883</td>\n",
              "      <td>0.4941</td>\n",
              "      <td>0.2921</td>\n",
              "    </tr>\n",
              "    <tr>\n",
              "      <th>2</th>\n",
              "      <td>2026.3529</td>\n",
              "      <td>1.712750e+07</td>\n",
              "      <td>4138.5382</td>\n",
              "      <td>0.8609</td>\n",
              "      <td>0.4322</td>\n",
              "      <td>0.2254</td>\n",
              "    </tr>\n",
              "    <tr>\n",
              "      <th>3</th>\n",
              "      <td>2828.8648</td>\n",
              "      <td>3.107872e+07</td>\n",
              "      <td>5574.8289</td>\n",
              "      <td>0.7709</td>\n",
              "      <td>0.4451</td>\n",
              "      <td>0.2489</td>\n",
              "    </tr>\n",
              "    <tr>\n",
              "      <th>4</th>\n",
              "      <td>2297.7588</td>\n",
              "      <td>1.694546e+07</td>\n",
              "      <td>4116.4865</td>\n",
              "      <td>0.8786</td>\n",
              "      <td>0.4324</td>\n",
              "      <td>0.2738</td>\n",
              "    </tr>\n",
              "    <tr>\n",
              "      <th>5</th>\n",
              "      <td>1842.7793</td>\n",
              "      <td>1.214156e+07</td>\n",
              "      <td>3484.4737</td>\n",
              "      <td>0.8936</td>\n",
              "      <td>0.3768</td>\n",
              "      <td>0.2569</td>\n",
              "    </tr>\n",
              "    <tr>\n",
              "      <th>6</th>\n",
              "      <td>2874.4983</td>\n",
              "      <td>2.770116e+07</td>\n",
              "      <td>5263.1896</td>\n",
              "      <td>0.7533</td>\n",
              "      <td>0.4755</td>\n",
              "      <td>0.2454</td>\n",
              "    </tr>\n",
              "    <tr>\n",
              "      <th>7</th>\n",
              "      <td>2491.3827</td>\n",
              "      <td>2.299271e+07</td>\n",
              "      <td>4795.0714</td>\n",
              "      <td>0.8228</td>\n",
              "      <td>0.4242</td>\n",
              "      <td>0.2665</td>\n",
              "    </tr>\n",
              "    <tr>\n",
              "      <th>8</th>\n",
              "      <td>2003.2415</td>\n",
              "      <td>1.366573e+07</td>\n",
              "      <td>3696.7189</td>\n",
              "      <td>0.8851</td>\n",
              "      <td>0.3780</td>\n",
              "      <td>0.2616</td>\n",
              "    </tr>\n",
              "    <tr>\n",
              "      <th>9</th>\n",
              "      <td>2124.4002</td>\n",
              "      <td>1.742434e+07</td>\n",
              "      <td>4174.2475</td>\n",
              "      <td>0.8888</td>\n",
              "      <td>0.4107</td>\n",
              "      <td>0.2225</td>\n",
              "    </tr>\n",
              "    <tr>\n",
              "      <th>Mean</th>\n",
              "      <td>2409.7919</td>\n",
              "      <td>2.178333e+07</td>\n",
              "      <td>4601.8117</td>\n",
              "      <td>0.8300</td>\n",
              "      <td>0.4275</td>\n",
              "      <td>0.2602</td>\n",
              "    </tr>\n",
              "    <tr>\n",
              "      <th>SD</th>\n",
              "      <td>412.4336</td>\n",
              "      <td>7.373386e+06</td>\n",
              "      <td>778.8801</td>\n",
              "      <td>0.0550</td>\n",
              "      <td>0.0359</td>\n",
              "      <td>0.0256</td>\n",
              "    </tr>\n",
              "  </tbody>\n",
              "</table>\n",
              "</div>"
            ],
            "text/plain": [
              "            MAE           MSE       RMSE      R2   RMSLE    MAPE\n",
              "0     2441.2319  2.295620e+07  4791.2630  0.7578  0.4064  0.3085\n",
              "1     3167.4086  3.579987e+07  5983.2991  0.7883  0.4941  0.2921\n",
              "2     2026.3529  1.712750e+07  4138.5382  0.8609  0.4322  0.2254\n",
              "3     2828.8648  3.107872e+07  5574.8289  0.7709  0.4451  0.2489\n",
              "4     2297.7588  1.694546e+07  4116.4865  0.8786  0.4324  0.2738\n",
              "5     1842.7793  1.214156e+07  3484.4737  0.8936  0.3768  0.2569\n",
              "6     2874.4983  2.770116e+07  5263.1896  0.7533  0.4755  0.2454\n",
              "7     2491.3827  2.299271e+07  4795.0714  0.8228  0.4242  0.2665\n",
              "8     2003.2415  1.366573e+07  3696.7189  0.8851  0.3780  0.2616\n",
              "9     2124.4002  1.742434e+07  4174.2475  0.8888  0.4107  0.2225\n",
              "Mean  2409.7919  2.178333e+07  4601.8117  0.8300  0.4275  0.2602\n",
              "SD     412.4336  7.373386e+06   778.8801  0.0550  0.0359  0.0256"
            ]
          },
          "metadata": {
            "tags": []
          }
        }
      ]
    },
    {
      "cell_type": "markdown",
      "metadata": {
        "id": "adAnWGQGR4bL"
      },
      "source": [
        "Mesmo procurando uma melhor otimização, no fim a mistura resultou num ínidice de 4597.6500, valor um tanto menor que o random forest anterior com 40 interações. Porém, com um desvio padrão entre `folders` um tanto menor. Usaremos, portanto, esse modelo para prosseguir com os testes."
      ]
    },
    {
      "cell_type": "code",
      "metadata": {
        "colab": {
          "base_uri": "https://localhost:8080/",
          "height": 312
        },
        "id": "DEqpE_YXeFO_",
        "outputId": "9ffb8557-7670-4883-9c04-0bc56cb09874"
      },
      "source": [
        "prediction = predict_model(blendModels);\n",
        "\n",
        "print();\n",
        "print('displaying some absolute error values');\n",
        "error = prediction['Label'] - prediction['charges'];\n",
        "display(error);"
      ],
      "execution_count": null,
      "outputs": [
        {
          "output_type": "display_data",
          "data": {
            "text/html": [
              "<div>\n",
              "<style scoped>\n",
              "    .dataframe tbody tr th:only-of-type {\n",
              "        vertical-align: middle;\n",
              "    }\n",
              "\n",
              "    .dataframe tbody tr th {\n",
              "        vertical-align: top;\n",
              "    }\n",
              "\n",
              "    .dataframe thead th {\n",
              "        text-align: right;\n",
              "    }\n",
              "</style>\n",
              "<table border=\"1\" class=\"dataframe\">\n",
              "  <thead>\n",
              "    <tr style=\"text-align: right;\">\n",
              "      <th></th>\n",
              "      <th>Model</th>\n",
              "      <th>MAE</th>\n",
              "      <th>MSE</th>\n",
              "      <th>RMSE</th>\n",
              "      <th>R2</th>\n",
              "      <th>RMSLE</th>\n",
              "      <th>MAPE</th>\n",
              "    </tr>\n",
              "  </thead>\n",
              "  <tbody>\n",
              "    <tr>\n",
              "      <th>0</th>\n",
              "      <td>Voting Regressor</td>\n",
              "      <td>2187.8966</td>\n",
              "      <td>1.811450e+07</td>\n",
              "      <td>4256.1133</td>\n",
              "      <td>0.888</td>\n",
              "      <td>0.3656</td>\n",
              "      <td>0.212</td>\n",
              "    </tr>\n",
              "  </tbody>\n",
              "</table>\n",
              "</div>"
            ],
            "text/plain": [
              "              Model        MAE           MSE       RMSE     R2   RMSLE   MAPE\n",
              "0  Voting Regressor  2187.8966  1.811450e+07  4256.1133  0.888  0.3656  0.212"
            ]
          },
          "metadata": {
            "tags": []
          }
        },
        {
          "output_type": "stream",
          "text": [
            "\n",
            "displaying some absolute error values\n"
          ],
          "name": "stdout"
        },
        {
          "output_type": "display_data",
          "data": {
            "text/plain": [
              "0      1595.128395\n",
              "1      1301.573006\n",
              "2       675.159841\n",
              "3       182.759154\n",
              "4      -156.636190\n",
              "          ...     \n",
              "397    1890.560331\n",
              "398     176.395976\n",
              "399     142.962192\n",
              "400    1003.407247\n",
              "401    1551.134850\n",
              "Length: 402, dtype: float64"
            ]
          },
          "metadata": {
            "tags": []
          }
        }
      ]
    },
    {
      "cell_type": "markdown",
      "metadata": {
        "id": "mKe24GLASc3p"
      },
      "source": [
        "Os testes sobre os dados separados do treinamento resultaram em um índice de RMSE de aproximadamente 4396, um valor próximo porém menor que a amostra de treinamento, o que é um bom indício de que o treinamento não sofreu overfitting ou alguma outra deturpação.\n",
        "\n",
        "Esse modelo treinado é então salvo para posterior utilização."
      ]
    },
    {
      "cell_type": "code",
      "metadata": {
        "id": "71vwd_ioeKNK"
      },
      "source": [
        "finalModel = finalize_model(blendModels);\n",
        "save_model(finalModel, \"insurance-cost-prediction-model\", verbose=False);"
      ],
      "execution_count": null,
      "outputs": []
    },
    {
      "cell_type": "markdown",
      "metadata": {
        "id": "xCsHOJBmS9VI"
      },
      "source": [
        "# Previsão de gastos utilizando o novo modelo"
      ]
    },
    {
      "cell_type": "markdown",
      "metadata": {
        "id": "N9Cqin1MTEpF"
      },
      "source": [
        "Declaração de uma função que retorna o valor esperado."
      ]
    },
    {
      "cell_type": "code",
      "metadata": {
        "id": "ZTVMOKbdtFI7"
      },
      "source": [
        "import pandas as pd\n",
        "from pycaret.regression import load_model\n",
        "\n",
        "loadModel = load_model(\"insurance-cost-prediction-model\", verbose=False);\n",
        "\n",
        "def predictTotalCost(age = 35, sex = 'female', bmi = 25,\tchildren = 2,\tsmoker = 'no',\tregion = 'south'):\n",
        "  # create a pandas dataframe(table)\n",
        "  input = { 'age': [age], 'sex': [sex], 'bmi': [bmi], 'children': [children], 'smoker': [smoker], 'region': [region] };\n",
        "  dfInput = pd.DataFrame( input );\n",
        "  # apply the saved module to predict the cost with a new client\n",
        "  return float(predict_model(loadModel, data=dfInput)['Label'].round(2));\n",
        "\n",
        "def computeInfluenceByFeature(name: str, values: [any], predictCostByOneParam: lambda any: any, displayInfluenceTables: bool = True):\n",
        "  # compute cost value for each tested feature\n",
        "  dfInfluence = pd.DataFrame(data= values, columns= [name]);\n",
        "  dfInfluence['custo'] = [predictCostByOneParam(testVal) for testVal in dfInfluence[name]];\n",
        "  # display table to visually avaliate the test\n",
        "  if displayInfluenceTables:\n",
        "    display(dfInfluence);\n",
        "  # return the standard deviation for the test\n",
        "  return dfInfluence.std(0)['custo'];"
      ],
      "execution_count": null,
      "outputs": []
    },
    {
      "cell_type": "markdown",
      "metadata": {
        "id": "wJVUNiMaTJrb"
      },
      "source": [
        "Análise da variação dos valores previstos alterando uma das entradas por vez."
      ]
    },
    {
      "cell_type": "code",
      "metadata": {
        "id": "IFdvEMCRUgGZ"
      },
      "source": [
        "allInfluence = {};\n",
        "displayInfluenceTables = True;"
      ],
      "execution_count": null,
      "outputs": []
    },
    {
      "cell_type": "code",
      "metadata": {
        "colab": {
          "base_uri": "https://localhost:8080/",
          "height": 106
        },
        "id": "Tmw_IwdzHaef",
        "outputId": "21eba60d-a345-43bd-b66a-36c67f59dff1"
      },
      "source": [
        "allInfluence['smoker'] = computeInfluenceByFeature('smoker', ['no', 'yes'],\n",
        "                                                   lambda value: predictTotalCost(smoker = value), displayInfluenceTables);"
      ],
      "execution_count": null,
      "outputs": [
        {
          "output_type": "display_data",
          "data": {
            "text/html": [
              "<div>\n",
              "<style scoped>\n",
              "    .dataframe tbody tr th:only-of-type {\n",
              "        vertical-align: middle;\n",
              "    }\n",
              "\n",
              "    .dataframe tbody tr th {\n",
              "        vertical-align: top;\n",
              "    }\n",
              "\n",
              "    .dataframe thead th {\n",
              "        text-align: right;\n",
              "    }\n",
              "</style>\n",
              "<table border=\"1\" class=\"dataframe\">\n",
              "  <thead>\n",
              "    <tr style=\"text-align: right;\">\n",
              "      <th></th>\n",
              "      <th>smoker</th>\n",
              "      <th>custo</th>\n",
              "    </tr>\n",
              "  </thead>\n",
              "  <tbody>\n",
              "    <tr>\n",
              "      <th>0</th>\n",
              "      <td>no</td>\n",
              "      <td>7139.3</td>\n",
              "    </tr>\n",
              "    <tr>\n",
              "      <th>1</th>\n",
              "      <td>yes</td>\n",
              "      <td>19739.4</td>\n",
              "    </tr>\n",
              "  </tbody>\n",
              "</table>\n",
              "</div>"
            ],
            "text/plain": [
              "  smoker    custo\n",
              "0     no   7139.3\n",
              "1    yes  19739.4"
            ]
          },
          "metadata": {
            "tags": []
          }
        }
      ]
    },
    {
      "cell_type": "code",
      "metadata": {
        "colab": {
          "base_uri": "https://localhost:8080/",
          "height": 491
        },
        "id": "yzbHczHaBIek",
        "outputId": "5a3d9ef0-14cb-4b99-fe9a-ada3a7fbb165"
      },
      "source": [
        "allInfluence['age'] = computeInfluenceByFeature('age', range(5, 80, 5),\n",
        "                                                lambda value: predictTotalCost(age = value), displayInfluenceTables);"
      ],
      "execution_count": null,
      "outputs": [
        {
          "output_type": "display_data",
          "data": {
            "text/html": [
              "<div>\n",
              "<style scoped>\n",
              "    .dataframe tbody tr th:only-of-type {\n",
              "        vertical-align: middle;\n",
              "    }\n",
              "\n",
              "    .dataframe tbody tr th {\n",
              "        vertical-align: top;\n",
              "    }\n",
              "\n",
              "    .dataframe thead th {\n",
              "        text-align: right;\n",
              "    }\n",
              "</style>\n",
              "<table border=\"1\" class=\"dataframe\">\n",
              "  <thead>\n",
              "    <tr style=\"text-align: right;\">\n",
              "      <th></th>\n",
              "      <th>age</th>\n",
              "      <th>custo</th>\n",
              "    </tr>\n",
              "  </thead>\n",
              "  <tbody>\n",
              "    <tr>\n",
              "      <th>0</th>\n",
              "      <td>5</td>\n",
              "      <td>7714.70</td>\n",
              "    </tr>\n",
              "    <tr>\n",
              "      <th>1</th>\n",
              "      <td>10</td>\n",
              "      <td>7714.70</td>\n",
              "    </tr>\n",
              "    <tr>\n",
              "      <th>2</th>\n",
              "      <td>15</td>\n",
              "      <td>7714.70</td>\n",
              "    </tr>\n",
              "    <tr>\n",
              "      <th>3</th>\n",
              "      <td>20</td>\n",
              "      <td>7569.55</td>\n",
              "    </tr>\n",
              "    <tr>\n",
              "      <th>4</th>\n",
              "      <td>25</td>\n",
              "      <td>7993.10</td>\n",
              "    </tr>\n",
              "    <tr>\n",
              "      <th>5</th>\n",
              "      <td>30</td>\n",
              "      <td>6972.66</td>\n",
              "    </tr>\n",
              "    <tr>\n",
              "      <th>6</th>\n",
              "      <td>35</td>\n",
              "      <td>7139.30</td>\n",
              "    </tr>\n",
              "    <tr>\n",
              "      <th>7</th>\n",
              "      <td>40</td>\n",
              "      <td>8028.63</td>\n",
              "    </tr>\n",
              "    <tr>\n",
              "      <th>8</th>\n",
              "      <td>45</td>\n",
              "      <td>10325.25</td>\n",
              "    </tr>\n",
              "    <tr>\n",
              "      <th>9</th>\n",
              "      <td>50</td>\n",
              "      <td>12553.90</td>\n",
              "    </tr>\n",
              "    <tr>\n",
              "      <th>10</th>\n",
              "      <td>55</td>\n",
              "      <td>14087.56</td>\n",
              "    </tr>\n",
              "    <tr>\n",
              "      <th>11</th>\n",
              "      <td>60</td>\n",
              "      <td>16570.74</td>\n",
              "    </tr>\n",
              "    <tr>\n",
              "      <th>12</th>\n",
              "      <td>65</td>\n",
              "      <td>17307.45</td>\n",
              "    </tr>\n",
              "    <tr>\n",
              "      <th>13</th>\n",
              "      <td>70</td>\n",
              "      <td>17307.45</td>\n",
              "    </tr>\n",
              "    <tr>\n",
              "      <th>14</th>\n",
              "      <td>75</td>\n",
              "      <td>17307.45</td>\n",
              "    </tr>\n",
              "  </tbody>\n",
              "</table>\n",
              "</div>"
            ],
            "text/plain": [
              "    age     custo\n",
              "0     5   7714.70\n",
              "1    10   7714.70\n",
              "2    15   7714.70\n",
              "3    20   7569.55\n",
              "4    25   7993.10\n",
              "5    30   6972.66\n",
              "6    35   7139.30\n",
              "7    40   8028.63\n",
              "8    45  10325.25\n",
              "9    50  12553.90\n",
              "10   55  14087.56\n",
              "11   60  16570.74\n",
              "12   65  17307.45\n",
              "13   70  17307.45\n",
              "14   75  17307.45"
            ]
          },
          "metadata": {
            "tags": []
          }
        }
      ]
    },
    {
      "cell_type": "code",
      "metadata": {
        "colab": {
          "base_uri": "https://localhost:8080/",
          "height": 106
        },
        "id": "uhYi8xzdB911",
        "outputId": "7ab0bec2-ce67-4b76-f017-7db47d49abcc"
      },
      "source": [
        "allInfluence['sex'] = computeInfluenceByFeature('sex', ['male', 'female'],\n",
        "                                                lambda value: predictTotalCost(sex = value), displayInfluenceTables);"
      ],
      "execution_count": null,
      "outputs": [
        {
          "output_type": "display_data",
          "data": {
            "text/html": [
              "<div>\n",
              "<style scoped>\n",
              "    .dataframe tbody tr th:only-of-type {\n",
              "        vertical-align: middle;\n",
              "    }\n",
              "\n",
              "    .dataframe tbody tr th {\n",
              "        vertical-align: top;\n",
              "    }\n",
              "\n",
              "    .dataframe thead th {\n",
              "        text-align: right;\n",
              "    }\n",
              "</style>\n",
              "<table border=\"1\" class=\"dataframe\">\n",
              "  <thead>\n",
              "    <tr style=\"text-align: right;\">\n",
              "      <th></th>\n",
              "      <th>sex</th>\n",
              "      <th>custo</th>\n",
              "    </tr>\n",
              "  </thead>\n",
              "  <tbody>\n",
              "    <tr>\n",
              "      <th>0</th>\n",
              "      <td>male</td>\n",
              "      <td>7237.52</td>\n",
              "    </tr>\n",
              "    <tr>\n",
              "      <th>1</th>\n",
              "      <td>female</td>\n",
              "      <td>7139.30</td>\n",
              "    </tr>\n",
              "  </tbody>\n",
              "</table>\n",
              "</div>"
            ],
            "text/plain": [
              "      sex    custo\n",
              "0    male  7237.52\n",
              "1  female  7139.30"
            ]
          },
          "metadata": {
            "tags": []
          }
        }
      ]
    },
    {
      "cell_type": "code",
      "metadata": {
        "colab": {
          "base_uri": "https://localhost:8080/",
          "height": 521
        },
        "id": "IY0fFAAzOxpo",
        "outputId": "5e894979-a60b-44b7-e637-efd9905a2006"
      },
      "source": [
        "allInfluence['bmi'] = computeInfluenceByFeature('bmi', range(10, 58, 3),\n",
        "                                                lambda value: predictTotalCost(bmi = value), displayInfluenceTables);"
      ],
      "execution_count": null,
      "outputs": [
        {
          "output_type": "display_data",
          "data": {
            "text/html": [
              "<div>\n",
              "<style scoped>\n",
              "    .dataframe tbody tr th:only-of-type {\n",
              "        vertical-align: middle;\n",
              "    }\n",
              "\n",
              "    .dataframe tbody tr th {\n",
              "        vertical-align: top;\n",
              "    }\n",
              "\n",
              "    .dataframe thead th {\n",
              "        text-align: right;\n",
              "    }\n",
              "</style>\n",
              "<table border=\"1\" class=\"dataframe\">\n",
              "  <thead>\n",
              "    <tr style=\"text-align: right;\">\n",
              "      <th></th>\n",
              "      <th>bmi</th>\n",
              "      <th>custo</th>\n",
              "    </tr>\n",
              "  </thead>\n",
              "  <tbody>\n",
              "    <tr>\n",
              "      <th>0</th>\n",
              "      <td>10</td>\n",
              "      <td>6932.07</td>\n",
              "    </tr>\n",
              "    <tr>\n",
              "      <th>1</th>\n",
              "      <td>13</td>\n",
              "      <td>6932.07</td>\n",
              "    </tr>\n",
              "    <tr>\n",
              "      <th>2</th>\n",
              "      <td>16</td>\n",
              "      <td>6932.07</td>\n",
              "    </tr>\n",
              "    <tr>\n",
              "      <th>3</th>\n",
              "      <td>19</td>\n",
              "      <td>6544.03</td>\n",
              "    </tr>\n",
              "    <tr>\n",
              "      <th>4</th>\n",
              "      <td>22</td>\n",
              "      <td>6801.54</td>\n",
              "    </tr>\n",
              "    <tr>\n",
              "      <th>5</th>\n",
              "      <td>25</td>\n",
              "      <td>7139.30</td>\n",
              "    </tr>\n",
              "    <tr>\n",
              "      <th>6</th>\n",
              "      <td>28</td>\n",
              "      <td>6895.84</td>\n",
              "    </tr>\n",
              "    <tr>\n",
              "      <th>7</th>\n",
              "      <td>31</td>\n",
              "      <td>6657.87</td>\n",
              "    </tr>\n",
              "    <tr>\n",
              "      <th>8</th>\n",
              "      <td>34</td>\n",
              "      <td>6972.31</td>\n",
              "    </tr>\n",
              "    <tr>\n",
              "      <th>9</th>\n",
              "      <td>37</td>\n",
              "      <td>7554.81</td>\n",
              "    </tr>\n",
              "    <tr>\n",
              "      <th>10</th>\n",
              "      <td>40</td>\n",
              "      <td>7895.05</td>\n",
              "    </tr>\n",
              "    <tr>\n",
              "      <th>11</th>\n",
              "      <td>43</td>\n",
              "      <td>8343.45</td>\n",
              "    </tr>\n",
              "    <tr>\n",
              "      <th>12</th>\n",
              "      <td>46</td>\n",
              "      <td>8391.98</td>\n",
              "    </tr>\n",
              "    <tr>\n",
              "      <th>13</th>\n",
              "      <td>49</td>\n",
              "      <td>8674.51</td>\n",
              "    </tr>\n",
              "    <tr>\n",
              "      <th>14</th>\n",
              "      <td>52</td>\n",
              "      <td>8674.51</td>\n",
              "    </tr>\n",
              "    <tr>\n",
              "      <th>15</th>\n",
              "      <td>55</td>\n",
              "      <td>8674.51</td>\n",
              "    </tr>\n",
              "  </tbody>\n",
              "</table>\n",
              "</div>"
            ],
            "text/plain": [
              "    bmi    custo\n",
              "0    10  6932.07\n",
              "1    13  6932.07\n",
              "2    16  6932.07\n",
              "3    19  6544.03\n",
              "4    22  6801.54\n",
              "5    25  7139.30\n",
              "6    28  6895.84\n",
              "7    31  6657.87\n",
              "8    34  6972.31\n",
              "9    37  7554.81\n",
              "10   40  7895.05\n",
              "11   43  8343.45\n",
              "12   46  8391.98\n",
              "13   49  8674.51\n",
              "14   52  8674.51\n",
              "15   55  8674.51"
            ]
          },
          "metadata": {
            "tags": []
          }
        }
      ]
    },
    {
      "cell_type": "code",
      "metadata": {
        "colab": {
          "base_uri": "https://localhost:8080/",
          "height": 492
        },
        "id": "Ne5x4IezX6zr",
        "outputId": "a9e0e019-48e3-415f-bd6d-6f394a19fe79"
      },
      "source": [
        "allInfluence['children'] = computeInfluenceByFeature('children', range(0, 6, 1),\n",
        "                                                     lambda value: predictTotalCost(children = value), displayInfluenceTables);\n",
        "allInfluence['region'] = computeInfluenceByFeature('region', ['south', 'north', 'east', 'west', 'southeast', 'southwest', 'northeast', 'northwest' ],\n",
        "                                                   lambda value: predictTotalCost(region = value), displayInfluenceTables);"
      ],
      "execution_count": null,
      "outputs": [
        {
          "output_type": "display_data",
          "data": {
            "text/html": [
              "<div>\n",
              "<style scoped>\n",
              "    .dataframe tbody tr th:only-of-type {\n",
              "        vertical-align: middle;\n",
              "    }\n",
              "\n",
              "    .dataframe tbody tr th {\n",
              "        vertical-align: top;\n",
              "    }\n",
              "\n",
              "    .dataframe thead th {\n",
              "        text-align: right;\n",
              "    }\n",
              "</style>\n",
              "<table border=\"1\" class=\"dataframe\">\n",
              "  <thead>\n",
              "    <tr style=\"text-align: right;\">\n",
              "      <th></th>\n",
              "      <th>children</th>\n",
              "      <th>custo</th>\n",
              "    </tr>\n",
              "  </thead>\n",
              "  <tbody>\n",
              "    <tr>\n",
              "      <th>0</th>\n",
              "      <td>0</td>\n",
              "      <td>5501.66</td>\n",
              "    </tr>\n",
              "    <tr>\n",
              "      <th>1</th>\n",
              "      <td>1</td>\n",
              "      <td>6104.08</td>\n",
              "    </tr>\n",
              "    <tr>\n",
              "      <th>2</th>\n",
              "      <td>2</td>\n",
              "      <td>7139.30</td>\n",
              "    </tr>\n",
              "    <tr>\n",
              "      <th>3</th>\n",
              "      <td>3</td>\n",
              "      <td>6865.39</td>\n",
              "    </tr>\n",
              "    <tr>\n",
              "      <th>4</th>\n",
              "      <td>4</td>\n",
              "      <td>6763.85</td>\n",
              "    </tr>\n",
              "    <tr>\n",
              "      <th>5</th>\n",
              "      <td>5</td>\n",
              "      <td>6763.85</td>\n",
              "    </tr>\n",
              "  </tbody>\n",
              "</table>\n",
              "</div>"
            ],
            "text/plain": [
              "   children    custo\n",
              "0         0  5501.66\n",
              "1         1  6104.08\n",
              "2         2  7139.30\n",
              "3         3  6865.39\n",
              "4         4  6763.85\n",
              "5         5  6763.85"
            ]
          },
          "metadata": {
            "tags": []
          }
        },
        {
          "output_type": "display_data",
          "data": {
            "text/html": [
              "<div>\n",
              "<style scoped>\n",
              "    .dataframe tbody tr th:only-of-type {\n",
              "        vertical-align: middle;\n",
              "    }\n",
              "\n",
              "    .dataframe tbody tr th {\n",
              "        vertical-align: top;\n",
              "    }\n",
              "\n",
              "    .dataframe thead th {\n",
              "        text-align: right;\n",
              "    }\n",
              "</style>\n",
              "<table border=\"1\" class=\"dataframe\">\n",
              "  <thead>\n",
              "    <tr style=\"text-align: right;\">\n",
              "      <th></th>\n",
              "      <th>region</th>\n",
              "      <th>custo</th>\n",
              "    </tr>\n",
              "  </thead>\n",
              "  <tbody>\n",
              "    <tr>\n",
              "      <th>0</th>\n",
              "      <td>south</td>\n",
              "      <td>7139.30</td>\n",
              "    </tr>\n",
              "    <tr>\n",
              "      <th>1</th>\n",
              "      <td>north</td>\n",
              "      <td>7139.30</td>\n",
              "    </tr>\n",
              "    <tr>\n",
              "      <th>2</th>\n",
              "      <td>east</td>\n",
              "      <td>7139.30</td>\n",
              "    </tr>\n",
              "    <tr>\n",
              "      <th>3</th>\n",
              "      <td>west</td>\n",
              "      <td>7139.30</td>\n",
              "    </tr>\n",
              "    <tr>\n",
              "      <th>4</th>\n",
              "      <td>southeast</td>\n",
              "      <td>6777.27</td>\n",
              "    </tr>\n",
              "    <tr>\n",
              "      <th>5</th>\n",
              "      <td>southwest</td>\n",
              "      <td>6257.01</td>\n",
              "    </tr>\n",
              "    <tr>\n",
              "      <th>6</th>\n",
              "      <td>northeast</td>\n",
              "      <td>8232.42</td>\n",
              "    </tr>\n",
              "    <tr>\n",
              "      <th>7</th>\n",
              "      <td>northwest</td>\n",
              "      <td>7139.30</td>\n",
              "    </tr>\n",
              "  </tbody>\n",
              "</table>\n",
              "</div>"
            ],
            "text/plain": [
              "      region    custo\n",
              "0      south  7139.30\n",
              "1      north  7139.30\n",
              "2       east  7139.30\n",
              "3       west  7139.30\n",
              "4  southeast  6777.27\n",
              "5  southwest  6257.01\n",
              "6  northeast  8232.42\n",
              "7  northwest  7139.30"
            ]
          },
          "metadata": {
            "tags": []
          }
        }
      ]
    },
    {
      "cell_type": "code",
      "metadata": {
        "colab": {
          "base_uri": "https://localhost:8080/",
          "height": 225
        },
        "id": "t4wKsq5PUVJy",
        "outputId": "12337efa-4c68-4177-b22b-f5a6615011f8"
      },
      "source": [
        "absInfluenceColumnName = 'influence measured by standard deviaton';\n",
        "dfAllInfluence = pd.DataFrame(index= allInfluence.keys(), data= allInfluence.values(), columns= [absInfluenceColumnName]);\n",
        "dfAllInfluence[absInfluenceColumnName] = [int(val) for val in dfAllInfluence[absInfluenceColumnName]];\n",
        "\n",
        "minInfluenceScore = dfAllInfluence.min(0)[absInfluenceColumnName];\n",
        "dfAllInfluence['influence relative'] = [('x {:.2f}'.format(val / minInfluenceScore)) for val in dfAllInfluence[absInfluenceColumnName]];\n",
        "\n",
        "display(dfAllInfluence.sort_values(by= absInfluenceColumnName, ascending= False))"
      ],
      "execution_count": null,
      "outputs": [
        {
          "output_type": "display_data",
          "data": {
            "text/html": [
              "<div>\n",
              "<style scoped>\n",
              "    .dataframe tbody tr th:only-of-type {\n",
              "        vertical-align: middle;\n",
              "    }\n",
              "\n",
              "    .dataframe tbody tr th {\n",
              "        vertical-align: top;\n",
              "    }\n",
              "\n",
              "    .dataframe thead th {\n",
              "        text-align: right;\n",
              "    }\n",
              "</style>\n",
              "<table border=\"1\" class=\"dataframe\">\n",
              "  <thead>\n",
              "    <tr style=\"text-align: right;\">\n",
              "      <th></th>\n",
              "      <th>influence measured by standard deviaton</th>\n",
              "      <th>influence relative</th>\n",
              "    </tr>\n",
              "  </thead>\n",
              "  <tbody>\n",
              "    <tr>\n",
              "      <th>smoker</th>\n",
              "      <td>8909</td>\n",
              "      <td>x 129.12</td>\n",
              "    </tr>\n",
              "    <tr>\n",
              "      <th>age</th>\n",
              "      <td>4274</td>\n",
              "      <td>x 61.94</td>\n",
              "    </tr>\n",
              "    <tr>\n",
              "      <th>bmi</th>\n",
              "      <td>802</td>\n",
              "      <td>x 11.62</td>\n",
              "    </tr>\n",
              "    <tr>\n",
              "      <th>children</th>\n",
              "      <td>605</td>\n",
              "      <td>x 8.77</td>\n",
              "    </tr>\n",
              "    <tr>\n",
              "      <th>region</th>\n",
              "      <td>547</td>\n",
              "      <td>x 7.93</td>\n",
              "    </tr>\n",
              "    <tr>\n",
              "      <th>sex</th>\n",
              "      <td>69</td>\n",
              "      <td>x 1.00</td>\n",
              "    </tr>\n",
              "  </tbody>\n",
              "</table>\n",
              "</div>"
            ],
            "text/plain": [
              "          influence measured by standard deviaton influence relative\n",
              "smoker                                       8909           x 129.12\n",
              "age                                          4274            x 61.94\n",
              "bmi                                           802            x 11.62\n",
              "children                                      605             x 8.77\n",
              "region                                        547             x 7.93\n",
              "sex                                            69             x 1.00"
            ]
          },
          "metadata": {
            "tags": []
          }
        }
      ]
    },
    {
      "cell_type": "markdown",
      "metadata": {
        "id": "EOiwzZiyYyXa"
      },
      "source": [
        "Concluindo dessa análise, os fatores mais relevantes para determinação do custo são ser fumante e a idade do avaliado. O índice de massa corpórea, embora em terceiro lugar, não apresenta apresenta um índice 6 vezes menor que o da idade e ao mesmo tempo apenas $ \\approx 33\\% $ maior que o quarto (número de filhos(as)).\n",
        "\n",
        "Essa é apenas uma métrica e seria adequado analisar outras para fazer uma composição de resultados, porém ela já evidencia a grande influência do tabagismo nos custos do o plano de saúde e também uma forte influência da idade, que, como imaginado, é um relação direta: quanto mais velho, maior o gasto."
      ]
    }
  ]
}